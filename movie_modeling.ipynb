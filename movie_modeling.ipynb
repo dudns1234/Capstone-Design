{
 "cells": [
  {
   "cell_type": "code",
   "execution_count": 13,
   "id": "6b54981a-f253-4b89-ba3d-b387b533b9b1",
   "metadata": {},
   "outputs": [],
   "source": [
    "import pandas as pd\n",
    "import numpy as np\n",
    "import scipy as sp\n",
    "import statsmodels.api as sm\n",
    "import statsmodels.formula.api as smf\n",
    "import matplotlib.pyplot as plt\n",
    "import seaborn as sns\n",
    "from sklearn.preprocessing import StandardScaler\n",
    "from sklearn.linear_model import LinearRegression\n",
    "from sklearn.model_selection import cross_val_score"
   ]
  },
  {
   "cell_type": "code",
   "execution_count": 599,
   "id": "6f749ecf-6e3a-4486-b3a4-6c433b9d945f",
   "metadata": {},
   "outputs": [],
   "source": [
    "data = pd.read_excel(\"일단_data_set.xlsx\")"
   ]
  },
  {
   "cell_type": "code",
   "execution_count": 600,
   "id": "7eae85be-0d7e-4e98-bd5d-449405915837",
   "metadata": {},
   "outputs": [],
   "source": [
    "dd_set = pd.read_excel(\"일단_value_data.xlsx\")"
   ]
  },
  {
   "cell_type": "code",
   "execution_count": 601,
   "id": "f297da60-6547-4a68-8952-75a754c6aef3",
   "metadata": {},
   "outputs": [],
   "source": [
    "data = data[data['audience'] >= 10000]"
   ]
  },
  {
   "cell_type": "code",
   "execution_count": 602,
   "id": "45058b5c-f412-4136-970b-8019f4bdc285",
   "metadata": {
    "tags": []
   },
   "outputs": [],
   "source": [
    "data = data.reset_index(drop=True)"
   ]
  },
  {
   "cell_type": "code",
   "execution_count": 603,
   "id": "5bb7292e-f342-4015-a760-2e9bc6c510d5",
   "metadata": {
    "tags": []
   },
   "outputs": [
    {
     "name": "stdout",
     "output_type": "stream",
     "text": [
      "<class 'pandas.core.frame.DataFrame'>\n",
      "RangeIndex: 2641 entries, 0 to 2640\n",
      "Data columns (total 23 columns):\n",
      " #   Column           Non-Null Count  Dtype         \n",
      "---  ------           --------------  -----         \n",
      " 0   movieNm          2641 non-null   object        \n",
      " 1   openDt           2641 non-null   datetime64[ns]\n",
      " 2   total_money      2641 non-null   int64         \n",
      " 3   audience         2641 non-null   int64         \n",
      " 4   screen_num       2641 non-null   int64         \n",
      " 5   show_num         2641 non-null   int64         \n",
      " 6   배급사              2635 non-null   object        \n",
      " 7   movieCd          2641 non-null   object        \n",
      " 8   director         2641 non-null   object        \n",
      " 9   prdtYear         2641 non-null   int64         \n",
      " 10  typeNm           2641 non-null   object        \n",
      " 11  repNationNm      2641 non-null   object        \n",
      " 12  repGenreNm       2641 non-null   object        \n",
      " 13  showTm           2636 non-null   float64       \n",
      " 14  watchGradeNm     2640 non-null   object        \n",
      " 15  actor_1          2473 non-null   object        \n",
      " 16  actor_2          2378 non-null   object        \n",
      " 17  actor_3          1940 non-null   object        \n",
      " 18  companyNm        2641 non-null   object        \n",
      " 19  star_score       2641 non-null   float64       \n",
      " 20  star_user_count  2641 non-null   int64         \n",
      " 21  netizen_score    2641 non-null   float64       \n",
      " 22  netizen_count    2641 non-null   int64         \n",
      "dtypes: datetime64[ns](1), float64(3), int64(7), object(12)\n",
      "memory usage: 474.7+ KB\n"
     ]
    }
   ],
   "source": [
    "data.info()"
   ]
  },
  {
   "cell_type": "code",
   "execution_count": 604,
   "id": "95c32f0c-6f40-4fce-b605-20e71f071a76",
   "metadata": {
    "tags": []
   },
   "outputs": [],
   "source": [
    "dd_set.drop(['distributor'],axis=1,inplace=True)\n",
    "dd_set.drop(['typeNm'],axis=1,inplace=True)"
   ]
  },
  {
   "cell_type": "code",
   "execution_count": 605,
   "id": "d3e0b6cc-9119-415e-820f-0266c24851c0",
   "metadata": {},
   "outputs": [],
   "source": [
    "modeling_data = pd.concat([dd_set,data[\"audience\"]],axis=1)"
   ]
  },
  {
   "cell_type": "markdown",
   "id": "81c821bd-b21e-4a3e-adbb-fafe212f917b",
   "metadata": {},
   "source": [
    "scaling"
   ]
  },
  {
   "cell_type": "code",
   "execution_count": 606,
   "id": "823b33c5-3452-4396-9153-82011c12939e",
   "metadata": {
    "tags": []
   },
   "outputs": [
    {
     "name": "stderr",
     "output_type": "stream",
     "text": [
      "C:\\Users\\dudns\\anaconda3\\lib\\site-packages\\statsmodels\\tsa\\tsatools.py:142: FutureWarning: In a future version of pandas all arguments of concat except for the argument 'objs' will be keyword-only\n",
      "  x = pd.concat(x[::order], 1)\n"
     ]
    },
    {
     "data": {
      "text/html": [
       "<div>\n",
       "<style scoped>\n",
       "    .dataframe tbody tr th:only-of-type {\n",
       "        vertical-align: middle;\n",
       "    }\n",
       "\n",
       "    .dataframe tbody tr th {\n",
       "        vertical-align: top;\n",
       "    }\n",
       "\n",
       "    .dataframe thead th {\n",
       "        text-align: right;\n",
       "    }\n",
       "</style>\n",
       "<table border=\"1\" class=\"dataframe\">\n",
       "  <thead>\n",
       "    <tr style=\"text-align: right;\">\n",
       "      <th></th>\n",
       "      <th>const</th>\n",
       "      <th>total_money</th>\n",
       "      <th>screen_num</th>\n",
       "      <th>show_num</th>\n",
       "      <th>star_score</th>\n",
       "      <th>star_user_count</th>\n",
       "      <th>netizen_score</th>\n",
       "      <th>netizen_count</th>\n",
       "      <th>director_score</th>\n",
       "      <th>openDt_score</th>\n",
       "      <th>prdtYear_score</th>\n",
       "      <th>repNationNm_score</th>\n",
       "      <th>repGenreNm_score</th>\n",
       "      <th>showTm_score</th>\n",
       "      <th>watchGradeNm_score</th>\n",
       "      <th>companyNm_score</th>\n",
       "      <th>actor_score</th>\n",
       "      <th>audience</th>\n",
       "    </tr>\n",
       "  </thead>\n",
       "  <tbody>\n",
       "    <tr>\n",
       "      <th>0</th>\n",
       "      <td>1.0</td>\n",
       "      <td>8.2</td>\n",
       "      <td>5.6</td>\n",
       "      <td>6.3</td>\n",
       "      <td>2.3</td>\n",
       "      <td>9.0</td>\n",
       "      <td>7.0</td>\n",
       "      <td>7.8</td>\n",
       "      <td>6.4</td>\n",
       "      <td>9.6</td>\n",
       "      <td>6.6</td>\n",
       "      <td>5.6</td>\n",
       "      <td>4.0</td>\n",
       "      <td>6.3</td>\n",
       "      <td>6.4</td>\n",
       "      <td>10.4</td>\n",
       "      <td>9.5</td>\n",
       "      <td>12186327</td>\n",
       "    </tr>\n",
       "    <tr>\n",
       "      <th>1</th>\n",
       "      <td>1.0</td>\n",
       "      <td>5.8</td>\n",
       "      <td>5.6</td>\n",
       "      <td>3.1</td>\n",
       "      <td>2.2</td>\n",
       "      <td>12.5</td>\n",
       "      <td>6.0</td>\n",
       "      <td>9.1</td>\n",
       "      <td>7.3</td>\n",
       "      <td>8.9</td>\n",
       "      <td>6.6</td>\n",
       "      <td>5.6</td>\n",
       "      <td>5.0</td>\n",
       "      <td>6.3</td>\n",
       "      <td>7.8</td>\n",
       "      <td>10.4</td>\n",
       "      <td>5.6</td>\n",
       "      <td>8539495</td>\n",
       "    </tr>\n",
       "    <tr>\n",
       "      <th>2</th>\n",
       "      <td>1.0</td>\n",
       "      <td>5.4</td>\n",
       "      <td>4.1</td>\n",
       "      <td>4.9</td>\n",
       "      <td>2.2</td>\n",
       "      <td>6.7</td>\n",
       "      <td>6.4</td>\n",
       "      <td>4.0</td>\n",
       "      <td>3.7</td>\n",
       "      <td>9.6</td>\n",
       "      <td>6.1</td>\n",
       "      <td>5.6</td>\n",
       "      <td>6.2</td>\n",
       "      <td>6.3</td>\n",
       "      <td>6.4</td>\n",
       "      <td>10.4</td>\n",
       "      <td>7.1</td>\n",
       "      <td>7817618</td>\n",
       "    </tr>\n",
       "    <tr>\n",
       "      <th>3</th>\n",
       "      <td>1.0</td>\n",
       "      <td>5.1</td>\n",
       "      <td>5.8</td>\n",
       "      <td>5.6</td>\n",
       "      <td>2.2</td>\n",
       "      <td>4.7</td>\n",
       "      <td>6.4</td>\n",
       "      <td>3.0</td>\n",
       "      <td>8.3</td>\n",
       "      <td>12.4</td>\n",
       "      <td>6.6</td>\n",
       "      <td>5.0</td>\n",
       "      <td>6.2</td>\n",
       "      <td>6.3</td>\n",
       "      <td>7.8</td>\n",
       "      <td>10.4</td>\n",
       "      <td>7.6</td>\n",
       "      <td>7258678</td>\n",
       "    </tr>\n",
       "    <tr>\n",
       "      <th>4</th>\n",
       "      <td>1.0</td>\n",
       "      <td>4.8</td>\n",
       "      <td>3.9</td>\n",
       "      <td>5.1</td>\n",
       "      <td>2.3</td>\n",
       "      <td>5.7</td>\n",
       "      <td>7.1</td>\n",
       "      <td>4.6</td>\n",
       "      <td>4.4</td>\n",
       "      <td>8.9</td>\n",
       "      <td>6.6</td>\n",
       "      <td>5.6</td>\n",
       "      <td>5.0</td>\n",
       "      <td>6.3</td>\n",
       "      <td>6.0</td>\n",
       "      <td>10.4</td>\n",
       "      <td>3.0</td>\n",
       "      <td>6879841</td>\n",
       "    </tr>\n",
       "    <tr>\n",
       "      <th>...</th>\n",
       "      <td>...</td>\n",
       "      <td>...</td>\n",
       "      <td>...</td>\n",
       "      <td>...</td>\n",
       "      <td>...</td>\n",
       "      <td>...</td>\n",
       "      <td>...</td>\n",
       "      <td>...</td>\n",
       "      <td>...</td>\n",
       "      <td>...</td>\n",
       "      <td>...</td>\n",
       "      <td>...</td>\n",
       "      <td>...</td>\n",
       "      <td>...</td>\n",
       "      <td>...</td>\n",
       "      <td>...</td>\n",
       "      <td>...</td>\n",
       "      <td>...</td>\n",
       "    </tr>\n",
       "    <tr>\n",
       "      <th>2636</th>\n",
       "      <td>1.0</td>\n",
       "      <td>0.0</td>\n",
       "      <td>0.2</td>\n",
       "      <td>0.0</td>\n",
       "      <td>0.0</td>\n",
       "      <td>0.0</td>\n",
       "      <td>6.3</td>\n",
       "      <td>0.0</td>\n",
       "      <td>1.0</td>\n",
       "      <td>8.9</td>\n",
       "      <td>5.7</td>\n",
       "      <td>3.3</td>\n",
       "      <td>3.4</td>\n",
       "      <td>3.4</td>\n",
       "      <td>5.0</td>\n",
       "      <td>10.4</td>\n",
       "      <td>0.9</td>\n",
       "      <td>11116</td>\n",
       "    </tr>\n",
       "    <tr>\n",
       "      <th>2637</th>\n",
       "      <td>1.0</td>\n",
       "      <td>0.0</td>\n",
       "      <td>0.0</td>\n",
       "      <td>0.0</td>\n",
       "      <td>0.0</td>\n",
       "      <td>0.0</td>\n",
       "      <td>6.5</td>\n",
       "      <td>0.1</td>\n",
       "      <td>1.0</td>\n",
       "      <td>9.6</td>\n",
       "      <td>5.7</td>\n",
       "      <td>3.3</td>\n",
       "      <td>4.0</td>\n",
       "      <td>6.3</td>\n",
       "      <td>7.8</td>\n",
       "      <td>10.4</td>\n",
       "      <td>0.0</td>\n",
       "      <td>10913</td>\n",
       "    </tr>\n",
       "    <tr>\n",
       "      <th>2638</th>\n",
       "      <td>1.0</td>\n",
       "      <td>0.0</td>\n",
       "      <td>0.1</td>\n",
       "      <td>0.0</td>\n",
       "      <td>0.0</td>\n",
       "      <td>0.0</td>\n",
       "      <td>5.8</td>\n",
       "      <td>0.0</td>\n",
       "      <td>1.0</td>\n",
       "      <td>8.9</td>\n",
       "      <td>5.3</td>\n",
       "      <td>3.3</td>\n",
       "      <td>3.4</td>\n",
       "      <td>3.4</td>\n",
       "      <td>5.0</td>\n",
       "      <td>10.4</td>\n",
       "      <td>0.9</td>\n",
       "      <td>10885</td>\n",
       "    </tr>\n",
       "    <tr>\n",
       "      <th>2639</th>\n",
       "      <td>1.0</td>\n",
       "      <td>0.0</td>\n",
       "      <td>0.3</td>\n",
       "      <td>0.1</td>\n",
       "      <td>0.0</td>\n",
       "      <td>0.0</td>\n",
       "      <td>3.8</td>\n",
       "      <td>0.0</td>\n",
       "      <td>1.0</td>\n",
       "      <td>10.3</td>\n",
       "      <td>5.7</td>\n",
       "      <td>5.6</td>\n",
       "      <td>4.4</td>\n",
       "      <td>4.1</td>\n",
       "      <td>6.4</td>\n",
       "      <td>10.4</td>\n",
       "      <td>0.9</td>\n",
       "      <td>10449</td>\n",
       "    </tr>\n",
       "    <tr>\n",
       "      <th>2640</th>\n",
       "      <td>1.0</td>\n",
       "      <td>0.0</td>\n",
       "      <td>0.0</td>\n",
       "      <td>0.0</td>\n",
       "      <td>0.0</td>\n",
       "      <td>0.0</td>\n",
       "      <td>6.3</td>\n",
       "      <td>0.0</td>\n",
       "      <td>1.0</td>\n",
       "      <td>9.6</td>\n",
       "      <td>5.7</td>\n",
       "      <td>5.0</td>\n",
       "      <td>3.1</td>\n",
       "      <td>4.1</td>\n",
       "      <td>5.0</td>\n",
       "      <td>10.4</td>\n",
       "      <td>0.0</td>\n",
       "      <td>10202</td>\n",
       "    </tr>\n",
       "  </tbody>\n",
       "</table>\n",
       "<p>2641 rows × 18 columns</p>\n",
       "</div>"
      ],
      "text/plain": [
       "      const  total_money  screen_num  show_num  star_score  star_user_count  \\\n",
       "0       1.0          8.2         5.6       6.3         2.3              9.0   \n",
       "1       1.0          5.8         5.6       3.1         2.2             12.5   \n",
       "2       1.0          5.4         4.1       4.9         2.2              6.7   \n",
       "3       1.0          5.1         5.8       5.6         2.2              4.7   \n",
       "4       1.0          4.8         3.9       5.1         2.3              5.7   \n",
       "...     ...          ...         ...       ...         ...              ...   \n",
       "2636    1.0          0.0         0.2       0.0         0.0              0.0   \n",
       "2637    1.0          0.0         0.0       0.0         0.0              0.0   \n",
       "2638    1.0          0.0         0.1       0.0         0.0              0.0   \n",
       "2639    1.0          0.0         0.3       0.1         0.0              0.0   \n",
       "2640    1.0          0.0         0.0       0.0         0.0              0.0   \n",
       "\n",
       "      netizen_score  netizen_count  director_score  openDt_score  \\\n",
       "0               7.0            7.8             6.4           9.6   \n",
       "1               6.0            9.1             7.3           8.9   \n",
       "2               6.4            4.0             3.7           9.6   \n",
       "3               6.4            3.0             8.3          12.4   \n",
       "4               7.1            4.6             4.4           8.9   \n",
       "...             ...            ...             ...           ...   \n",
       "2636            6.3            0.0             1.0           8.9   \n",
       "2637            6.5            0.1             1.0           9.6   \n",
       "2638            5.8            0.0             1.0           8.9   \n",
       "2639            3.8            0.0             1.0          10.3   \n",
       "2640            6.3            0.0             1.0           9.6   \n",
       "\n",
       "      prdtYear_score  repNationNm_score  repGenreNm_score  showTm_score  \\\n",
       "0                6.6                5.6               4.0           6.3   \n",
       "1                6.6                5.6               5.0           6.3   \n",
       "2                6.1                5.6               6.2           6.3   \n",
       "3                6.6                5.0               6.2           6.3   \n",
       "4                6.6                5.6               5.0           6.3   \n",
       "...              ...                ...               ...           ...   \n",
       "2636             5.7                3.3               3.4           3.4   \n",
       "2637             5.7                3.3               4.0           6.3   \n",
       "2638             5.3                3.3               3.4           3.4   \n",
       "2639             5.7                5.6               4.4           4.1   \n",
       "2640             5.7                5.0               3.1           4.1   \n",
       "\n",
       "      watchGradeNm_score  companyNm_score  actor_score  audience  \n",
       "0                    6.4             10.4          9.5  12186327  \n",
       "1                    7.8             10.4          5.6   8539495  \n",
       "2                    6.4             10.4          7.1   7817618  \n",
       "3                    7.8             10.4          7.6   7258678  \n",
       "4                    6.0             10.4          3.0   6879841  \n",
       "...                  ...              ...          ...       ...  \n",
       "2636                 5.0             10.4          0.9     11116  \n",
       "2637                 7.8             10.4          0.0     10913  \n",
       "2638                 5.0             10.4          0.9     10885  \n",
       "2639                 6.4             10.4          0.9     10449  \n",
       "2640                 5.0             10.4          0.0     10202  \n",
       "\n",
       "[2641 rows x 18 columns]"
      ]
     },
     "execution_count": 606,
     "metadata": {},
     "output_type": "execute_result"
    }
   ],
   "source": [
    "X = modeling_data.iloc[:,:-1] #X = modeling_data.iloc[:,:-1]\n",
    "scaler = StandardScaler(with_mean=False)\n",
    "X_scaled = scaler.fit_transform(X)\n",
    "\n",
    "dfX0 = pd.DataFrame(X_scaled, columns=X.columns)\n",
    "dfX = sm.add_constant(dfX0)\n",
    "dfy = pd.DataFrame(modeling_data.iloc[:,-1], columns=[\"audience\"])\n",
    "d_df = pd.concat([dfX, dfy], axis=1)\n",
    "d_df"
   ]
  },
  {
   "cell_type": "code",
   "execution_count": 607,
   "id": "eec24abf-6884-468b-a6d9-49f0b046216d",
   "metadata": {},
   "outputs": [
    {
     "data": {
      "image/png": "[encoded data removed]",
      "text/plain": [
       "<Figure size 1000x800 with 2 Axes>"
      ]
     },
     "metadata": {},
     "output_type": "display_data"
    }
   ],
   "source": [
    "plt.figure(figsize=[10,8])\n",
    "sns.heatmap(d_df.corr(), annot = True, annot_kws={\"size\": 8});\n",
    "plt.show()"
   ]
  },
  {
   "cell_type": "code",
   "execution_count": 666,
   "id": "b407b934-c729-4a89-96cd-c093d5faa416",
   "metadata": {
    "tags": []
   },
   "outputs": [],
   "source": [
    "from sklearn.model_selection import train_test_split\n",
    "X= d_df.iloc[:,:-1]\n",
    "y = d_df.iloc[:,-1]\n",
    "X_train, X_test, y_train, y_test = train_test_split(X, y, test_size=0.25, random_state=0)"
   ]
  },
  {
   "cell_type": "markdown",
   "id": "9a3491bb-c12a-443c-af92-b00a4737234c",
   "metadata": {},
   "source": [
    "Summary OLS"
   ]
  },
  {
   "cell_type": "code",
   "execution_count": 609,
   "id": "8338148c-f405-4c42-9568-d7a5c4a60c9b",
   "metadata": {},
   "outputs": [
    {
     "data": {
      "text/plain": [
       "(1980,)"
      ]
     },
     "execution_count": 609,
     "metadata": {},
     "output_type": "execute_result"
    }
   ],
   "source": [
    "y_train.shape"
   ]
  },
  {
   "cell_type": "raw",
   "id": "cdb4e1b3-464e-4f38-be52-49052ded8d2f",
   "metadata": {},
   "source": [
    "1. 기본 변수들로 시작"
   ]
  },
  {
   "cell_type": "code",
   "execution_count": 610,
   "id": "55707799-264e-4fdb-8388-5e102f02d40a",
   "metadata": {},
   "outputs": [],
   "source": [
    "target_df = d_df[['audience']]"
   ]
  },
  {
   "cell_type": "code",
   "execution_count": 611,
   "id": "f2afa70e-2e96-40d7-9183-ede514e75ae5",
   "metadata": {},
   "outputs": [],
   "source": [
    "feature_df = d_df[['openDt_score', 'prdtYear_score', 'repNationNm_score','repGenreNm_score', 'showTm_score', 'watchGradeNm_score','companyNm_score']] #'total_money',"
   ]
  },
  {
   "cell_type": "code",
   "execution_count": 612,
   "id": "23f7b8f8-fea6-4966-8fee-d9b75cb55e08",
   "metadata": {},
   "outputs": [
    {
     "name": "stdout",
     "output_type": "stream",
     "text": [
      "                                 OLS Regression Results                                \n",
      "=======================================================================================\n",
      "Dep. Variable:               audience   R-squared (uncentered):                   0.256\n",
      "Model:                            OLS   Adj. R-squared (uncentered):              0.254\n",
      "Method:                 Least Squares   F-statistic:                              129.6\n",
      "Date:                Sun, 28 Nov 2021   Prob (F-statistic):                   2.94e-164\n",
      "Time:                        20:55:38   Log-Likelihood:                         -41031.\n",
      "No. Observations:                2641   AIC:                                  8.208e+04\n",
      "Df Residuals:                    2634   BIC:                                  8.212e+04\n",
      "Df Model:                           7                                                  \n",
      "Covariance Type:            nonrobust                                                  \n",
      "======================================================================================\n",
      "                         coef    std err          t      P>|t|      [0.025      0.975]\n",
      "--------------------------------------------------------------------------------------\n",
      "openDt_score       -8.734e+04   2.17e+04     -4.031      0.000    -1.3e+05   -4.49e+04\n",
      "prdtYear_score      1.437e+05   2.48e+04      5.792      0.000     9.5e+04    1.92e+05\n",
      "repNationNm_score   1.866e+05    2.7e+04      6.921      0.000    1.34e+05     2.4e+05\n",
      "repGenreNm_score    2.219e+05   2.94e+04      7.537      0.000    1.64e+05     2.8e+05\n",
      "showTm_score        2.468e+05   2.85e+04      8.669      0.000    1.91e+05    3.03e+05\n",
      "watchGradeNm_score -9.694e+04   2.77e+04     -3.494      0.000   -1.51e+05   -4.25e+04\n",
      "companyNm_score    -1.618e+05   2.19e+04     -7.392      0.000   -2.05e+05   -1.19e+05\n",
      "==============================================================================\n",
      "Omnibus:                     2500.004   Durbin-Watson:                   0.435\n",
      "Prob(Omnibus):                  0.000   Jarque-Bera (JB):           106515.065\n",
      "Skew:                           4.548   Prob(JB):                         0.00\n",
      "Kurtosis:                      32.753   Cond. No.                         23.1\n",
      "==============================================================================\n",
      "\n",
      "Notes:\n",
      "[1] R² is computed without centering (uncentered) since the model does not contain a constant.\n",
      "[2] Standard Errors assume that the covariance matrix of the errors is correctly specified.\n"
     ]
    }
   ],
   "source": [
    "model1 = sm.OLS(target_df,feature_df)\n",
    "result1 = model1.fit()\n",
    "print(result1.summary())"
   ]
  },
  {
   "cell_type": "code",
   "execution_count": 613,
   "id": "b8499f49-1f7e-4d9e-8d91-d902aadf981d",
   "metadata": {},
   "outputs": [
    {
     "name": "stdout",
     "output_type": "stream",
     "text": [
      "rsquared =  0.11889248782989448\n",
      "Mean_Squared_Error =  2671201540179.499\n",
      "RMSE =  1634381.0878064819\n"
     ]
    }
   ],
   "source": [
    "# model1의 테스트 R\n",
    "from sklearn.metrics import mean_squared_error\n",
    "rsquared_dict = {}\n",
    "MSE_dict = {}\n",
    "RMSE_dict = {}\n",
    "pred = result1.predict(X_test[['openDt_score', 'prdtYear_score', 'repNationNm_score','repGenreNm_score', 'showTm_score', 'watchGradeNm_score','companyNm_score']])\n",
    "\n",
    "rss = ((y_test - pred) ** 2).sum()\n",
    "tss = ((y_test - y_test.mean()) ** 2).sum()\n",
    "rsquared = 1 - rss/tss\n",
    "print('rsquared = ', rsquared)\n",
    "print('Mean_Squared_Error = ', mean_squared_error(pred, y_test))\n",
    "print('RMSE = ', mean_squared_error(pred, y_test)**0.5)\n",
    "rsquared_dict['model1'] = rsquared\n",
    "MSE_dict['model1'] = mean_squared_error(pred, y_test)\n",
    "RMSE_dict['model1'] = mean_squared_error(pred, y_test)**0.5"
   ]
  },
  {
   "cell_type": "raw",
   "id": "38893a9a-4016-411f-ab0a-1d688cd3fb22",
   "metadata": {},
   "source": [
    "2. 'screen_num', 'show_num' 변수 추가"
   ]
  },
  {
   "cell_type": "code",
   "execution_count": 614,
   "id": "a3d44608-727d-4249-8c5c-6c38a9ffbce1",
   "metadata": {},
   "outputs": [],
   "source": [
    "feature_df = d_df[['openDt_score', 'prdtYear_score', 'repNationNm_score','repGenreNm_score', 'showTm_score', 'watchGradeNm_score','companyNm_score','screen_num', 'show_num']]"
   ]
  },
  {
   "cell_type": "code",
   "execution_count": 615,
   "id": "3e025f0a-a3a7-4e86-9f18-235b85d477ad",
   "metadata": {},
   "outputs": [
    {
     "name": "stdout",
     "output_type": "stream",
     "text": [
      "                                 OLS Regression Results                                \n",
      "=======================================================================================\n",
      "Dep. Variable:               audience   R-squared (uncentered):                   0.931\n",
      "Model:                            OLS   Adj. R-squared (uncentered):              0.931\n",
      "Method:                 Least Squares   F-statistic:                              3964.\n",
      "Date:                Sun, 28 Nov 2021   Prob (F-statistic):                        0.00\n",
      "Time:                        20:55:47   Log-Likelihood:                         -37886.\n",
      "No. Observations:                2641   AIC:                                  7.579e+04\n",
      "Df Residuals:                    2632   BIC:                                  7.584e+04\n",
      "Df Model:                           9                                                  \n",
      "Covariance Type:            nonrobust                                                  \n",
      "======================================================================================\n",
      "                         coef    std err          t      P>|t|      [0.025      0.975]\n",
      "--------------------------------------------------------------------------------------\n",
      "openDt_score        5.336e+04   6646.378      8.028      0.000    4.03e+04    6.64e+04\n",
      "prdtYear_score     -1.318e+04   7606.128     -1.733      0.083   -2.81e+04    1732.029\n",
      "repNationNm_score  -5.554e+04   8395.538     -6.616      0.000    -7.2e+04   -3.91e+04\n",
      "repGenreNm_score   -4.902e+04   9212.404     -5.322      0.000   -6.71e+04    -3.1e+04\n",
      "showTm_score        3.327e+04   8769.642      3.794      0.000    1.61e+04    5.05e+04\n",
      "watchGradeNm_score -3.457e+04   8479.944     -4.077      0.000   -5.12e+04   -1.79e+04\n",
      "companyNm_score    -1456.9450   6732.849     -0.216      0.829   -1.47e+04    1.17e+04\n",
      "screen_num         -1.355e+05   1.55e+04     -8.760      0.000   -1.66e+05   -1.05e+05\n",
      "show_num            1.518e+06   1.52e+04     99.886      0.000    1.49e+06    1.55e+06\n",
      "==============================================================================\n",
      "Omnibus:                     1934.059   Durbin-Watson:                   1.235\n",
      "Prob(Omnibus):                  0.000   Jarque-Bera (JB):           130766.784\n",
      "Skew:                           2.829   Prob(JB):                         0.00\n",
      "Kurtosis:                      37.005   Cond. No.                         48.0\n",
      "==============================================================================\n",
      "\n",
      "Notes:\n",
      "[1] R² is computed without centering (uncentered) since the model does not contain a constant.\n",
      "[2] Standard Errors assume that the covariance matrix of the errors is correctly specified.\n"
     ]
    }
   ],
   "source": [
    "model2 = sm.OLS(target_df, feature_df)\n",
    "result2 = model2.fit()\n",
    "print(result2.summary())"
   ]
  },
  {
   "cell_type": "code",
   "execution_count": 616,
   "id": "683f0ed4-cacc-45ae-9d4b-33e17f2daaad",
   "metadata": {},
   "outputs": [
    {
     "name": "stdout",
     "output_type": "stream",
     "text": [
      "rsquared =  0.9140328744598893\n",
      "Mean_Squared_Error =  260621450817.0199\n",
      "RMSE =  510510.970319953\n"
     ]
    }
   ],
   "source": [
    "# model1의 테스트 R\n",
    "from sklearn.metrics import mean_squared_error\n",
    "\n",
    "pred = result2.predict(X_test[['openDt_score', 'prdtYear_score', 'repNationNm_score','repGenreNm_score', 'showTm_score', 'watchGradeNm_score','companyNm_score','screen_num', 'show_num']])\n",
    "\n",
    "rss = ((y_test - pred) ** 2).sum()\n",
    "tss = ((y_test - y_test.mean()) ** 2).sum()\n",
    "rsquared = 1 - rss/tss\n",
    "print('rsquared = ', rsquared)\n",
    "print('Mean_Squared_Error = ', mean_squared_error(pred, y_test))\n",
    "print('RMSE = ', mean_squared_error(pred, y_test)**0.5)\n",
    "rsquared_dict['model2'] = rsquared\n",
    "MSE_dict['model2'] = mean_squared_error(pred, y_test)\n",
    "RMSE_dict['model2'] = mean_squared_error(pred, y_test)**0.5"
   ]
  },
  {
   "cell_type": "raw",
   "id": "e93896ce-e47a-4869-a164-e56cc42e856c",
   "metadata": {},
   "source": [
    "3. 'star_score','star_user_count', 'netizen_score', 'netizen_count' 변수 추가"
   ]
  },
  {
   "cell_type": "code",
   "execution_count": 617,
   "id": "de01a463-0803-4555-8ebf-2a165cc518d9",
   "metadata": {},
   "outputs": [],
   "source": [
    "feature_df = d_df[['openDt_score', 'prdtYear_score', 'repNationNm_score','repGenreNm_score', 'showTm_score', 'watchGradeNm_score','companyNm_score','screen_num', 'show_num','star_score','star_user_count', 'netizen_score', 'netizen_count']] #'total_money',"
   ]
  },
  {
   "cell_type": "code",
   "execution_count": 618,
   "id": "4e3b3047-30fd-45f7-8414-4a0c16725e44",
   "metadata": {},
   "outputs": [
    {
     "name": "stdout",
     "output_type": "stream",
     "text": [
      "                                 OLS Regression Results                                \n",
      "=======================================================================================\n",
      "Dep. Variable:               audience   R-squared (uncentered):                   0.950\n",
      "Model:                            OLS   Adj. R-squared (uncentered):              0.950\n",
      "Method:                 Least Squares   F-statistic:                              3853.\n",
      "Date:                Sun, 28 Nov 2021   Prob (F-statistic):                        0.00\n",
      "Time:                        20:55:53   Log-Likelihood:                         -37462.\n",
      "No. Observations:                2641   AIC:                                  7.495e+04\n",
      "Df Residuals:                    2628   BIC:                                  7.503e+04\n",
      "Df Model:                          13                                                  \n",
      "Covariance Type:            nonrobust                                                  \n",
      "======================================================================================\n",
      "                         coef    std err          t      P>|t|      [0.025      0.975]\n",
      "--------------------------------------------------------------------------------------\n",
      "openDt_score        4.222e+04   5794.667      7.286      0.000    3.09e+04    5.36e+04\n",
      "prdtYear_score      3.543e+04   6919.180      5.120      0.000    2.19e+04     4.9e+04\n",
      "repNationNm_score  -5.051e+04   7256.366     -6.961      0.000   -6.47e+04   -3.63e+04\n",
      "repGenreNm_score   -2.799e+04   8030.319     -3.485      0.000   -4.37e+04   -1.22e+04\n",
      "showTm_score        5100.5137   7728.870      0.660      0.509   -1.01e+04    2.03e+04\n",
      "watchGradeNm_score  -4.42e+04   7310.372     -6.047      0.000   -5.85e+04   -2.99e+04\n",
      "companyNm_score    -8255.3578   6033.569     -1.368      0.171   -2.01e+04    3575.669\n",
      "screen_num         -1.996e+05   1.44e+04    -13.897      0.000   -2.28e+05   -1.71e+05\n",
      "show_num            1.307e+06   1.54e+04     84.616      0.000    1.28e+06    1.34e+06\n",
      "star_score         -3.881e+04   7952.550     -4.880      0.000   -5.44e+04   -2.32e+04\n",
      "star_user_count     2.074e+05    1.1e+04     18.837      0.000    1.86e+05    2.29e+05\n",
      "netizen_score       7515.0722   7066.755      1.063      0.288   -6341.896    2.14e+04\n",
      "netizen_count       1.666e+05    1.2e+04     13.935      0.000    1.43e+05     1.9e+05\n",
      "==============================================================================\n",
      "Omnibus:                     1442.752   Durbin-Watson:                   1.366\n",
      "Prob(Omnibus):                  0.000   Jarque-Bera (JB):           102404.515\n",
      "Skew:                           1.753   Prob(JB):                         0.00\n",
      "Kurtosis:                      33.304   Cond. No.                         57.0\n",
      "==============================================================================\n",
      "\n",
      "Notes:\n",
      "[1] R² is computed without centering (uncentered) since the model does not contain a constant.\n",
      "[2] Standard Errors assume that the covariance matrix of the errors is correctly specified.\n"
     ]
    }
   ],
   "source": [
    "model3 = sm.OLS(target_df, feature_df)\n",
    "result3 = model3.fit()\n",
    "print(result3.summary())"
   ]
  },
  {
   "cell_type": "code",
   "execution_count": 619,
   "id": "4639b867-0819-4a05-9deb-00923cc2e682",
   "metadata": {},
   "outputs": [
    {
     "name": "stdout",
     "output_type": "stream",
     "text": [
      "rsquared =  0.9481228877832348\n",
      "Mean_Squared_Error =  157272773344.29843\n",
      "RMSE =  396576.31465368485\n"
     ]
    }
   ],
   "source": [
    "# model1의 테스트 R\n",
    "from sklearn.metrics import mean_squared_error\n",
    "\n",
    "pred = result3.predict(X_test[['openDt_score', 'prdtYear_score', 'repNationNm_score','repGenreNm_score', 'showTm_score', 'watchGradeNm_score','companyNm_score','screen_num', 'show_num','star_score','star_user_count', 'netizen_score', 'netizen_count']])\n",
    "\n",
    "rss = ((y_test - pred) ** 2).sum()\n",
    "tss = ((y_test - y_test.mean()) ** 2).sum()\n",
    "rsquared = 1 - rss/tss\n",
    "print('rsquared = ', rsquared)\n",
    "print('Mean_Squared_Error = ', mean_squared_error(pred, y_test))\n",
    "print('RMSE = ', mean_squared_error(pred, y_test)**0.5)\n",
    "rsquared_dict['model3'] = rsquared\n",
    "MSE_dict['model3'] = mean_squared_error(pred, y_test)\n",
    "RMSE_dict['model3'] = mean_squared_error(pred, y_test)**0.5"
   ]
  },
  {
   "cell_type": "raw",
   "id": "cc59d61f-0755-4091-a8e6-adb6d654bd56",
   "metadata": {},
   "source": [
    "4. 'actor_score', 'director_score' 변수 추가"
   ]
  },
  {
   "cell_type": "code",
   "execution_count": 620,
   "id": "d163cc0b-3532-426b-a93c-b7cff6de8c43",
   "metadata": {},
   "outputs": [],
   "source": [
    "feature_df = d_df[['openDt_score', 'prdtYear_score', 'repNationNm_score','repGenreNm_score', 'showTm_score', 'watchGradeNm_score','companyNm_score','screen_num', 'show_num','star_score','star_user_count', 'netizen_score', 'netizen_count','actor_score', 'director_score' ]] #'total_money',"
   ]
  },
  {
   "cell_type": "code",
   "execution_count": 621,
   "id": "5365bd28-0292-48e6-911c-d455ccb80448",
   "metadata": {},
   "outputs": [
    {
     "name": "stdout",
     "output_type": "stream",
     "text": [
      "                                 OLS Regression Results                                \n",
      "=======================================================================================\n",
      "Dep. Variable:               audience   R-squared (uncentered):                   0.957\n",
      "Model:                            OLS   Adj. R-squared (uncentered):              0.956\n",
      "Method:                 Least Squares   F-statistic:                              3852.\n",
      "Date:                Sun, 28 Nov 2021   Prob (F-statistic):                        0.00\n",
      "Time:                        20:55:54   Log-Likelihood:                         -37281.\n",
      "No. Observations:                2641   AIC:                                  7.459e+04\n",
      "Df Residuals:                    2626   BIC:                                  7.468e+04\n",
      "Df Model:                          15                                                  \n",
      "Covariance Type:            nonrobust                                                  \n",
      "======================================================================================\n",
      "                         coef    std err          t      P>|t|      [0.025      0.975]\n",
      "--------------------------------------------------------------------------------------\n",
      "openDt_score         3.07e+04   5445.877      5.638      0.000       2e+04    4.14e+04\n",
      "prdtYear_score      3.328e+04   6474.733      5.140      0.000    2.06e+04     4.6e+04\n",
      "repNationNm_score  -6.851e+04   6964.693     -9.837      0.000   -8.22e+04   -5.49e+04\n",
      "repGenreNm_score    -3.27e+04   7506.172     -4.356      0.000   -4.74e+04    -1.8e+04\n",
      "showTm_score       -5544.3162   7244.653     -0.765      0.444   -1.98e+04    8661.491\n",
      "watchGradeNm_score -3.664e+04   6840.535     -5.357      0.000   -5.01e+04   -2.32e+04\n",
      "companyNm_score    -7931.1547   5645.263     -1.405      0.160    -1.9e+04    3138.460\n",
      "screen_num         -1.866e+05   1.34e+04    -13.882      0.000   -2.13e+05    -1.6e+05\n",
      "show_num            1.138e+06   1.68e+04     67.734      0.000    1.11e+06    1.17e+06\n",
      "star_score         -4.064e+04   7455.565     -5.451      0.000   -5.53e+04    -2.6e+04\n",
      "star_user_count     1.826e+05   1.04e+04     17.626      0.000    1.62e+05    2.03e+05\n",
      "netizen_score       7772.1872   6624.852      1.173      0.241   -5218.271    2.08e+04\n",
      "netizen_count       1.291e+05   1.13e+04     11.386      0.000    1.07e+05    1.51e+05\n",
      "actor_score         1.052e+05   1.06e+04      9.891      0.000    8.44e+04    1.26e+05\n",
      "director_score      1.653e+05   1.12e+04     14.785      0.000    1.43e+05    1.87e+05\n",
      "==============================================================================\n",
      "Omnibus:                     1374.556   Durbin-Watson:                   1.458\n",
      "Prob(Omnibus):                  0.000   Jarque-Bera (JB):            76219.850\n",
      "Skew:                           1.691   Prob(JB):                         0.00\n",
      "Kurtosis:                      29.100   Cond. No.                         62.2\n",
      "==============================================================================\n",
      "\n",
      "Notes:\n",
      "[1] R² is computed without centering (uncentered) since the model does not contain a constant.\n",
      "[2] Standard Errors assume that the covariance matrix of the errors is correctly specified.\n"
     ]
    }
   ],
   "source": [
    "model4 = sm.OLS(target_df, feature_df)\n",
    "result4 = model4.fit()\n",
    "print(result4.summary())"
   ]
  },
  {
   "cell_type": "code",
   "execution_count": 622,
   "id": "8ff22139-3f44-4b4a-8498-18aeeeaf5e36",
   "metadata": {},
   "outputs": [
    {
     "name": "stdout",
     "output_type": "stream",
     "text": [
      "rsquared =  0.9554321849064358\n",
      "Mean_Squared_Error =  135113609492.61816\n",
      "RMSE =  367578.0318417005\n"
     ]
    }
   ],
   "source": [
    "# model1의 테스트 R\n",
    "from sklearn.metrics import mean_squared_error\n",
    "\n",
    "pred = result4.predict(X_test[['openDt_score', 'prdtYear_score', 'repNationNm_score','repGenreNm_score', 'showTm_score', 'watchGradeNm_score','companyNm_score','screen_num', 'show_num','star_score','star_user_count', 'netizen_score', 'netizen_count','actor_score', 'director_score']])\n",
    "\n",
    "rss = ((y_test - pred) ** 2).sum()\n",
    "tss = ((y_test - y_test.mean()) ** 2).sum()\n",
    "rsquared = 1 - rss/tss\n",
    "print('rsquared = ', rsquared)\n",
    "print('Mean_Squared_Error = ', mean_squared_error(pred, y_test))\n",
    "print('RMSE = ', mean_squared_error(pred, y_test)**0.5)\n",
    "rsquared_dict['model4'] = rsquared\n",
    "MSE_dict['model4'] = mean_squared_error(pred, y_test)\n",
    "RMSE_dict['model4'] = mean_squared_error(pred, y_test)**0.5"
   ]
  },
  {
   "cell_type": "raw",
   "id": "b83dfd22-0210-4072-83ff-35821fba41ce",
   "metadata": {},
   "source": [
    "5. 상관관계가 높았던 변수들만"
   ]
  },
  {
   "cell_type": "code",
   "execution_count": 623,
   "id": "8f4e8154-f9fa-42e5-81d6-ded55240ad84",
   "metadata": {},
   "outputs": [],
   "source": [
    "feature_df = d_df[['screen_num', 'show_num','star_user_count', 'netizen_count','actor_score', 'director_score']]"
   ]
  },
  {
   "cell_type": "code",
   "execution_count": 624,
   "id": "3616569a-d497-484a-bde7-a61cf8c2f693",
   "metadata": {},
   "outputs": [
    {
     "name": "stdout",
     "output_type": "stream",
     "text": [
      "                                 OLS Regression Results                                \n",
      "=======================================================================================\n",
      "Dep. Variable:               audience   R-squared (uncentered):                   0.947\n",
      "Model:                            OLS   Adj. R-squared (uncentered):              0.947\n",
      "Method:                 Least Squares   F-statistic:                              7869.\n",
      "Date:                Sun, 28 Nov 2021   Prob (F-statistic):                        0.00\n",
      "Time:                        20:55:56   Log-Likelihood:                         -37540.\n",
      "No. Observations:                2641   AIC:                                  7.509e+04\n",
      "Df Residuals:                    2635   BIC:                                  7.513e+04\n",
      "Df Model:                           6                                                  \n",
      "Covariance Type:            nonrobust                                                  \n",
      "===================================================================================\n",
      "                      coef    std err          t      P>|t|      [0.025      0.975]\n",
      "-----------------------------------------------------------------------------------\n",
      "screen_num      -3.331e+05    1.2e+04    -27.781      0.000   -3.57e+05    -3.1e+05\n",
      "show_num         1.323e+06   1.45e+04     90.964      0.000    1.29e+06    1.35e+06\n",
      "star_user_count   2.32e+05   1.06e+04     21.935      0.000    2.11e+05    2.53e+05\n",
      "netizen_count    1.138e+05    1.2e+04      9.487      0.000    9.03e+04    1.37e+05\n",
      "actor_score      3.039e+04    1.1e+04      2.772      0.006    8891.179    5.19e+04\n",
      "director_score   5.701e+04   9476.050      6.016      0.000    3.84e+04    7.56e+04\n",
      "==============================================================================\n",
      "Omnibus:                     1647.968   Durbin-Watson:                   1.404\n",
      "Prob(Omnibus):                  0.000   Jarque-Bera (JB):            88412.900\n",
      "Skew:                           2.259   Prob(JB):                         0.00\n",
      "Kurtosis:                      30.983   Cond. No.                         6.98\n",
      "==============================================================================\n",
      "\n",
      "Notes:\n",
      "[1] R² is computed without centering (uncentered) since the model does not contain a constant.\n",
      "[2] Standard Errors assume that the covariance matrix of the errors is correctly specified.\n"
     ]
    }
   ],
   "source": [
    "model5 = sm.OLS(target_df, feature_df)\n",
    "result5 = model5.fit()\n",
    "print(result5.summary())"
   ]
  },
  {
   "cell_type": "code",
   "execution_count": 625,
   "id": "cc5f123e-6412-4564-a1e0-19ed209f9e22",
   "metadata": {},
   "outputs": [
    {
     "name": "stdout",
     "output_type": "stream",
     "text": [
      "rsquared =  0.9466148666635054\n",
      "Mean_Squared_Error =  161844551795.85593\n",
      "RMSE =  402299.08251928183\n"
     ]
    }
   ],
   "source": [
    "# model1의 테스트 R\n",
    "from sklearn.metrics import mean_squared_error\n",
    "\n",
    "pred = result5.predict(X_test[['screen_num', 'show_num','star_user_count', 'netizen_count','actor_score', 'director_score']])\n",
    "\n",
    "rss = ((y_test - pred) ** 2).sum()\n",
    "tss = ((y_test - y_test.mean()) ** 2).sum()\n",
    "rsquared = 1 - rss/tss\n",
    "print('rsquared = ', rsquared)\n",
    "print('Mean_Squared_Error = ', mean_squared_error(pred, y_test))\n",
    "print('RMSE = ', mean_squared_error(pred, y_test)**0.5)\n",
    "rsquared_dict['model5'] = rsquared\n",
    "MSE_dict['model5'] = mean_squared_error(pred, y_test)\n",
    "RMSE_dict['model5'] = mean_squared_error(pred, y_test)**0.5"
   ]
  },
  {
   "cell_type": "code",
   "execution_count": 626,
   "id": "b01b8df5-f1e9-4634-aaae-23cb99e33b9a",
   "metadata": {},
   "outputs": [
    {
     "data": {
      "text/plain": [
       "({'model1': 1634381.0878064819,\n",
       "  'model2': 510510.970319953,\n",
       "  'model3': 396576.31465368485,\n",
       "  'model4': 367578.0318417005,\n",
       "  'model5': 402299.08251928183},\n",
       " {'model1': 2671201540179.499,\n",
       "  'model2': 260621450817.0199,\n",
       "  'model3': 157272773344.29843,\n",
       "  'model4': 135113609492.61816,\n",
       "  'model5': 161844551795.85593},\n",
       " {'model1': 0.11889248782989448,\n",
       "  'model2': 0.9140328744598893,\n",
       "  'model3': 0.9481228877832348,\n",
       "  'model4': 0.9554321849064358,\n",
       "  'model5': 0.9466148666635054})"
      ]
     },
     "execution_count": 626,
     "metadata": {},
     "output_type": "execute_result"
    }
   ],
   "source": [
    "RMSE_dict , MSE_dict , rsquared_dict"
   ]
  },
  {
   "cell_type": "code",
   "execution_count": 627,
   "id": "75fce1b9-c7af-4f68-8809-8364034fd755",
   "metadata": {},
   "outputs": [],
   "source": [
    "RMSE_min_key = min(RMSE_dict, key = RMSE_dict.get)\n",
    "MSE_min_key = min(MSE_dict, key = MSE_dict.get)\n",
    "rsquare_max_key = max(rsquared_dict, key = rsquared_dict.get)"
   ]
  },
  {
   "cell_type": "code",
   "execution_count": 628,
   "id": "e7b76fd3-df03-41a7-b02a-29471d78899c",
   "metadata": {},
   "outputs": [
    {
     "data": {
      "text/plain": [
       "('model4', 'model4', 'model4')"
      ]
     },
     "execution_count": 628,
     "metadata": {},
     "output_type": "execute_result"
    }
   ],
   "source": [
    "RMSE_min_key, MSE_min_key, rsquare_max_key"
   ]
  },
  {
   "cell_type": "markdown",
   "id": "d9a4cdfe-7e96-4d8c-8be1-f402963fb590",
   "metadata": {},
   "source": [
    "LinearRegression 모델 및 예측"
   ]
  },
  {
   "cell_type": "code",
   "execution_count": 746,
   "id": "6b93a436-ce51-4d85-ad8b-d0adc04b621c",
   "metadata": {},
   "outputs": [],
   "source": [
    "from sklearn.model_selection import train_test_split\n",
    "X= d_df.iloc[:,1:-1]\n",
    "y = d_df.iloc[:,-1]\n",
    "X_train, X_test, y_train, y_test = train_test_split(X, y, test_size=0.25, random_state=0)"
   ]
  },
  {
   "cell_type": "code",
   "execution_count": 748,
   "id": "a41818d1-234e-4aa7-9897-b52fa775de2c",
   "metadata": {},
   "outputs": [],
   "source": [
    "model = LinearRegression() \n",
    "model.fit(X = X_train, y = y_train) \n",
    "\n",
    "np.set_printoptions(precision=6, suppress=True)\n",
    "y_pred = model.predict(X=X_test) # 예측치 \n",
    "y_true = y_test # 정답 "
   ]
  },
  {
   "cell_type": "code",
   "execution_count": 749,
   "id": "cd32e7a8-21b6-4be2-9f6a-d891009a44e1",
   "metadata": {},
   "outputs": [],
   "source": [
    "final = pd.DataFrame({\"actual\":y_true,\"pred\":y_pred})"
   ]
  },
  {
   "cell_type": "code",
   "execution_count": 750,
   "id": "6250a46d-6f71-4f83-a203-9801b5f93826",
   "metadata": {},
   "outputs": [
    {
     "data": {
      "text/html": [
       "<div>\n",
       "<style scoped>\n",
       "    .dataframe tbody tr th:only-of-type {\n",
       "        vertical-align: middle;\n",
       "    }\n",
       "\n",
       "    .dataframe tbody tr th {\n",
       "        vertical-align: top;\n",
       "    }\n",
       "\n",
       "    .dataframe thead th {\n",
       "        text-align: right;\n",
       "    }\n",
       "</style>\n",
       "<table border=\"1\" class=\"dataframe\">\n",
       "  <thead>\n",
       "    <tr style=\"text-align: right;\">\n",
       "      <th></th>\n",
       "      <th>actual</th>\n",
       "      <th>pred</th>\n",
       "    </tr>\n",
       "  </thead>\n",
       "  <tbody>\n",
       "    <tr>\n",
       "      <th>762</th>\n",
       "      <td>57553</td>\n",
       "      <td>335081.3</td>\n",
       "    </tr>\n",
       "    <tr>\n",
       "      <th>1357</th>\n",
       "      <td>23014</td>\n",
       "      <td>53959.9</td>\n",
       "    </tr>\n",
       "    <tr>\n",
       "      <th>2196</th>\n",
       "      <td>73215</td>\n",
       "      <td>140441.4</td>\n",
       "    </tr>\n",
       "    <tr>\n",
       "      <th>2100</th>\n",
       "      <td>11199</td>\n",
       "      <td>34921.8</td>\n",
       "    </tr>\n",
       "    <tr>\n",
       "      <th>1519</th>\n",
       "      <td>359041</td>\n",
       "      <td>327355.4</td>\n",
       "    </tr>\n",
       "    <tr>\n",
       "      <th>...</th>\n",
       "      <td>...</td>\n",
       "      <td>...</td>\n",
       "    </tr>\n",
       "    <tr>\n",
       "      <th>1824</th>\n",
       "      <td>228899</td>\n",
       "      <td>245167.1</td>\n",
       "    </tr>\n",
       "    <tr>\n",
       "      <th>2618</th>\n",
       "      <td>17064</td>\n",
       "      <td>36015.1</td>\n",
       "    </tr>\n",
       "    <tr>\n",
       "      <th>602</th>\n",
       "      <td>10910</td>\n",
       "      <td>28608.5</td>\n",
       "    </tr>\n",
       "    <tr>\n",
       "      <th>983</th>\n",
       "      <td>127325</td>\n",
       "      <td>205336.6</td>\n",
       "    </tr>\n",
       "    <tr>\n",
       "      <th>1231</th>\n",
       "      <td>277206</td>\n",
       "      <td>235457.1</td>\n",
       "    </tr>\n",
       "  </tbody>\n",
       "</table>\n",
       "<p>661 rows × 2 columns</p>\n",
       "</div>"
      ],
      "text/plain": [
       "      actual     pred\n",
       "762    57553 335081.3\n",
       "1357   23014  53959.9\n",
       "2196   73215 140441.4\n",
       "2100   11199  34921.8\n",
       "1519  359041 327355.4\n",
       "...      ...      ...\n",
       "1824  228899 245167.1\n",
       "2618   17064  36015.1\n",
       "602    10910  28608.5\n",
       "983   127325 205336.6\n",
       "1231  277206 235457.1\n",
       "\n",
       "[661 rows x 2 columns]"
      ]
     },
     "execution_count": 750,
     "metadata": {},
     "output_type": "execute_result"
    }
   ],
   "source": [
    "final"
   ]
  },
  {
   "cell_type": "code",
   "execution_count": 755,
   "id": "8de3dc0e-a1ff-4d1d-8e1d-b837e23a8eb1",
   "metadata": {},
   "outputs": [],
   "source": [
    "import sklearn\n",
    "model_dict ={}\n",
    "mse = sklearn.metrics.mean_squared_error(y_true, y_pred) \n",
    "model_dict['Linear'] = mse"
   ]
  },
  {
   "cell_type": "raw",
   "id": "83b8b3e9-1e21-44ae-bb15-1539faec42b4",
   "metadata": {},
   "source": [
    "여기서부터 lgb"
   ]
  },
  {
   "cell_type": "code",
   "execution_count": 756,
   "id": "e9e38859-2fa7-41a4-a444-5a92889ffd61",
   "metadata": {},
   "outputs": [],
   "source": [
    "model = lgb.LGBMRegressor(random_state=1234, n_estimators=1000)"
   ]
  },
  {
   "cell_type": "code",
   "execution_count": 757,
   "id": "9ad06551-8675-449f-bbe2-12986543a3bf",
   "metadata": {},
   "outputs": [
    {
     "data": {
      "text/plain": [
       "LGBMRegressor(n_estimators=1000, random_state=1234)"
      ]
     },
     "execution_count": 757,
     "metadata": {},
     "output_type": "execute_result"
    }
   ],
   "source": [
    "from lightgbm import LGBMRegressor\n",
    "model.fit(X_train, y_train)\n",
    "LGBMRegressor(n_estimators=1000, random_state=1234)"
   ]
  },
  {
   "cell_type": "code",
   "execution_count": 758,
   "id": "46586b94-7147-46f1-a92c-c380fd0ad48f",
   "metadata": {},
   "outputs": [],
   "source": [
    "submission = pd.DataFrame({\"actual\":y_test})\n",
    "submission[\"pred\"] = \" \""
   ]
  },
  {
   "cell_type": "code",
   "execution_count": 759,
   "id": "34ba08ba-f623-4e02-9c1a-a2af087c22f5",
   "metadata": {},
   "outputs": [
    {
     "data": {
      "text/html": [
       "<div>\n",
       "<style scoped>\n",
       "    .dataframe tbody tr th:only-of-type {\n",
       "        vertical-align: middle;\n",
       "    }\n",
       "\n",
       "    .dataframe tbody tr th {\n",
       "        vertical-align: top;\n",
       "    }\n",
       "\n",
       "    .dataframe thead th {\n",
       "        text-align: right;\n",
       "    }\n",
       "</style>\n",
       "<table border=\"1\" class=\"dataframe\">\n",
       "  <thead>\n",
       "    <tr style=\"text-align: right;\">\n",
       "      <th></th>\n",
       "      <th>actual</th>\n",
       "      <th>pred</th>\n",
       "    </tr>\n",
       "  </thead>\n",
       "  <tbody>\n",
       "    <tr>\n",
       "      <th>762</th>\n",
       "      <td>57553</td>\n",
       "      <td>13760.0</td>\n",
       "    </tr>\n",
       "    <tr>\n",
       "      <th>1357</th>\n",
       "      <td>23014</td>\n",
       "      <td>23382.5</td>\n",
       "    </tr>\n",
       "    <tr>\n",
       "      <th>2196</th>\n",
       "      <td>73215</td>\n",
       "      <td>60742.6</td>\n",
       "    </tr>\n",
       "    <tr>\n",
       "      <th>2100</th>\n",
       "      <td>11199</td>\n",
       "      <td>19422.9</td>\n",
       "    </tr>\n",
       "    <tr>\n",
       "      <th>1519</th>\n",
       "      <td>359041</td>\n",
       "      <td>332959.8</td>\n",
       "    </tr>\n",
       "    <tr>\n",
       "      <th>...</th>\n",
       "      <td>...</td>\n",
       "      <td>...</td>\n",
       "    </tr>\n",
       "    <tr>\n",
       "      <th>1824</th>\n",
       "      <td>228899</td>\n",
       "      <td>232154.6</td>\n",
       "    </tr>\n",
       "    <tr>\n",
       "      <th>2618</th>\n",
       "      <td>17064</td>\n",
       "      <td>18116.5</td>\n",
       "    </tr>\n",
       "    <tr>\n",
       "      <th>602</th>\n",
       "      <td>10910</td>\n",
       "      <td>13610.4</td>\n",
       "    </tr>\n",
       "    <tr>\n",
       "      <th>983</th>\n",
       "      <td>127325</td>\n",
       "      <td>107205.5</td>\n",
       "    </tr>\n",
       "    <tr>\n",
       "      <th>1231</th>\n",
       "      <td>277206</td>\n",
       "      <td>297321.2</td>\n",
       "    </tr>\n",
       "  </tbody>\n",
       "</table>\n",
       "<p>661 rows × 2 columns</p>\n",
       "</div>"
      ],
      "text/plain": [
       "      actual     pred\n",
       "762    57553  13760.0\n",
       "1357   23014  23382.5\n",
       "2196   73215  60742.6\n",
       "2100   11199  19422.9\n",
       "1519  359041 332959.8\n",
       "...      ...      ...\n",
       "1824  228899 232154.6\n",
       "2618   17064  18116.5\n",
       "602    10910  13610.4\n",
       "983   127325 107205.5\n",
       "1231  277206 297321.2\n",
       "\n",
       "[661 rows x 2 columns]"
      ]
     },
     "execution_count": 759,
     "metadata": {},
     "output_type": "execute_result"
    }
   ],
   "source": [
    "singleGBM = submission.copy()\n",
    "singleGBM['pred'] = model.predict(X_test)\n",
    "#singleGBM.to_csv('sigleGBM.csv', index=False)\n",
    "singleGBM"
   ]
  },
  {
   "cell_type": "code",
   "execution_count": 762,
   "id": "98af42fc-3943-4e08-ac30-bbe8218f6a55",
   "metadata": {},
   "outputs": [],
   "source": [
    "mse = mean_squared_error(singleGBM['actual'], singleGBM['pred']) ** 0.5 # RMSE = mean_squared_error(y, y_pred)**0.5\n",
    "model_dict['singleGBM'] = mse"
   ]
  },
  {
   "cell_type": "code",
   "execution_count": 763,
   "id": "f5e54cd7-9364-4b86-abbc-5b2bbbc265a4",
   "metadata": {},
   "outputs": [],
   "source": [
    "from sklearn.model_selection import KFold\n",
    "k_fold = KFold(n_splits=5, shuffle=True, random_state=1234)"
   ]
  },
  {
   "cell_type": "code",
   "execution_count": 764,
   "id": "7ba798ac-258b-468a-8833-c2cd9a2a6262",
   "metadata": {},
   "outputs": [
    {
     "name": "stderr",
     "output_type": "stream",
     "text": [
      "C:\\Users\\dudns\\anaconda3\\lib\\site-packages\\lightgbm\\sklearn.py:726: UserWarning: 'early_stopping_rounds' argument is deprecated and will be removed in a future release of LightGBM. Pass 'early_stopping()' callback via 'callbacks' argument instead.\n",
      "  _log_warning(\"'early_stopping_rounds' argument is deprecated and will be removed in a future release of LightGBM. \"\n",
      "C:\\Users\\dudns\\anaconda3\\lib\\site-packages\\lightgbm\\sklearn.py:736: UserWarning: 'verbose' argument is deprecated and will be removed in a future release of LightGBM. Pass 'log_evaluation()' callback via 'callbacks' argument instead.\n",
      "  _log_warning(\"'verbose' argument is deprecated and will be removed in a future release of LightGBM. \"\n"
     ]
    },
    {
     "name": "stdout",
     "output_type": "stream",
     "text": [
      "[100]\tvalid_0's l2: 1.6915e+10\n",
      "[100]\tvalid_0's l2: 4.09013e+10\n",
      "[100]\tvalid_0's l2: 1.42913e+11\n",
      "[200]\tvalid_0's l2: 1.34156e+11\n",
      "[300]\tvalid_0's l2: 1.37153e+11\n",
      "[100]\tvalid_0's l2: 7.93328e+10\n",
      "[200]\tvalid_0's l2: 6.66366e+10\n",
      "[300]\tvalid_0's l2: 6.35191e+10\n",
      "[400]\tvalid_0's l2: 6.12979e+10\n",
      "[500]\tvalid_0's l2: 5.83544e+10\n",
      "[600]\tvalid_0's l2: 5.68049e+10\n",
      "[700]\tvalid_0's l2: 5.64085e+10\n",
      "[800]\tvalid_0's l2: 5.62757e+10\n",
      "[900]\tvalid_0's l2: 5.58613e+10\n",
      "[1000]\tvalid_0's l2: 5.5734e+10\n",
      "[100]\tvalid_0's l2: 2.10323e+10\n"
     ]
    }
   ],
   "source": [
    "import lightgbm as lgb\n",
    "model = lgb.LGBMRegressor(random_state=1234,n_estimators=1000)\n",
    "\n",
    "models = []\n",
    "\n",
    "for train_idx, val_idx in k_fold.split(X_train):\n",
    "    x_t = X_train.iloc[train_idx]\n",
    "    y_t = y_train.iloc[train_idx]\n",
    "    x_val = X_train.iloc[val_idx]\n",
    "    y_val = y_train.iloc[val_idx]\n",
    "    \n",
    "    models.append(model.fit(x_t, y_t, eval_set=(x_val, y_val), early_stopping_rounds=100, verbose = 100))"
   ]
  },
  {
   "cell_type": "code",
   "execution_count": 765,
   "id": "0e10e69a-6d23-4dac-991c-4037d01940dd",
   "metadata": {},
   "outputs": [],
   "source": [
    "preds = []\n",
    "\n",
    "for model in models:\n",
    "    preds.append(model.predict(X_test))"
   ]
  },
  {
   "cell_type": "code",
   "execution_count": 766,
   "id": "aa410b4b-da04-4167-ae38-c4d0aff57c30",
   "metadata": {
    "tags": []
   },
   "outputs": [
    {
     "data": {
      "text/html": [
       "<div>\n",
       "<style scoped>\n",
       "    .dataframe tbody tr th:only-of-type {\n",
       "        vertical-align: middle;\n",
       "    }\n",
       "\n",
       "    .dataframe tbody tr th {\n",
       "        vertical-align: top;\n",
       "    }\n",
       "\n",
       "    .dataframe thead th {\n",
       "        text-align: right;\n",
       "    }\n",
       "</style>\n",
       "<table border=\"1\" class=\"dataframe\">\n",
       "  <thead>\n",
       "    <tr style=\"text-align: right;\">\n",
       "      <th></th>\n",
       "      <th>actual</th>\n",
       "      <th>pred</th>\n",
       "    </tr>\n",
       "  </thead>\n",
       "  <tbody>\n",
       "    <tr>\n",
       "      <th>762</th>\n",
       "      <td>57553</td>\n",
       "      <td>222966.4</td>\n",
       "    </tr>\n",
       "    <tr>\n",
       "      <th>1357</th>\n",
       "      <td>23014</td>\n",
       "      <td>23541.6</td>\n",
       "    </tr>\n",
       "    <tr>\n",
       "      <th>2196</th>\n",
       "      <td>73215</td>\n",
       "      <td>79059.3</td>\n",
       "    </tr>\n",
       "    <tr>\n",
       "      <th>2100</th>\n",
       "      <td>11199</td>\n",
       "      <td>18714.1</td>\n",
       "    </tr>\n",
       "    <tr>\n",
       "      <th>1519</th>\n",
       "      <td>359041</td>\n",
       "      <td>388411.1</td>\n",
       "    </tr>\n",
       "    <tr>\n",
       "      <th>...</th>\n",
       "      <td>...</td>\n",
       "      <td>...</td>\n",
       "    </tr>\n",
       "    <tr>\n",
       "      <th>1824</th>\n",
       "      <td>228899</td>\n",
       "      <td>247513.8</td>\n",
       "    </tr>\n",
       "    <tr>\n",
       "      <th>2618</th>\n",
       "      <td>17064</td>\n",
       "      <td>17924.9</td>\n",
       "    </tr>\n",
       "    <tr>\n",
       "      <th>602</th>\n",
       "      <td>10910</td>\n",
       "      <td>12234.6</td>\n",
       "    </tr>\n",
       "    <tr>\n",
       "      <th>983</th>\n",
       "      <td>127325</td>\n",
       "      <td>111601.9</td>\n",
       "    </tr>\n",
       "    <tr>\n",
       "      <th>1231</th>\n",
       "      <td>277206</td>\n",
       "      <td>290082.1</td>\n",
       "    </tr>\n",
       "  </tbody>\n",
       "</table>\n",
       "<p>661 rows × 2 columns</p>\n",
       "</div>"
      ],
      "text/plain": [
       "      actual     pred\n",
       "762    57553 222966.4\n",
       "1357   23014  23541.6\n",
       "2196   73215  79059.3\n",
       "2100   11199  18714.1\n",
       "1519  359041 388411.1\n",
       "...      ...      ...\n",
       "1824  228899 247513.8\n",
       "2618   17064  17924.9\n",
       "602    10910  12234.6\n",
       "983   127325 111601.9\n",
       "1231  277206 290082.1\n",
       "\n",
       "[661 rows x 2 columns]"
      ]
     },
     "execution_count": 766,
     "metadata": {},
     "output_type": "execute_result"
    }
   ],
   "source": [
    "kFoldLightGBM = submission.copy()\n",
    "kFoldLightGBM['pred'] = np.mean(preds, axis=0)\n",
    "kFoldLightGBM"
   ]
  },
  {
   "cell_type": "code",
   "execution_count": 769,
   "id": "5d541124-f944-4378-a7c3-0cfa4a3d8ad6",
   "metadata": {},
   "outputs": [],
   "source": [
    "mse = mean_squared_error(kFoldLightGBM['actual'], kFoldLightGBM['pred']) ** 0.5 # RMSE = mean_squared_error(y, y_pred)**0.5\n",
    "model_dict['kFoldLightGBM'] = mse"
   ]
  },
  {
   "cell_type": "code",
   "execution_count": 770,
   "id": "523d4233-176b-408a-b164-8409328d4eab",
   "metadata": {},
   "outputs": [],
   "source": [
    "from sklearn.model_selection import GridSearchCV"
   ]
  },
  {
   "cell_type": "code",
   "execution_count": 771,
   "id": "8b986952-047a-4fbb-a93f-e822e077ec40",
   "metadata": {},
   "outputs": [],
   "source": [
    "params = {\n",
    "    'learning_rate': [0.1, 0.01, 0.003],\n",
    "    'min_child_samples': [20, 30]}\n",
    "\n",
    "gs = GridSearchCV(estimator=model,\n",
    "                 param_grid=params,\n",
    "                  scoring= 'neg_mean_squared_error',\n",
    "                  cv=k_fold)"
   ]
  },
  {
   "cell_type": "code",
   "execution_count": 772,
   "id": "9107b99f-0fe9-48b2-a655-91d81c971725",
   "metadata": {},
   "outputs": [
    {
     "data": {
      "text/plain": [
       "GridSearchCV(cv=KFold(n_splits=5, random_state=1234, shuffle=True),\n",
       "             estimator=LGBMRegressor(n_estimators=1000, random_state=1234),\n",
       "             param_grid={'learning_rate': [0.1, 0.01, 0.003],\n",
       "                         'min_child_samples': [20, 30]},\n",
       "             scoring='neg_mean_squared_error')"
      ]
     },
     "execution_count": 772,
     "metadata": {},
     "output_type": "execute_result"
    }
   ],
   "source": [
    "gs.fit(X_train, y_train)"
   ]
  },
  {
   "cell_type": "code",
   "execution_count": 773,
   "id": "0e984405-1097-4227-a807-0f953ce44584",
   "metadata": {},
   "outputs": [
    {
     "data": {
      "text/plain": [
       "{'learning_rate': 0.01, 'min_child_samples': 20}"
      ]
     },
     "execution_count": 773,
     "metadata": {},
     "output_type": "execute_result"
    }
   ],
   "source": [
    "gs.best_params_"
   ]
  },
  {
   "cell_type": "code",
   "execution_count": 774,
   "id": "5f4e9976-5439-440d-87c5-91154063925f",
   "metadata": {},
   "outputs": [],
   "source": [
    "model = lgb.LGBMRegressor(random_state=1234,n_estimators=1000, learning_rate=0.01, min_child_samples=20)"
   ]
  },
  {
   "cell_type": "code",
   "execution_count": 775,
   "id": "09503d51-7cbc-4e61-a826-46058b19b71d",
   "metadata": {},
   "outputs": [
    {
     "name": "stderr",
     "output_type": "stream",
     "text": [
      "C:\\Users\\dudns\\anaconda3\\lib\\site-packages\\lightgbm\\sklearn.py:726: UserWarning: 'early_stopping_rounds' argument is deprecated and will be removed in a future release of LightGBM. Pass 'early_stopping()' callback via 'callbacks' argument instead.\n",
      "  _log_warning(\"'early_stopping_rounds' argument is deprecated and will be removed in a future release of LightGBM. \"\n",
      "C:\\Users\\dudns\\anaconda3\\lib\\site-packages\\lightgbm\\sklearn.py:736: UserWarning: 'verbose' argument is deprecated and will be removed in a future release of LightGBM. Pass 'log_evaluation()' callback via 'callbacks' argument instead.\n",
      "  _log_warning(\"'verbose' argument is deprecated and will be removed in a future release of LightGBM. \"\n"
     ]
    },
    {
     "name": "stdout",
     "output_type": "stream",
     "text": [
      "[100]\tvalid_0's l2: 1.44014e+11\n",
      "[200]\tvalid_0's l2: 2.26906e+10\n",
      "[300]\tvalid_0's l2: 1.30255e+10\n",
      "[400]\tvalid_0's l2: 1.40003e+10\n",
      "[100]\tvalid_0's l2: 1.72783e+11\n",
      "[200]\tvalid_0's l2: 3.95657e+10\n",
      "[300]\tvalid_0's l2: 2.86858e+10\n",
      "[400]\tvalid_0's l2: 2.96732e+10\n",
      "[100]\tvalid_0's l2: 6.08313e+11\n",
      "[200]\tvalid_0's l2: 2.85774e+11\n",
      "[300]\tvalid_0's l2: 2.01448e+11\n",
      "[400]\tvalid_0's l2: 1.7276e+11\n",
      "[500]\tvalid_0's l2: 1.59285e+11\n",
      "[600]\tvalid_0's l2: 1.51284e+11\n",
      "[700]\tvalid_0's l2: 1.48175e+11\n",
      "[800]\tvalid_0's l2: 1.46673e+11\n",
      "[900]\tvalid_0's l2: 1.45346e+11\n",
      "[1000]\tvalid_0's l2: 1.44126e+11\n",
      "[100]\tvalid_0's l2: 3.89422e+11\n",
      "[200]\tvalid_0's l2: 1.4687e+11\n",
      "[300]\tvalid_0's l2: 1.03559e+11\n",
      "[400]\tvalid_0's l2: 9.14369e+10\n",
      "[500]\tvalid_0's l2: 8.65852e+10\n",
      "[600]\tvalid_0's l2: 8.47202e+10\n",
      "[700]\tvalid_0's l2: 8.33901e+10\n",
      "[800]\tvalid_0's l2: 8.2619e+10\n",
      "[900]\tvalid_0's l2: 8.32018e+10\n",
      "[100]\tvalid_0's l2: 2.8225e+11\n",
      "[200]\tvalid_0's l2: 7.60392e+10\n",
      "[300]\tvalid_0's l2: 3.74882e+10\n",
      "[400]\tvalid_0's l2: 2.71326e+10\n",
      "[500]\tvalid_0's l2: 2.29335e+10\n",
      "[600]\tvalid_0's l2: 2.16811e+10\n",
      "[700]\tvalid_0's l2: 2.06796e+10\n",
      "[800]\tvalid_0's l2: 2.06093e+10\n"
     ]
    }
   ],
   "source": [
    "models = []\n",
    "\n",
    "for train_idx, val_idx in k_fold.split(X_train):\n",
    "    x_t = X_train.iloc[train_idx]\n",
    "    y_t = y_train.iloc[train_idx]\n",
    "    x_val = X_train.iloc[val_idx]\n",
    "    y_val = y_train.iloc[val_idx]\n",
    "    \n",
    "    models.append(model.fit(x_t, y_t, eval_set=(x_val, y_val), early_stopping_rounds=100, verbose = 100))"
   ]
  },
  {
   "cell_type": "code",
   "execution_count": 776,
   "id": "509a2ef5-96b3-40c1-bacc-73850e9d64d1",
   "metadata": {},
   "outputs": [],
   "source": [
    "preds = []\n",
    "\n",
    "for model in models:\n",
    "    preds.append(model.predict(X_test))"
   ]
  },
  {
   "cell_type": "code",
   "execution_count": 777,
   "id": "12094fc1-bb3c-4f90-9652-50aeb3298e96",
   "metadata": {},
   "outputs": [
    {
     "data": {
      "text/html": [
       "<div>\n",
       "<style scoped>\n",
       "    .dataframe tbody tr th:only-of-type {\n",
       "        vertical-align: middle;\n",
       "    }\n",
       "\n",
       "    .dataframe tbody tr th {\n",
       "        vertical-align: top;\n",
       "    }\n",
       "\n",
       "    .dataframe thead th {\n",
       "        text-align: right;\n",
       "    }\n",
       "</style>\n",
       "<table border=\"1\" class=\"dataframe\">\n",
       "  <thead>\n",
       "    <tr style=\"text-align: right;\">\n",
       "      <th></th>\n",
       "      <th>actual</th>\n",
       "      <th>pred</th>\n",
       "    </tr>\n",
       "  </thead>\n",
       "  <tbody>\n",
       "    <tr>\n",
       "      <th>762</th>\n",
       "      <td>57553</td>\n",
       "      <td>244522.6</td>\n",
       "    </tr>\n",
       "    <tr>\n",
       "      <th>1357</th>\n",
       "      <td>23014</td>\n",
       "      <td>24605.4</td>\n",
       "    </tr>\n",
       "    <tr>\n",
       "      <th>2196</th>\n",
       "      <td>73215</td>\n",
       "      <td>77954.8</td>\n",
       "    </tr>\n",
       "    <tr>\n",
       "      <th>2100</th>\n",
       "      <td>11199</td>\n",
       "      <td>17151.1</td>\n",
       "    </tr>\n",
       "    <tr>\n",
       "      <th>1519</th>\n",
       "      <td>359041</td>\n",
       "      <td>374881.4</td>\n",
       "    </tr>\n",
       "    <tr>\n",
       "      <th>...</th>\n",
       "      <td>...</td>\n",
       "      <td>...</td>\n",
       "    </tr>\n",
       "    <tr>\n",
       "      <th>1824</th>\n",
       "      <td>228899</td>\n",
       "      <td>247621.5</td>\n",
       "    </tr>\n",
       "    <tr>\n",
       "      <th>2618</th>\n",
       "      <td>17064</td>\n",
       "      <td>18172.0</td>\n",
       "    </tr>\n",
       "    <tr>\n",
       "      <th>602</th>\n",
       "      <td>10910</td>\n",
       "      <td>12143.9</td>\n",
       "    </tr>\n",
       "    <tr>\n",
       "      <th>983</th>\n",
       "      <td>127325</td>\n",
       "      <td>109814.7</td>\n",
       "    </tr>\n",
       "    <tr>\n",
       "      <th>1231</th>\n",
       "      <td>277206</td>\n",
       "      <td>290579.4</td>\n",
       "    </tr>\n",
       "  </tbody>\n",
       "</table>\n",
       "<p>661 rows × 2 columns</p>\n",
       "</div>"
      ],
      "text/plain": [
       "      actual     pred\n",
       "762    57553 244522.6\n",
       "1357   23014  24605.4\n",
       "2196   73215  77954.8\n",
       "2100   11199  17151.1\n",
       "1519  359041 374881.4\n",
       "...      ...      ...\n",
       "1824  228899 247621.5\n",
       "2618   17064  18172.0\n",
       "602    10910  12143.9\n",
       "983   127325 109814.7\n",
       "1231  277206 290579.4\n",
       "\n",
       "[661 rows x 2 columns]"
      ]
     },
     "execution_count": 777,
     "metadata": {},
     "output_type": "execute_result"
    }
   ],
   "source": [
    "gridSearchGBM = submission.copy()\n",
    "gridSearchGBM['pred'] = np.mean(preds, axis=0)\n",
    "gridSearchGBM"
   ]
  },
  {
   "cell_type": "code",
   "execution_count": 780,
   "id": "94680a52-f8ed-477c-851e-22b4b6c000b7",
   "metadata": {},
   "outputs": [],
   "source": [
    "mse = mean_squared_error(gridSearchGBM['actual'], gridSearchGBM['pred']) ** 0.5 # RMSE = mean_squared_error(y, y_pred)**0.5\n",
    "model_dict['gridSearchGBM'] = mse"
   ]
  },
  {
   "cell_type": "code",
   "execution_count": 781,
   "id": "e435721d-726a-4961-b574-5fd62a3e3250",
   "metadata": {},
   "outputs": [
    {
     "data": {
      "text/plain": [
       "{'Linear': 12966484945.384186,\n",
       " 'singleGBM': 415399.3633318913,\n",
       " 'kFoldLightGBM': 408175.5320783331,\n",
       " 'gridSearchGBM': 410213.3502397011}"
      ]
     },
     "execution_count": 781,
     "metadata": {},
     "output_type": "execute_result"
    }
   ],
   "source": [
    "model_dict"
   ]
  },
  {
   "cell_type": "code",
   "execution_count": 782,
   "id": "e46ea231-d526-42b8-9e02-fab0800a3eee",
   "metadata": {},
   "outputs": [
    {
     "data": {
      "text/plain": [
       "'kFoldLightGBM'"
      ]
     },
     "execution_count": 782,
     "metadata": {},
     "output_type": "execute_result"
    }
   ],
   "source": [
    "min(model_dict, key = model_dict.get)"
   ]
  },
  {
   "cell_type": "markdown",
   "id": "9ccb1fc9-53e9-4283-96e0-bb2ea44ce707",
   "metadata": {},
   "source": [
    "관객수 top10 영화 관객수 예측"
   ]
  },
  {
   "cell_type": "code",
   "execution_count": 542,
   "id": "766dce37-2ce2-4dc7-854a-77afdc78d58b",
   "metadata": {},
   "outputs": [
    {
     "data": {
      "text/plain": [
       "LinearRegression()"
      ]
     },
     "execution_count": 542,
     "metadata": {},
     "output_type": "execute_result"
    }
   ],
   "source": [
    "model = LinearRegression()\n",
    "model.fit(d_df.iloc[:,:-1], d_df.iloc[:,-1])"
   ]
  },
  {
   "cell_type": "code",
   "execution_count": 553,
   "id": "a785f5c0-0f2b-40dd-a254-560047a93045",
   "metadata": {},
   "outputs": [
    {
     "name": "stdout",
     "output_type": "stream",
     "text": [
      "예측: [24004.673453]\n"
     ]
    }
   ],
   "source": [
    "def pre_result(number):\n",
    "    a = d_df[d_df['audience'].index==number]  #audience 포함\n",
    "    return model.predict(a.iloc[:,:-1]) #audience 포함X\n",
    "    \n",
    "result = pre_result(1448)\n",
    "print('예측:', result)"
   ]
  },
  {
   "cell_type": "code",
   "execution_count": 554,
   "id": "fca750dd-8403-4108-8baf-28145f2465fc",
   "metadata": {},
   "outputs": [
    {
     "name": "stdout",
     "output_type": "stream",
     "text": [
      "실제: [10092]\n"
     ]
    }
   ],
   "source": [
    "def act_result(number):\n",
    "    \n",
    "    return d_df[d_df[\"audience\"].index==number][\"audience\"].values\n",
    "result = act_result(1448)\n",
    "print('실제:', result)"
   ]
  },
  {
   "cell_type": "code",
   "execution_count": 475,
   "id": "6591718d-de42-4f48-a292-821828f50eec",
   "metadata": {},
   "outputs": [],
   "source": [
    "def result_total(number):\n",
    "    a = d_df[d_df[\"audience\"].index==number]\n",
    "    print(model.predict(a.iloc[:,:-1]))    \n",
    "    print(d_df[d_df[\"audience\"].index==number][\"audience\"])"
   ]
  },
  {
   "cell_type": "code",
   "execution_count": 476,
   "id": "29ba57bb-0ac3-4c2e-8eaf-7b9a62d3f7bd",
   "metadata": {},
   "outputs": [
    {
     "name": "stdout",
     "output_type": "stream",
     "text": [
      "[11753991.638729]\n",
      "0    12186327\n",
      "Name: audience, dtype: int64\n"
     ]
    }
   ],
   "source": [
    "result_total(0)"
   ]
  },
  {
   "cell_type": "code",
   "execution_count": 562,
   "id": "2d230db2-e475-4382-acaf-89c7c1546f52",
   "metadata": {},
   "outputs": [],
   "source": [
    "data_index = data.sort_values(ascending = False,by = 'audience').head(10)"
   ]
  },
  {
   "cell_type": "raw",
   "id": "f44bc8d0-b1d1-459d-889a-9d24e315f6b6",
   "metadata": {},
   "source": [
    "data_index = data.sort_values(ascending = False,by = 'audience').head(11)"
   ]
  },
  {
   "cell_type": "raw",
   "id": "68b62e0e-55e1-4f6f-a861-3c8db7bcbf96",
   "metadata": {},
   "source": [
    "data_index = data_index.drop_duplicates(['movieNm'],keep = 'first')"
   ]
  },
  {
   "cell_type": "code",
   "execution_count": 579,
   "id": "4916e1b1-24b5-4c3d-aaae-c631355cb838",
   "metadata": {},
   "outputs": [],
   "source": [
    "df1=pd.DataFrame()\n",
    "\n",
    "for index,row in data_index.iterrows():\n",
    "    df1 = df1.append(pd.DataFrame([[row['movieNm'],act_result(index),pre_result(index)]], columns=['movieNm','actual_audience','predict_audience']), ignore_index=True)"
   ]
  },
  {
   "cell_type": "code",
   "execution_count": 580,
   "id": "5e1eb6cd-2984-4b4f-a0aa-633a54822ba9",
   "metadata": {
    "tags": []
   },
   "outputs": [
    {
     "data": {
      "text/html": [
       "<div>\n",
       "<style scoped>\n",
       "    .dataframe tbody tr th:only-of-type {\n",
       "        vertical-align: middle;\n",
       "    }\n",
       "\n",
       "    .dataframe tbody tr th {\n",
       "        vertical-align: top;\n",
       "    }\n",
       "\n",
       "    .dataframe thead th {\n",
       "        text-align: right;\n",
       "    }\n",
       "</style>\n",
       "<table border=\"1\" class=\"dataframe\">\n",
       "  <thead>\n",
       "    <tr style=\"text-align: right;\">\n",
       "      <th></th>\n",
       "      <th>movieNm</th>\n",
       "      <th>actual_audience</th>\n",
       "      <th>predict_audience</th>\n",
       "    </tr>\n",
       "  </thead>\n",
       "  <tbody>\n",
       "    <tr>\n",
       "      <th>0</th>\n",
       "      <td>극한직업</td>\n",
       "      <td>[16265618]</td>\n",
       "      <td>[16980507.45792176]</td>\n",
       "    </tr>\n",
       "    <tr>\n",
       "      <th>1</th>\n",
       "      <td>어벤져스: 엔드게임</td>\n",
       "      <td>[13934592]</td>\n",
       "      <td>[14743200.829585396]</td>\n",
       "    </tr>\n",
       "    <tr>\n",
       "      <th>2</th>\n",
       "      <td>겨울왕국 2</td>\n",
       "      <td>[13369064]</td>\n",
       "      <td>[13797477.66010367]</td>\n",
       "    </tr>\n",
       "    <tr>\n",
       "      <th>3</th>\n",
       "      <td>7번방의 선물</td>\n",
       "      <td>[12811206]</td>\n",
       "      <td>[11648428.671935286]</td>\n",
       "    </tr>\n",
       "    <tr>\n",
       "      <th>4</th>\n",
       "      <td>알라딘</td>\n",
       "      <td>[12552283]</td>\n",
       "      <td>[12901523.052998938]</td>\n",
       "    </tr>\n",
       "    <tr>\n",
       "      <th>5</th>\n",
       "      <td>신과함께-인과 연</td>\n",
       "      <td>[12274996]</td>\n",
       "      <td>[12529761.16241463]</td>\n",
       "    </tr>\n",
       "    <tr>\n",
       "      <th>6</th>\n",
       "      <td>택시운전사</td>\n",
       "      <td>[12186327]</td>\n",
       "      <td>[11753991.638728984]</td>\n",
       "    </tr>\n",
       "    <tr>\n",
       "      <th>7</th>\n",
       "      <td>부산행</td>\n",
       "      <td>[11565479]</td>\n",
       "      <td>[11129874.391811123]</td>\n",
       "    </tr>\n",
       "    <tr>\n",
       "      <th>8</th>\n",
       "      <td>어벤져스: 인피니티 워</td>\n",
       "      <td>[11212710]</td>\n",
       "      <td>[12188313.772315696]</td>\n",
       "    </tr>\n",
       "    <tr>\n",
       "      <th>9</th>\n",
       "      <td>어벤져스: 에이지 오브 울트론</td>\n",
       "      <td>[10494499]</td>\n",
       "      <td>[10726016.341762297]</td>\n",
       "    </tr>\n",
       "  </tbody>\n",
       "</table>\n",
       "</div>"
      ],
      "text/plain": [
       "            movieNm actual_audience      predict_audience\n",
       "0              극한직업      [16265618]   [16980507.45792176]\n",
       "1        어벤져스: 엔드게임      [13934592]  [14743200.829585396]\n",
       "2            겨울왕국 2      [13369064]   [13797477.66010367]\n",
       "3           7번방의 선물      [12811206]  [11648428.671935286]\n",
       "4               알라딘      [12552283]  [12901523.052998938]\n",
       "5         신과함께-인과 연      [12274996]   [12529761.16241463]\n",
       "6             택시운전사      [12186327]  [11753991.638728984]\n",
       "7               부산행      [11565479]  [11129874.391811123]\n",
       "8      어벤져스: 인피니티 워      [11212710]  [12188313.772315696]\n",
       "9  어벤져스: 에이지 오브 울트론      [10494499]  [10726016.341762297]"
      ]
     },
     "execution_count": 580,
     "metadata": {},
     "output_type": "execute_result"
    }
   ],
   "source": [
    "df1"
   ]
  },
  {
   "cell_type": "code",
   "execution_count": 581,
   "id": "6cd6057e-7c02-4f71-aa8d-177e7aac272f",
   "metadata": {},
   "outputs": [
    {
     "name": "stderr",
     "output_type": "stream",
     "text": [
      "<ipython-input-581-56650e182b48>:1: FutureWarning: The default value of regex will change from True to False in a future version. In addition, single character regular expressions will *not* be treated as literal strings when regex=True.\n",
      "  df1['actual_audience']= df1['actual_audience'].astype(str).str.replace(\"[\",\"\")\n",
      "<ipython-input-581-56650e182b48>:2: FutureWarning: The default value of regex will change from True to False in a future version. In addition, single character regular expressions will *not* be treated as literal strings when regex=True.\n",
      "  df1['actual_audience']= df1['actual_audience'].astype(str).str.replace(\"]\",\"\")\n",
      "<ipython-input-581-56650e182b48>:3: FutureWarning: The default value of regex will change from True to False in a future version. In addition, single character regular expressions will *not* be treated as literal strings when regex=True.\n",
      "  df1['predict_audience']= df1['predict_audience'].astype(str).str.replace(\"[\",\"\")\n",
      "<ipython-input-581-56650e182b48>:4: FutureWarning: The default value of regex will change from True to False in a future version. In addition, single character regular expressions will *not* be treated as literal strings when regex=True.\n",
      "  df1['predict_audience']= df1['predict_audience'].astype(str).str.replace(\"]\",\"\")\n"
     ]
    }
   ],
   "source": [
    "df1['actual_audience']= df1['actual_audience'].astype(str).str.replace(\"[\",\"\")\n",
    "df1['actual_audience']= df1['actual_audience'].astype(str).str.replace(\"]\",\"\")\n",
    "df1['predict_audience']= df1['predict_audience'].astype(str).str.replace(\"[\",\"\")\n",
    "df1['predict_audience']= df1['predict_audience'].astype(str).str.replace(\"]\",\"\")"
   ]
  },
  {
   "cell_type": "code",
   "execution_count": 582,
   "id": "844fd88f-9726-461d-a4ae-0a8c9c7d28a2",
   "metadata": {},
   "outputs": [],
   "source": [
    "df1['actual_audience']= df1['actual_audience'].astype(int)\n",
    "df1['predict_audience']= df1['predict_audience'].astype(float)"
   ]
  },
  {
   "cell_type": "code",
   "execution_count": 583,
   "id": "035432bb-439f-43f9-8106-38c26676717c",
   "metadata": {},
   "outputs": [],
   "source": [
    "df1['차이값'] = df1['actual_audience'] - df1['predict_audience']"
   ]
  },
  {
   "cell_type": "code",
   "execution_count": 584,
   "id": "b24e1c3f-a4bf-4dd1-8819-36d8e1f0e527",
   "metadata": {},
   "outputs": [
    {
     "data": {
      "text/html": [
       "<div>\n",
       "<style scoped>\n",
       "    .dataframe tbody tr th:only-of-type {\n",
       "        vertical-align: middle;\n",
       "    }\n",
       "\n",
       "    .dataframe tbody tr th {\n",
       "        vertical-align: top;\n",
       "    }\n",
       "\n",
       "    .dataframe thead th {\n",
       "        text-align: right;\n",
       "    }\n",
       "</style>\n",
       "<table border=\"1\" class=\"dataframe\">\n",
       "  <thead>\n",
       "    <tr style=\"text-align: right;\">\n",
       "      <th></th>\n",
       "      <th>movieNm</th>\n",
       "      <th>actual_audience</th>\n",
       "      <th>predict_audience</th>\n",
       "      <th>차이값</th>\n",
       "    </tr>\n",
       "  </thead>\n",
       "  <tbody>\n",
       "    <tr>\n",
       "      <th>0</th>\n",
       "      <td>극한직업</td>\n",
       "      <td>16265618</td>\n",
       "      <td>16980507.5</td>\n",
       "      <td>-714889.5</td>\n",
       "    </tr>\n",
       "    <tr>\n",
       "      <th>1</th>\n",
       "      <td>어벤져스: 엔드게임</td>\n",
       "      <td>13934592</td>\n",
       "      <td>14743200.8</td>\n",
       "      <td>-808608.8</td>\n",
       "    </tr>\n",
       "    <tr>\n",
       "      <th>2</th>\n",
       "      <td>겨울왕국 2</td>\n",
       "      <td>13369064</td>\n",
       "      <td>13797477.7</td>\n",
       "      <td>-428413.7</td>\n",
       "    </tr>\n",
       "    <tr>\n",
       "      <th>3</th>\n",
       "      <td>7번방의 선물</td>\n",
       "      <td>12811206</td>\n",
       "      <td>11648428.7</td>\n",
       "      <td>1162777.3</td>\n",
       "    </tr>\n",
       "    <tr>\n",
       "      <th>4</th>\n",
       "      <td>알라딘</td>\n",
       "      <td>12552283</td>\n",
       "      <td>12901523.1</td>\n",
       "      <td>-349240.1</td>\n",
       "    </tr>\n",
       "    <tr>\n",
       "      <th>5</th>\n",
       "      <td>신과함께-인과 연</td>\n",
       "      <td>12274996</td>\n",
       "      <td>12529761.2</td>\n",
       "      <td>-254765.2</td>\n",
       "    </tr>\n",
       "    <tr>\n",
       "      <th>6</th>\n",
       "      <td>택시운전사</td>\n",
       "      <td>12186327</td>\n",
       "      <td>11753991.6</td>\n",
       "      <td>432335.4</td>\n",
       "    </tr>\n",
       "    <tr>\n",
       "      <th>7</th>\n",
       "      <td>부산행</td>\n",
       "      <td>11565479</td>\n",
       "      <td>11129874.4</td>\n",
       "      <td>435604.6</td>\n",
       "    </tr>\n",
       "    <tr>\n",
       "      <th>8</th>\n",
       "      <td>어벤져스: 인피니티 워</td>\n",
       "      <td>11212710</td>\n",
       "      <td>12188313.8</td>\n",
       "      <td>-975603.8</td>\n",
       "    </tr>\n",
       "    <tr>\n",
       "      <th>9</th>\n",
       "      <td>어벤져스: 에이지 오브 울트론</td>\n",
       "      <td>10494499</td>\n",
       "      <td>10726016.3</td>\n",
       "      <td>-231517.3</td>\n",
       "    </tr>\n",
       "  </tbody>\n",
       "</table>\n",
       "</div>"
      ],
      "text/plain": [
       "            movieNm  actual_audience  predict_audience       차이값\n",
       "0              극한직업         16265618        16980507.5 -714889.5\n",
       "1        어벤져스: 엔드게임         13934592        14743200.8 -808608.8\n",
       "2            겨울왕국 2         13369064        13797477.7 -428413.7\n",
       "3           7번방의 선물         12811206        11648428.7 1162777.3\n",
       "4               알라딘         12552283        12901523.1 -349240.1\n",
       "5         신과함께-인과 연         12274996        12529761.2 -254765.2\n",
       "6             택시운전사         12186327        11753991.6  432335.4\n",
       "7               부산행         11565479        11129874.4  435604.6\n",
       "8      어벤져스: 인피니티 워         11212710        12188313.8 -975603.8\n",
       "9  어벤져스: 에이지 오브 울트론         10494499        10726016.3 -231517.3"
      ]
     },
     "execution_count": 584,
     "metadata": {},
     "output_type": "execute_result"
    }
   ],
   "source": [
    "df1"
   ]
  },
  {
   "cell_type": "code",
   "execution_count": 585,
   "id": "890daddc-f08b-404e-b664-ce07a10ecaa2",
   "metadata": {},
   "outputs": [],
   "source": [
    "from matplotlib import font_manager, rc\n",
    "\n",
    "font_name = font_manager.FontProperties(fname=\"c:/Windows/Fonts/malgun.ttf\").get_name()\n",
    "rc('font', family=font_name)"
   ]
  },
  {
   "cell_type": "code",
   "execution_count": 586,
   "id": "e0bb1178-56b8-4d2f-a503-d78d38d0327c",
   "metadata": {
    "tags": []
   },
   "outputs": [
    {
     "data": {
      "image/png": "[encoded data removed]",
      "text/plain": [
       "<Figure size 800x700 with 1 Axes>"
      ]
     },
     "metadata": {},
     "output_type": "display_data"
    }
   ],
   "source": [
    "import matplotlib.pyplot as plt\n",
    "df1.plot(x=\"movieNm\", y=[\"actual_audience\",\"predict_audience\"], kind=\"bar\",figsize=(8,7))\n",
    "plt.title('관객수 Top10 예측', fontsize=10)\n",
    "plt.xlabel('영화명', fontsize=10)\n",
    "plt.ylabel('관객수', fontsize=10)\n",
    "plt.show()"
   ]
  }
 ],
 "metadata": {
  "kernelspec": {
   "display_name": "Python 3",
   "language": "python",
   "name": "python3"
  },
  "language_info": {
   "codemirror_mode": {
    "name": "ipython",
    "version": 3
   },
   "file_extension": ".py",
   "mimetype": "text/x-python",
   "name": "python",
   "nbconvert_exporter": "python",
   "pygments_lexer": "ipython3",
   "version": "3.8.11"
  }
 },
 "nbformat": 4,
 "nbformat_minor": 5
}
