{
 "cells": [
  {
   "cell_type": "code",
   "execution_count": 327,
   "id": "democratic-signature",
   "metadata": {},
   "outputs": [],
   "source": [
    "import csv\n",
    "import pandas as pd\n",
    "import matplotlib.pyplot as plt\n",
    "%matplotlib inline\n",
    "import seaborn as sns\n",
    "import numpy as np\n",
    "from matplotlib import font_manager, rc\n",
    "import math\n",
    "import scipy as sp\n",
    "\n",
    "sns.set_palette(\"Set2\")\n",
    "\n",
    "font_name = font_manager.FontProperties(fname=\"c:/Windows/Fonts/malgun.ttf\").get_name()\n",
    "rc('font', family=font_name)"
   ]
  },
  {
   "cell_type": "markdown",
   "id": "excited-refrigerator",
   "metadata": {},
   "source": [
    "서울시 기초 데이터 살펴보기"
   ]
  },
  {
   "cell_type": "code",
   "execution_count": 328,
   "id": "freelance-tsunami",
   "metadata": {},
   "outputs": [],
   "source": [
    "seouldong = pd.read_csv('seouldong.csv')"
   ]
  },
  {
   "cell_type": "code",
   "execution_count": 329,
   "id": "aggregate-illinois",
   "metadata": {},
   "outputs": [
    {
     "data": {
      "text/html": [
       "<div>\n",
       "<style scoped>\n",
       "    .dataframe tbody tr th:only-of-type {\n",
       "        vertical-align: middle;\n",
       "    }\n",
       "\n",
       "    .dataframe tbody tr th {\n",
       "        vertical-align: top;\n",
       "    }\n",
       "\n",
       "    .dataframe thead th {\n",
       "        text-align: right;\n",
       "    }\n",
       "</style>\n",
       "<table border=\"1\" class=\"dataframe\">\n",
       "  <thead>\n",
       "    <tr style=\"text-align: right;\">\n",
       "      <th></th>\n",
       "      <th>기준일ID</th>\n",
       "      <th>시간대구분</th>\n",
       "      <th>행정동코드</th>\n",
       "      <th>총생활인구수</th>\n",
       "    </tr>\n",
       "  </thead>\n",
       "  <tbody>\n",
       "    <tr>\n",
       "      <th>0</th>\n",
       "      <td>20201127</td>\n",
       "      <td>0</td>\n",
       "      <td>서강동</td>\n",
       "      <td>28944.5254</td>\n",
       "    </tr>\n",
       "    <tr>\n",
       "      <th>1</th>\n",
       "      <td>20201127</td>\n",
       "      <td>0</td>\n",
       "      <td>성내제2동</td>\n",
       "      <td>27686.7229</td>\n",
       "    </tr>\n",
       "    <tr>\n",
       "      <th>2</th>\n",
       "      <td>20201127</td>\n",
       "      <td>0</td>\n",
       "      <td>회현동</td>\n",
       "      <td>8786.8275</td>\n",
       "    </tr>\n",
       "    <tr>\n",
       "      <th>3</th>\n",
       "      <td>20201127</td>\n",
       "      <td>0</td>\n",
       "      <td>신수동</td>\n",
       "      <td>21312.4672</td>\n",
       "    </tr>\n",
       "    <tr>\n",
       "      <th>4</th>\n",
       "      <td>20201127</td>\n",
       "      <td>0</td>\n",
       "      <td>전농제2동</td>\n",
       "      <td>18067.8559</td>\n",
       "    </tr>\n",
       "  </tbody>\n",
       "</table>\n",
       "</div>"
      ],
      "text/plain": [
       "      기준일ID  시간대구분  행정동코드      총생활인구수\n",
       "0  20201127      0    서강동  28944.5254\n",
       "1  20201127      0  성내제2동  27686.7229\n",
       "2  20201127      0    회현동   8786.8275\n",
       "3  20201127      0    신수동  21312.4672\n",
       "4  20201127      0  전농제2동  18067.8559"
      ]
     },
     "execution_count": 329,
     "metadata": {},
     "output_type": "execute_result"
    }
   ],
   "source": [
    "seouldong.head()"
   ]
  },
  {
   "cell_type": "code",
   "execution_count": 330,
   "id": "cubic-python",
   "metadata": {},
   "outputs": [
    {
     "data": {
      "text/html": [
       "<div>\n",
       "<style scoped>\n",
       "    .dataframe tbody tr th:only-of-type {\n",
       "        vertical-align: middle;\n",
       "    }\n",
       "\n",
       "    .dataframe tbody tr th {\n",
       "        vertical-align: top;\n",
       "    }\n",
       "\n",
       "    .dataframe thead th {\n",
       "        text-align: right;\n",
       "    }\n",
       "</style>\n",
       "<table border=\"1\" class=\"dataframe\">\n",
       "  <thead>\n",
       "    <tr style=\"text-align: right;\">\n",
       "      <th></th>\n",
       "      <th>기준일ID</th>\n",
       "      <th>시간대구분</th>\n",
       "      <th>행정동코드</th>\n",
       "      <th>총생활인구수</th>\n",
       "    </tr>\n",
       "  </thead>\n",
       "  <tbody>\n",
       "    <tr>\n",
       "      <th>10171</th>\n",
       "      <td>20201127</td>\n",
       "      <td>23</td>\n",
       "      <td>상계6.7동</td>\n",
       "      <td>38351.3077</td>\n",
       "    </tr>\n",
       "    <tr>\n",
       "      <th>10172</th>\n",
       "      <td>20201127</td>\n",
       "      <td>23</td>\n",
       "      <td>삼전동</td>\n",
       "      <td>35514.7087</td>\n",
       "    </tr>\n",
       "    <tr>\n",
       "      <th>10173</th>\n",
       "      <td>20201127</td>\n",
       "      <td>23</td>\n",
       "      <td>삼성동</td>\n",
       "      <td>25850.0262</td>\n",
       "    </tr>\n",
       "    <tr>\n",
       "      <th>10174</th>\n",
       "      <td>20201127</td>\n",
       "      <td>23</td>\n",
       "      <td>삼성1동</td>\n",
       "      <td>20036.6370</td>\n",
       "    </tr>\n",
       "    <tr>\n",
       "      <th>10175</th>\n",
       "      <td>20201127</td>\n",
       "      <td>23</td>\n",
       "      <td>대흥동</td>\n",
       "      <td>18626.1671</td>\n",
       "    </tr>\n",
       "  </tbody>\n",
       "</table>\n",
       "</div>"
      ],
      "text/plain": [
       "          기준일ID  시간대구분   행정동코드      총생활인구수\n",
       "10171  20201127     23  상계6.7동  38351.3077\n",
       "10172  20201127     23     삼전동  35514.7087\n",
       "10173  20201127     23     삼성동  25850.0262\n",
       "10174  20201127     23    삼성1동  20036.6370\n",
       "10175  20201127     23     대흥동  18626.1671"
      ]
     },
     "execution_count": 330,
     "metadata": {},
     "output_type": "execute_result"
    }
   ],
   "source": [
    "seouldong.tail()"
   ]
  },
  {
   "cell_type": "code",
   "execution_count": 331,
   "id": "virgin-output",
   "metadata": {},
   "outputs": [
    {
     "data": {
      "text/html": [
       "<div>\n",
       "<style scoped>\n",
       "    .dataframe tbody tr th:only-of-type {\n",
       "        vertical-align: middle;\n",
       "    }\n",
       "\n",
       "    .dataframe tbody tr th {\n",
       "        vertical-align: top;\n",
       "    }\n",
       "\n",
       "    .dataframe thead th {\n",
       "        text-align: right;\n",
       "    }\n",
       "</style>\n",
       "<table border=\"1\" class=\"dataframe\">\n",
       "  <thead>\n",
       "    <tr style=\"text-align: right;\">\n",
       "      <th></th>\n",
       "      <th>기준일ID</th>\n",
       "      <th>시간대구분</th>\n",
       "      <th>총생활인구수</th>\n",
       "    </tr>\n",
       "  </thead>\n",
       "  <tbody>\n",
       "    <tr>\n",
       "      <th>count</th>\n",
       "      <td>10176.0</td>\n",
       "      <td>10176.000000</td>\n",
       "      <td>10176.000000</td>\n",
       "    </tr>\n",
       "    <tr>\n",
       "      <th>mean</th>\n",
       "      <td>20201127.0</td>\n",
       "      <td>11.500000</td>\n",
       "      <td>24769.703363</td>\n",
       "    </tr>\n",
       "    <tr>\n",
       "      <th>std</th>\n",
       "      <td>0.0</td>\n",
       "      <td>6.922527</td>\n",
       "      <td>13312.704401</td>\n",
       "    </tr>\n",
       "    <tr>\n",
       "      <th>min</th>\n",
       "      <td>20201127.0</td>\n",
       "      <td>0.000000</td>\n",
       "      <td>3948.683900</td>\n",
       "    </tr>\n",
       "    <tr>\n",
       "      <th>25%</th>\n",
       "      <td>20201127.0</td>\n",
       "      <td>5.750000</td>\n",
       "      <td>16270.609450</td>\n",
       "    </tr>\n",
       "    <tr>\n",
       "      <th>50%</th>\n",
       "      <td>20201127.0</td>\n",
       "      <td>11.500000</td>\n",
       "      <td>22156.546900</td>\n",
       "    </tr>\n",
       "    <tr>\n",
       "      <th>75%</th>\n",
       "      <td>20201127.0</td>\n",
       "      <td>17.250000</td>\n",
       "      <td>30346.259550</td>\n",
       "    </tr>\n",
       "    <tr>\n",
       "      <th>max</th>\n",
       "      <td>20201127.0</td>\n",
       "      <td>23.000000</td>\n",
       "      <td>159153.811300</td>\n",
       "    </tr>\n",
       "  </tbody>\n",
       "</table>\n",
       "</div>"
      ],
      "text/plain": [
       "            기준일ID         시간대구분         총생활인구수\n",
       "count     10176.0  10176.000000   10176.000000\n",
       "mean   20201127.0     11.500000   24769.703363\n",
       "std           0.0      6.922527   13312.704401\n",
       "min    20201127.0      0.000000    3948.683900\n",
       "25%    20201127.0      5.750000   16270.609450\n",
       "50%    20201127.0     11.500000   22156.546900\n",
       "75%    20201127.0     17.250000   30346.259550\n",
       "max    20201127.0     23.000000  159153.811300"
      ]
     },
     "execution_count": 331,
     "metadata": {},
     "output_type": "execute_result"
    }
   ],
   "source": [
    "seouldong.describe()"
   ]
  },
  {
   "cell_type": "code",
   "execution_count": 332,
   "id": "increasing-specific",
   "metadata": {},
   "outputs": [
    {
     "name": "stdout",
     "output_type": "stream",
     "text": [
      "<class 'pandas.core.frame.DataFrame'>\n",
      "RangeIndex: 10176 entries, 0 to 10175\n",
      "Data columns (total 4 columns):\n",
      " #   Column  Non-Null Count  Dtype  \n",
      "---  ------  --------------  -----  \n",
      " 0   기준일ID   10176 non-null  int64  \n",
      " 1   시간대구분   10176 non-null  int64  \n",
      " 2   행정동코드   10176 non-null  object \n",
      " 3   총생활인구수  10176 non-null  float64\n",
      "dtypes: float64(1), int64(2), object(1)\n",
      "memory usage: 318.1+ KB\n"
     ]
    }
   ],
   "source": [
    "seouldong.info()"
   ]
  },
  {
   "cell_type": "code",
   "execution_count": 333,
   "id": "likely-pledge",
   "metadata": {},
   "outputs": [
    {
     "data": {
      "text/plain": [
       "Index(['기준일ID', '시간대구분', '행정동코드', '총생활인구수'], dtype='object')"
      ]
     },
     "execution_count": 333,
     "metadata": {},
     "output_type": "execute_result"
    }
   ],
   "source": [
    "seouldong.columns"
   ]
  },
  {
   "cell_type": "markdown",
   "id": "bronze-thumb",
   "metadata": {},
   "source": [
    "서울시 기초 데이터 전처리"
   ]
  },
  {
   "cell_type": "code",
   "execution_count": 334,
   "id": "engaging-cattle",
   "metadata": {},
   "outputs": [
    {
     "data": {
      "text/html": [
       "<div>\n",
       "<style scoped>\n",
       "    .dataframe tbody tr th:only-of-type {\n",
       "        vertical-align: middle;\n",
       "    }\n",
       "\n",
       "    .dataframe tbody tr th {\n",
       "        vertical-align: top;\n",
       "    }\n",
       "\n",
       "    .dataframe thead th {\n",
       "        text-align: right;\n",
       "    }\n",
       "</style>\n",
       "<table border=\"1\" class=\"dataframe\">\n",
       "  <thead>\n",
       "    <tr style=\"text-align: right;\">\n",
       "      <th></th>\n",
       "      <th>기준일ID</th>\n",
       "      <th>시간대구분</th>\n",
       "      <th>행정동코드</th>\n",
       "      <th>총생활인구수</th>\n",
       "    </tr>\n",
       "  </thead>\n",
       "  <tbody>\n",
       "    <tr>\n",
       "      <th>0</th>\n",
       "      <td>20201127</td>\n",
       "      <td>0</td>\n",
       "      <td>서강동</td>\n",
       "      <td>28944.5254</td>\n",
       "    </tr>\n",
       "    <tr>\n",
       "      <th>1</th>\n",
       "      <td>20201127</td>\n",
       "      <td>0</td>\n",
       "      <td>성내제2동</td>\n",
       "      <td>27686.7229</td>\n",
       "    </tr>\n",
       "    <tr>\n",
       "      <th>2</th>\n",
       "      <td>20201127</td>\n",
       "      <td>0</td>\n",
       "      <td>회현동</td>\n",
       "      <td>8786.8275</td>\n",
       "    </tr>\n",
       "    <tr>\n",
       "      <th>3</th>\n",
       "      <td>20201127</td>\n",
       "      <td>0</td>\n",
       "      <td>신수동</td>\n",
       "      <td>21312.4672</td>\n",
       "    </tr>\n",
       "    <tr>\n",
       "      <th>4</th>\n",
       "      <td>20201127</td>\n",
       "      <td>0</td>\n",
       "      <td>전농제2동</td>\n",
       "      <td>18067.8559</td>\n",
       "    </tr>\n",
       "  </tbody>\n",
       "</table>\n",
       "</div>"
      ],
      "text/plain": [
       "      기준일ID  시간대구분  행정동코드      총생활인구수\n",
       "0  20201127      0    서강동  28944.5254\n",
       "1  20201127      0  성내제2동  27686.7229\n",
       "2  20201127      0    회현동   8786.8275\n",
       "3  20201127      0    신수동  21312.4672\n",
       "4  20201127      0  전농제2동  18067.8559"
      ]
     },
     "execution_count": 334,
     "metadata": {},
     "output_type": "execute_result"
    }
   ],
   "source": [
    "seouldong.head()"
   ]
  },
  {
   "cell_type": "code",
   "execution_count": 335,
   "id": "white-wrist",
   "metadata": {},
   "outputs": [],
   "source": [
    "seouldong.drop(\"기준일ID\",axis=1,inplace=True)"
   ]
  },
  {
   "cell_type": "code",
   "execution_count": 336,
   "id": "instant-shirt",
   "metadata": {},
   "outputs": [
    {
     "data": {
      "text/html": [
       "<div>\n",
       "<style scoped>\n",
       "    .dataframe tbody tr th:only-of-type {\n",
       "        vertical-align: middle;\n",
       "    }\n",
       "\n",
       "    .dataframe tbody tr th {\n",
       "        vertical-align: top;\n",
       "    }\n",
       "\n",
       "    .dataframe thead th {\n",
       "        text-align: right;\n",
       "    }\n",
       "</style>\n",
       "<table border=\"1\" class=\"dataframe\">\n",
       "  <thead>\n",
       "    <tr style=\"text-align: right;\">\n",
       "      <th></th>\n",
       "      <th>시간대구분</th>\n",
       "      <th>행정동코드</th>\n",
       "      <th>총생활인구수</th>\n",
       "    </tr>\n",
       "  </thead>\n",
       "  <tbody>\n",
       "    <tr>\n",
       "      <th>0</th>\n",
       "      <td>0</td>\n",
       "      <td>서강동</td>\n",
       "      <td>28944.5254</td>\n",
       "    </tr>\n",
       "    <tr>\n",
       "      <th>1</th>\n",
       "      <td>0</td>\n",
       "      <td>성내제2동</td>\n",
       "      <td>27686.7229</td>\n",
       "    </tr>\n",
       "    <tr>\n",
       "      <th>2</th>\n",
       "      <td>0</td>\n",
       "      <td>회현동</td>\n",
       "      <td>8786.8275</td>\n",
       "    </tr>\n",
       "    <tr>\n",
       "      <th>3</th>\n",
       "      <td>0</td>\n",
       "      <td>신수동</td>\n",
       "      <td>21312.4672</td>\n",
       "    </tr>\n",
       "    <tr>\n",
       "      <th>4</th>\n",
       "      <td>0</td>\n",
       "      <td>전농제2동</td>\n",
       "      <td>18067.8559</td>\n",
       "    </tr>\n",
       "    <tr>\n",
       "      <th>...</th>\n",
       "      <td>...</td>\n",
       "      <td>...</td>\n",
       "      <td>...</td>\n",
       "    </tr>\n",
       "    <tr>\n",
       "      <th>10171</th>\n",
       "      <td>23</td>\n",
       "      <td>상계6.7동</td>\n",
       "      <td>38351.3077</td>\n",
       "    </tr>\n",
       "    <tr>\n",
       "      <th>10172</th>\n",
       "      <td>23</td>\n",
       "      <td>삼전동</td>\n",
       "      <td>35514.7087</td>\n",
       "    </tr>\n",
       "    <tr>\n",
       "      <th>10173</th>\n",
       "      <td>23</td>\n",
       "      <td>삼성동</td>\n",
       "      <td>25850.0262</td>\n",
       "    </tr>\n",
       "    <tr>\n",
       "      <th>10174</th>\n",
       "      <td>23</td>\n",
       "      <td>삼성1동</td>\n",
       "      <td>20036.6370</td>\n",
       "    </tr>\n",
       "    <tr>\n",
       "      <th>10175</th>\n",
       "      <td>23</td>\n",
       "      <td>대흥동</td>\n",
       "      <td>18626.1671</td>\n",
       "    </tr>\n",
       "  </tbody>\n",
       "</table>\n",
       "<p>10176 rows × 3 columns</p>\n",
       "</div>"
      ],
      "text/plain": [
       "       시간대구분   행정동코드      총생활인구수\n",
       "0          0     서강동  28944.5254\n",
       "1          0   성내제2동  27686.7229\n",
       "2          0     회현동   8786.8275\n",
       "3          0     신수동  21312.4672\n",
       "4          0   전농제2동  18067.8559\n",
       "...      ...     ...         ...\n",
       "10171     23  상계6.7동  38351.3077\n",
       "10172     23     삼전동  35514.7087\n",
       "10173     23     삼성동  25850.0262\n",
       "10174     23    삼성1동  20036.6370\n",
       "10175     23     대흥동  18626.1671\n",
       "\n",
       "[10176 rows x 3 columns]"
      ]
     },
     "execution_count": 336,
     "metadata": {},
     "output_type": "execute_result"
    }
   ],
   "source": [
    "seouldong"
   ]
  },
  {
   "cell_type": "code",
   "execution_count": 337,
   "id": "brown-socket",
   "metadata": {},
   "outputs": [],
   "source": [
    "seouldong.rename(columns = {\"행정동코드\": \"행정동\"}, inplace = True)"
   ]
  },
  {
   "cell_type": "code",
   "execution_count": 338,
   "id": "wireless-august",
   "metadata": {},
   "outputs": [
    {
     "data": {
      "text/html": [
       "<div>\n",
       "<style scoped>\n",
       "    .dataframe tbody tr th:only-of-type {\n",
       "        vertical-align: middle;\n",
       "    }\n",
       "\n",
       "    .dataframe tbody tr th {\n",
       "        vertical-align: top;\n",
       "    }\n",
       "\n",
       "    .dataframe thead th {\n",
       "        text-align: right;\n",
       "    }\n",
       "</style>\n",
       "<table border=\"1\" class=\"dataframe\">\n",
       "  <thead>\n",
       "    <tr style=\"text-align: right;\">\n",
       "      <th></th>\n",
       "      <th>시간대구분</th>\n",
       "      <th>행정동</th>\n",
       "      <th>총생활인구수</th>\n",
       "    </tr>\n",
       "  </thead>\n",
       "  <tbody>\n",
       "    <tr>\n",
       "      <th>0</th>\n",
       "      <td>0</td>\n",
       "      <td>서강동</td>\n",
       "      <td>28944.5254</td>\n",
       "    </tr>\n",
       "    <tr>\n",
       "      <th>1</th>\n",
       "      <td>0</td>\n",
       "      <td>성내제2동</td>\n",
       "      <td>27686.7229</td>\n",
       "    </tr>\n",
       "    <tr>\n",
       "      <th>2</th>\n",
       "      <td>0</td>\n",
       "      <td>회현동</td>\n",
       "      <td>8786.8275</td>\n",
       "    </tr>\n",
       "    <tr>\n",
       "      <th>3</th>\n",
       "      <td>0</td>\n",
       "      <td>신수동</td>\n",
       "      <td>21312.4672</td>\n",
       "    </tr>\n",
       "    <tr>\n",
       "      <th>4</th>\n",
       "      <td>0</td>\n",
       "      <td>전농제2동</td>\n",
       "      <td>18067.8559</td>\n",
       "    </tr>\n",
       "  </tbody>\n",
       "</table>\n",
       "</div>"
      ],
      "text/plain": [
       "   시간대구분    행정동      총생활인구수\n",
       "0      0    서강동  28944.5254\n",
       "1      0  성내제2동  27686.7229\n",
       "2      0    회현동   8786.8275\n",
       "3      0    신수동  21312.4672\n",
       "4      0  전농제2동  18067.8559"
      ]
     },
     "execution_count": 338,
     "metadata": {},
     "output_type": "execute_result"
    }
   ],
   "source": [
    "seouldong.head()"
   ]
  },
  {
   "cell_type": "code",
   "execution_count": 339,
   "id": "unlike-murray",
   "metadata": {},
   "outputs": [
    {
     "data": {
      "text/plain": [
       "시간대구분     0\n",
       "행정동       0\n",
       "총생활인구수    0\n",
       "dtype: int64"
      ]
     },
     "execution_count": 339,
     "metadata": {},
     "output_type": "execute_result"
    }
   ],
   "source": [
    "seouldong.isna().sum()"
   ]
  },
  {
   "cell_type": "code",
   "execution_count": 340,
   "id": "designing-currency",
   "metadata": {},
   "outputs": [
    {
     "data": {
      "text/html": [
       "<div>\n",
       "<style scoped>\n",
       "    .dataframe tbody tr th:only-of-type {\n",
       "        vertical-align: middle;\n",
       "    }\n",
       "\n",
       "    .dataframe tbody tr th {\n",
       "        vertical-align: top;\n",
       "    }\n",
       "\n",
       "    .dataframe thead th {\n",
       "        text-align: right;\n",
       "    }\n",
       "</style>\n",
       "<table border=\"1\" class=\"dataframe\">\n",
       "  <thead>\n",
       "    <tr style=\"text-align: right;\">\n",
       "      <th></th>\n",
       "      <th>시간대구분</th>\n",
       "      <th>총생활인구수</th>\n",
       "    </tr>\n",
       "  </thead>\n",
       "  <tbody>\n",
       "    <tr>\n",
       "      <th>count</th>\n",
       "      <td>10176.000000</td>\n",
       "      <td>10176.000000</td>\n",
       "    </tr>\n",
       "    <tr>\n",
       "      <th>mean</th>\n",
       "      <td>11.500000</td>\n",
       "      <td>24769.703363</td>\n",
       "    </tr>\n",
       "    <tr>\n",
       "      <th>std</th>\n",
       "      <td>6.922527</td>\n",
       "      <td>13312.704401</td>\n",
       "    </tr>\n",
       "    <tr>\n",
       "      <th>min</th>\n",
       "      <td>0.000000</td>\n",
       "      <td>3948.683900</td>\n",
       "    </tr>\n",
       "    <tr>\n",
       "      <th>25%</th>\n",
       "      <td>5.750000</td>\n",
       "      <td>16270.609450</td>\n",
       "    </tr>\n",
       "    <tr>\n",
       "      <th>50%</th>\n",
       "      <td>11.500000</td>\n",
       "      <td>22156.546900</td>\n",
       "    </tr>\n",
       "    <tr>\n",
       "      <th>75%</th>\n",
       "      <td>17.250000</td>\n",
       "      <td>30346.259550</td>\n",
       "    </tr>\n",
       "    <tr>\n",
       "      <th>max</th>\n",
       "      <td>23.000000</td>\n",
       "      <td>159153.811300</td>\n",
       "    </tr>\n",
       "  </tbody>\n",
       "</table>\n",
       "</div>"
      ],
      "text/plain": [
       "              시간대구분         총생활인구수\n",
       "count  10176.000000   10176.000000\n",
       "mean      11.500000   24769.703363\n",
       "std        6.922527   13312.704401\n",
       "min        0.000000    3948.683900\n",
       "25%        5.750000   16270.609450\n",
       "50%       11.500000   22156.546900\n",
       "75%       17.250000   30346.259550\n",
       "max       23.000000  159153.811300"
      ]
     },
     "execution_count": 340,
     "metadata": {},
     "output_type": "execute_result"
    }
   ],
   "source": [
    "seouldong.describe()"
   ]
  },
  {
   "cell_type": "markdown",
   "id": "elect-reform",
   "metadata": {},
   "source": [
    "서울시 기초 데이터 분석"
   ]
  },
  {
   "cell_type": "code",
   "execution_count": 343,
   "id": "sporting-clerk",
   "metadata": {},
   "outputs": [],
   "source": [
    "grouped = seouldong.groupby(['행정동','시간대구분'])"
   ]
  },
  {
   "cell_type": "code",
   "execution_count": 344,
   "id": "economic-biology",
   "metadata": {},
   "outputs": [],
   "source": [
    "gg=grouped.mean()\n",
    "#gg"
   ]
  },
  {
   "cell_type": "code",
   "execution_count": 345,
   "id": "alpine-clause",
   "metadata": {},
   "outputs": [
    {
     "data": {
      "text/plain": [
       "<seaborn.axisgrid.FacetGrid at 0x1eddaeefbe0>"
      ]
     },
     "execution_count": 345,
     "metadata": {},
     "output_type": "execute_result"
    },
    {
     "data": {
      "image/png": "[encoded data removed]",
      "text/plain": [
       "<Figure size 360x360 with 1 Axes>"
      ]
     },
     "metadata": {
      "needs_background": "light"
     },
     "output_type": "display_data"
    }
   ],
   "source": [
    "sns.relplot(data=gg,x='시간대구분',y='총생활인구수',kind='line')"
   ]
  },
  {
   "cell_type": "code",
   "execution_count": 346,
   "id": "adjustable-switch",
   "metadata": {},
   "outputs": [],
   "source": [
    "seoul_time = seouldong.pivot_table(values='총생활인구수',index='행정동',columns='시간대구분')\n",
    "#seoul_time"
   ]
  },
  {
   "cell_type": "code",
   "execution_count": 347,
   "id": "optional-devil",
   "metadata": {},
   "outputs": [],
   "source": [
    "a = np.max(seoul_time,axis = 1) - np.min(seoul_time,axis=1)\n",
    "#a"
   ]
  },
  {
   "cell_type": "code",
   "execution_count": 348,
   "id": "monthly-surveillance",
   "metadata": {},
   "outputs": [],
   "source": [
    "b = np.max(seoul_time,axis=1)*0.2\n",
    "#b"
   ]
  },
  {
   "cell_type": "code",
   "execution_count": 349,
   "id": "supported-stadium",
   "metadata": {},
   "outputs": [],
   "source": [
    "fal = a < b"
   ]
  },
  {
   "cell_type": "code",
   "execution_count": 350,
   "id": "negative-webster",
   "metadata": {},
   "outputs": [],
   "source": [
    "etc = seoul_time[fal == True]  #기타지역"
   ]
  },
  {
   "cell_type": "code",
   "execution_count": 351,
   "id": "fitting-revision",
   "metadata": {},
   "outputs": [],
   "source": [
    "pd.set_option('display.max_seq_items',None)"
   ]
  },
  {
   "cell_type": "code",
   "execution_count": 352,
   "id": "coated-sender",
   "metadata": {},
   "outputs": [
    {
     "data": {
      "text/plain": [
       "Index(['가락1동', '가락2동', '가락본동', '가리봉동', '가양제2동', '가양제3동', '갈현제1동', '강일동',\n",
       "       '개봉제1동', '개포2동', '개포4동', '거여1동', '고덕제2동', '고척제1동', '공덕동', '공릉1동',\n",
       "       '공릉2동', '공항동', '광장동', '교남동', '구로제5동', '구의제3동', '군자동', '금호4가동', '길동',\n",
       "       '낙성대동', '남가좌제1동', '남가좌제2동', '노량진제1동', '노량진제2동', '다산동', '답십리제1동',\n",
       "       '답십리제2동', '당산제2동', '대림제1동', '대림제3동', '대방동', '도곡2동', '도봉제1동', '도봉제2동',\n",
       "       '도화동', '독산제1동', '동선동', '동화동', '둔촌제2동', '등촌제1동', '마장동', '마천2동', '망우본동',\n",
       "       '망원제2동', '면목제5동', '명일제1동', '목5동', '문정1동', '미아동', '반포1동', '반포2동',\n",
       "       '발산제1동', '방배4동', '방배본동', '방이2동', '방학제1동', '방화제1동', '방화제2동', '번1동',\n",
       "       '부암동', '사당제2동', '삼선동', '상계10동', '상계1동', '상계2동', '상계5동', '상계6.7동',\n",
       "       '상도제2동', '상봉제1동', '상봉제2동', '상일동', '서강동', '서빙고동', '석관동', '석촌동', '성내제1동',\n",
       "       '성내제2동', '성내제3동', '성북동', '성산제1동', '성산제2동', '세곡동', '송중동', '송천동', '송파1동',\n",
       "       '송파2동', '수색동', '수유3동', '숭인제1동', '시흥제1동', '시흥제3동', '신길제1동', '신길제5동',\n",
       "       '신내2동', '신당제5동', '신대방제2동', '신도림동', '신월3동', '신월5동', '신정1동', '신정2동',\n",
       "       '신정4동', '신정7동', '쌍문제1동', '쌍문제3동', '아현동', '암사제2동', '암사제3동', '연희동', '염리동',\n",
       "       '염창동', '영등포본동', '오금동', '왕십리도선동', '용강동', '용답동', '용산2가동', '우장산동',\n",
       "       '원효로제2동', '월계1동', '월곡제1동', '월곡제2동', '위례동', '이문제1동', '이촌제1동', '이태원제2동',\n",
       "       '일원1동', '일원2동', '자양제1동', '자양제3동', '잠실2동', '잠실본동', '잠원동', '장안제1동',\n",
       "       '장안제2동', '장위제2동', '장위제3동', '장지동', '전농제1동', '전농제2동', '정릉제3동', '제기동',\n",
       "       '조원동', '중계2.3동', '중곡제1동', '중곡제3동', '중앙동', '증산동', '진관동', '창신제1동', '창제1동',\n",
       "       '창제4동', '창제5동', '천연동', '천호제2동', '천호제3동', '청량리동', '청파동', '평창동', '풍납1동',\n",
       "       '혜화동', '홍은제2동', '홍제제1동', '홍제제3동', '화양동', '황학동', '효창동', '흑석동'],\n",
       "      dtype='object', name='행정동')"
      ]
     },
     "execution_count": 352,
     "metadata": {},
     "output_type": "execute_result"
    }
   ],
   "source": [
    "etc.index"
   ]
  },
  {
   "cell_type": "code",
   "execution_count": 353,
   "id": "heated-nebraska",
   "metadata": {},
   "outputs": [],
   "source": [
    "fal_region = seoul_time[fal == False]"
   ]
  },
  {
   "cell_type": "code",
   "execution_count": 354,
   "id": "changed-earth",
   "metadata": {},
   "outputs": [],
   "source": [
    "fal_region2 = fal_region.idxmax(axis=1)"
   ]
  },
  {
   "cell_type": "code",
   "execution_count": 355,
   "id": "preliminary-judge",
   "metadata": {},
   "outputs": [],
   "source": [
    "work = fal_region2[(fal_region2 >= 8) & (fal_region2 <= 20)]  #상업지역"
   ]
  },
  {
   "cell_type": "code",
   "execution_count": 356,
   "id": "intimate-appendix",
   "metadata": {},
   "outputs": [],
   "source": [
    "#work.index"
   ]
  },
  {
   "cell_type": "code",
   "execution_count": 357,
   "id": "abroad-artist",
   "metadata": {},
   "outputs": [],
   "source": [
    "home = fal_region2[(fal_region2 <= 7) | (fal_region2 >= 21)]  #주거지역\n",
    "#home.index"
   ]
  },
  {
   "cell_type": "code",
   "execution_count": 358,
   "id": "black-activation",
   "metadata": {},
   "outputs": [],
   "source": [
    "# 출근시간(7~9시) 생활인구 변화량 상위 10개 행정동"
   ]
  },
  {
   "cell_type": "code",
   "execution_count": 359,
   "id": "greenhouse-correction",
   "metadata": {},
   "outputs": [],
   "source": [
    "change = seoul_time[9] - seoul_time[6]"
   ]
  },
  {
   "cell_type": "code",
   "execution_count": 360,
   "id": "korean-joseph",
   "metadata": {},
   "outputs": [],
   "source": [
    "cha = change < 0"
   ]
  },
  {
   "cell_type": "code",
   "execution_count": 361,
   "id": "normal-arrest",
   "metadata": {},
   "outputs": [],
   "source": [
    "cha_region = change[cha == False]"
   ]
  },
  {
   "cell_type": "code",
   "execution_count": 362,
   "id": "junior-request",
   "metadata": {},
   "outputs": [],
   "source": [
    "cha_region_s = cha_region.sort_values(ascending = False) #영등포구, 강남구, 금천구, 정로구"
   ]
  },
  {
   "cell_type": "code",
   "execution_count": 373,
   "id": "controlling-andrews",
   "metadata": {},
   "outputs": [
    {
     "data": {
      "text/plain": [
       "행정동\n",
       "여의동          76745.7485\n",
       "역삼1동         64357.7111\n",
       "가산동          57372.3047\n",
       "종로1.2.3.4    56443.1611\n",
       "명동           43280.3069\n",
       "소공동          39151.0617\n",
       "서초3동         36451.2267\n",
       "삼성1동         32751.0024\n",
       "구로제3동        31726.7498\n",
       "회현동          29557.9506\n",
       "dtype: float64"
      ]
     },
     "execution_count": 373,
     "metadata": {},
     "output_type": "execute_result"
    }
   ],
   "source": [
    "cha_region_s.head(10)"
   ]
  },
  {
   "cell_type": "code",
   "execution_count": 374,
   "id": "brave-turkey",
   "metadata": {},
   "outputs": [],
   "source": [
    "# 결과는 1순위 : 여의동"
   ]
  },
  {
   "cell_type": "code",
   "execution_count": 375,
   "id": "lightweight-warren",
   "metadata": {},
   "outputs": [],
   "source": [
    "# 심야시간(23~01시) 생활인구 변화량 상위 10개 행정동"
   ]
  },
  {
   "cell_type": "code",
   "execution_count": 376,
   "id": "rough-console",
   "metadata": {},
   "outputs": [],
   "source": [
    "change2 = seoul_time[22] - seoul_time[1]"
   ]
  },
  {
   "cell_type": "code",
   "execution_count": 377,
   "id": "enabling-kelly",
   "metadata": {},
   "outputs": [],
   "source": [
    "cha2 = change2 < 0"
   ]
  },
  {
   "cell_type": "code",
   "execution_count": 378,
   "id": "single-norman",
   "metadata": {},
   "outputs": [],
   "source": [
    "cha_region2 = change2[cha2 == False]"
   ]
  },
  {
   "cell_type": "code",
   "execution_count": 379,
   "id": "activated-charge",
   "metadata": {},
   "outputs": [],
   "source": [
    "cha_region2_s = cha_region2.sort_values(ascending = False)"
   ]
  },
  {
   "cell_type": "code",
   "execution_count": 380,
   "id": "completed-conversation",
   "metadata": {},
   "outputs": [
    {
     "data": {
      "text/plain": [
       "행정동\n",
       "서교동          13439.4826\n",
       "잠실6동          7779.9097\n",
       "종로1.2.3.4     6959.6807\n",
       "역삼1동          6830.8474\n",
       "여의동           6004.0997\n",
       "영등포동          5814.0658\n",
       "대치2동          5786.1677\n",
       "삼성1동          5534.1668\n",
       "목1동           5276.9582\n",
       "한강로동          5089.2197\n",
       "dtype: float64"
      ]
     },
     "execution_count": 380,
     "metadata": {},
     "output_type": "execute_result"
    }
   ],
   "source": [
    "cha_region2_s.head(10)"
   ]
  },
  {
   "cell_type": "code",
   "execution_count": 381,
   "id": "ecological-copying",
   "metadata": {},
   "outputs": [],
   "source": [
    "# 결과는 1순위: 서교동"
   ]
  },
  {
   "cell_type": "markdown",
   "id": "bronze-wallet",
   "metadata": {},
   "source": [
    "클러스터링"
   ]
  },
  {
   "cell_type": "code",
   "execution_count": 382,
   "id": "directed-inclusion",
   "metadata": {},
   "outputs": [],
   "source": [
    "seoul_time['a'] = a"
   ]
  },
  {
   "cell_type": "code",
   "execution_count": 383,
   "id": "quick-composer",
   "metadata": {},
   "outputs": [],
   "source": [
    "seoul_time['b'] = b"
   ]
  },
  {
   "cell_type": "code",
   "execution_count": 384,
   "id": "diverse-anatomy",
   "metadata": {},
   "outputs": [],
   "source": [
    "centroids = seoul_time.sample(2, random_state=1)"
   ]
  },
  {
   "cell_type": "code",
   "execution_count": 385,
   "id": "seeing-orange",
   "metadata": {},
   "outputs": [],
   "source": [
    "distance = sp.spatial.distance.cdist(seoul_time, centroids, \"euclidean\")"
   ]
  },
  {
   "cell_type": "code",
   "execution_count": 386,
   "id": "complicated-portal",
   "metadata": {},
   "outputs": [],
   "source": [
    "cluster_num = np.argmin(distance, axis=1)"
   ]
  },
  {
   "cell_type": "code",
   "execution_count": 387,
   "id": "induced-baking",
   "metadata": {},
   "outputs": [],
   "source": [
    "result = seoul_time.copy()\n",
    "result[\"cluster\"] = np.array(cluster_num)\n",
    "#result.head()"
   ]
  },
  {
   "cell_type": "code",
   "execution_count": 388,
   "id": "southeast-antarctica",
   "metadata": {},
   "outputs": [
    {
     "data": {
      "text/plain": [
       "<AxesSubplot:xlabel='a', ylabel='b'>"
      ]
     },
     "execution_count": 388,
     "metadata": {},
     "output_type": "execute_result"
    },
    {
     "data": {
      "image/png": "[encoded data removed]",
      "text/plain": [
       "<Figure size 432x288 with 1 Axes>"
      ]
     },
     "metadata": {
      "needs_background": "light"
     },
     "output_type": "display_data"
    }
   ],
   "source": [
    "sns.scatterplot(x=\"a\",y=\"b\",hue=\"cluster\",data=result,palette=\"Set2\")"
   ]
  },
  {
   "cell_type": "markdown",
   "id": "vital-thesis",
   "metadata": {},
   "source": [
    "<취약지 분석>"
   ]
  },
  {
   "cell_type": "markdown",
   "id": "genetic-senegal",
   "metadata": {},
   "source": [
    "1. 여의도"
   ]
  },
  {
   "cell_type": "code",
   "execution_count": 389,
   "id": "waiting-sheep",
   "metadata": {},
   "outputs": [
    {
     "data": {
      "text/html": [
       "<div>\n",
       "<style scoped>\n",
       "    .dataframe tbody tr th:only-of-type {\n",
       "        vertical-align: middle;\n",
       "    }\n",
       "\n",
       "    .dataframe tbody tr th {\n",
       "        vertical-align: top;\n",
       "    }\n",
       "\n",
       "    .dataframe thead th {\n",
       "        text-align: right;\n",
       "    }\n",
       "</style>\n",
       "<table border=\"1\" class=\"dataframe\">\n",
       "  <thead>\n",
       "    <tr style=\"text-align: right;\">\n",
       "      <th></th>\n",
       "      <th>시도(출발)</th>\n",
       "      <th>시군구(출발)</th>\n",
       "      <th>읍면동(출발)</th>\n",
       "      <th>시도(도착)</th>\n",
       "      <th>시군구(도착)</th>\n",
       "      <th>읍면동(도착)</th>\n",
       "      <th>통행량</th>\n",
       "      <th>통행시간</th>\n",
       "    </tr>\n",
       "  </thead>\n",
       "  <tbody>\n",
       "    <tr>\n",
       "      <th>0</th>\n",
       "      <td>서울특별시</td>\n",
       "      <td>강남구</td>\n",
       "      <td>개포동</td>\n",
       "      <td>서울특별시</td>\n",
       "      <td>영등포구</td>\n",
       "      <td>여의도동</td>\n",
       "      <td>191</td>\n",
       "      <td>41.96</td>\n",
       "    </tr>\n",
       "    <tr>\n",
       "      <th>1</th>\n",
       "      <td>서울특별시</td>\n",
       "      <td>강남구</td>\n",
       "      <td>논현동</td>\n",
       "      <td>서울특별시</td>\n",
       "      <td>영등포구</td>\n",
       "      <td>여의도동</td>\n",
       "      <td>430</td>\n",
       "      <td>28.75</td>\n",
       "    </tr>\n",
       "    <tr>\n",
       "      <th>2</th>\n",
       "      <td>서울특별시</td>\n",
       "      <td>강남구</td>\n",
       "      <td>대치동</td>\n",
       "      <td>서울특별시</td>\n",
       "      <td>영등포구</td>\n",
       "      <td>여의도동</td>\n",
       "      <td>376</td>\n",
       "      <td>37.45</td>\n",
       "    </tr>\n",
       "    <tr>\n",
       "      <th>3</th>\n",
       "      <td>서울특별시</td>\n",
       "      <td>강남구</td>\n",
       "      <td>도곡동</td>\n",
       "      <td>서울특별시</td>\n",
       "      <td>영등포구</td>\n",
       "      <td>여의도동</td>\n",
       "      <td>339</td>\n",
       "      <td>35.95</td>\n",
       "    </tr>\n",
       "    <tr>\n",
       "      <th>4</th>\n",
       "      <td>서울특별시</td>\n",
       "      <td>강남구</td>\n",
       "      <td>삼성동</td>\n",
       "      <td>서울특별시</td>\n",
       "      <td>영등포구</td>\n",
       "      <td>여의도동</td>\n",
       "      <td>759</td>\n",
       "      <td>33.41</td>\n",
       "    </tr>\n",
       "  </tbody>\n",
       "</table>\n",
       "</div>"
      ],
      "text/plain": [
       "  시도(출발) 시군구(출발) 읍면동(출발) 시도(도착) 시군구(도착) 읍면동(도착)  통행량   통행시간\n",
       "0  서울특별시     강남구     개포동  서울특별시    영등포구    여의도동  191  41.96\n",
       "1  서울특별시     강남구     논현동  서울특별시    영등포구    여의도동  430  28.75\n",
       "2  서울특별시     강남구     대치동  서울특별시    영등포구    여의도동  376  37.45\n",
       "3  서울특별시     강남구     도곡동  서울특별시    영등포구    여의도동  339  35.95\n",
       "4  서울특별시     강남구     삼성동  서울특별시    영등포구    여의도동  759  33.41"
      ]
     },
     "execution_count": 389,
     "metadata": {},
     "output_type": "execute_result"
    }
   ],
   "source": [
    "yeoui = pd.read_csv('yeouido.csv')\n",
    "yeoui.head()"
   ]
  },
  {
   "cell_type": "code",
   "execution_count": 390,
   "id": "governing-chemical",
   "metadata": {},
   "outputs": [],
   "source": [
    "yeoui.drop([\"시도(출발)\",\"시도(도착)\",\"시군구(도착)\",\"읍면동(도착)\"],axis=1,inplace=True)"
   ]
  },
  {
   "cell_type": "code",
   "execution_count": 391,
   "id": "automated-makeup",
   "metadata": {},
   "outputs": [],
   "source": [
    "yeoui.rename(columns = {\"시군구(출발)\": \"시군구\", \"읍면동(출발)\":\"읍면동\"}, inplace = True)"
   ]
  },
  {
   "cell_type": "code",
   "execution_count": 392,
   "id": "usual-disabled",
   "metadata": {},
   "outputs": [
    {
     "data": {
      "text/html": [
       "<div>\n",
       "<style scoped>\n",
       "    .dataframe tbody tr th:only-of-type {\n",
       "        vertical-align: middle;\n",
       "    }\n",
       "\n",
       "    .dataframe tbody tr th {\n",
       "        vertical-align: top;\n",
       "    }\n",
       "\n",
       "    .dataframe thead th {\n",
       "        text-align: right;\n",
       "    }\n",
       "</style>\n",
       "<table border=\"1\" class=\"dataframe\">\n",
       "  <thead>\n",
       "    <tr style=\"text-align: right;\">\n",
       "      <th></th>\n",
       "      <th>시군구</th>\n",
       "      <th>읍면동</th>\n",
       "      <th>통행량</th>\n",
       "      <th>통행시간</th>\n",
       "    </tr>\n",
       "  </thead>\n",
       "  <tbody>\n",
       "    <tr>\n",
       "      <th>0</th>\n",
       "      <td>강남구</td>\n",
       "      <td>개포동</td>\n",
       "      <td>191</td>\n",
       "      <td>41.96</td>\n",
       "    </tr>\n",
       "    <tr>\n",
       "      <th>1</th>\n",
       "      <td>강남구</td>\n",
       "      <td>논현동</td>\n",
       "      <td>430</td>\n",
       "      <td>28.75</td>\n",
       "    </tr>\n",
       "    <tr>\n",
       "      <th>2</th>\n",
       "      <td>강남구</td>\n",
       "      <td>대치동</td>\n",
       "      <td>376</td>\n",
       "      <td>37.45</td>\n",
       "    </tr>\n",
       "    <tr>\n",
       "      <th>3</th>\n",
       "      <td>강남구</td>\n",
       "      <td>도곡동</td>\n",
       "      <td>339</td>\n",
       "      <td>35.95</td>\n",
       "    </tr>\n",
       "    <tr>\n",
       "      <th>4</th>\n",
       "      <td>강남구</td>\n",
       "      <td>삼성동</td>\n",
       "      <td>759</td>\n",
       "      <td>33.41</td>\n",
       "    </tr>\n",
       "    <tr>\n",
       "      <th>...</th>\n",
       "      <td>...</td>\n",
       "      <td>...</td>\n",
       "      <td>...</td>\n",
       "      <td>...</td>\n",
       "    </tr>\n",
       "    <tr>\n",
       "      <th>363</th>\n",
       "      <td>중랑구</td>\n",
       "      <td>면목동</td>\n",
       "      <td>242</td>\n",
       "      <td>55.28</td>\n",
       "    </tr>\n",
       "    <tr>\n",
       "      <th>364</th>\n",
       "      <td>중랑구</td>\n",
       "      <td>묵동</td>\n",
       "      <td>61</td>\n",
       "      <td>55.98</td>\n",
       "    </tr>\n",
       "    <tr>\n",
       "      <th>365</th>\n",
       "      <td>중랑구</td>\n",
       "      <td>상봉동</td>\n",
       "      <td>157</td>\n",
       "      <td>57.78</td>\n",
       "    </tr>\n",
       "    <tr>\n",
       "      <th>366</th>\n",
       "      <td>중랑구</td>\n",
       "      <td>신내동</td>\n",
       "      <td>174</td>\n",
       "      <td>56.10</td>\n",
       "    </tr>\n",
       "    <tr>\n",
       "      <th>367</th>\n",
       "      <td>중랑구</td>\n",
       "      <td>중화동</td>\n",
       "      <td>97</td>\n",
       "      <td>56.23</td>\n",
       "    </tr>\n",
       "  </tbody>\n",
       "</table>\n",
       "<p>368 rows × 4 columns</p>\n",
       "</div>"
      ],
      "text/plain": [
       "     시군구  읍면동  통행량   통행시간\n",
       "0    강남구  개포동  191  41.96\n",
       "1    강남구  논현동  430  28.75\n",
       "2    강남구  대치동  376  37.45\n",
       "3    강남구  도곡동  339  35.95\n",
       "4    강남구  삼성동  759  33.41\n",
       "..   ...  ...  ...    ...\n",
       "363  중랑구  면목동  242  55.28\n",
       "364  중랑구   묵동   61  55.98\n",
       "365  중랑구  상봉동  157  57.78\n",
       "366  중랑구  신내동  174  56.10\n",
       "367  중랑구  중화동   97  56.23\n",
       "\n",
       "[368 rows x 4 columns]"
      ]
     },
     "execution_count": 392,
     "metadata": {},
     "output_type": "execute_result"
    }
   ],
   "source": [
    "yeoui"
   ]
  },
  {
   "cell_type": "code",
   "execution_count": 393,
   "id": "protecting-naples",
   "metadata": {},
   "outputs": [
    {
     "data": {
      "text/plain": [
       "<AxesSubplot:xlabel='시군구'>"
      ]
     },
     "execution_count": 393,
     "metadata": {},
     "output_type": "execute_result"
    },
    {
     "data": {
      "image/png": "[encoded data removed]",
      "text/plain": [
       "<Figure size 432x288 with 1 Axes>"
      ]
     },
     "metadata": {
      "needs_background": "light"
     },
     "output_type": "display_data"
    }
   ],
   "source": [
    "yeoui.groupby('시군구')['통행시간'].sum().plot.bar()"
   ]
  },
  {
   "cell_type": "code",
   "execution_count": 394,
   "id": "grateful-basis",
   "metadata": {},
   "outputs": [
    {
     "data": {
      "text/html": [
       "<div>\n",
       "<style scoped>\n",
       "    .dataframe tbody tr th:only-of-type {\n",
       "        vertical-align: middle;\n",
       "    }\n",
       "\n",
       "    .dataframe tbody tr th {\n",
       "        vertical-align: top;\n",
       "    }\n",
       "\n",
       "    .dataframe thead th {\n",
       "        text-align: right;\n",
       "    }\n",
       "</style>\n",
       "<table border=\"1\" class=\"dataframe\">\n",
       "  <thead>\n",
       "    <tr style=\"text-align: right;\">\n",
       "      <th></th>\n",
       "      <th>통행량</th>\n",
       "      <th>통행시간</th>\n",
       "    </tr>\n",
       "  </thead>\n",
       "  <tbody>\n",
       "    <tr>\n",
       "      <th>count</th>\n",
       "      <td>368.000000</td>\n",
       "      <td>368.000000</td>\n",
       "    </tr>\n",
       "    <tr>\n",
       "      <th>mean</th>\n",
       "      <td>210.285326</td>\n",
       "      <td>33.176875</td>\n",
       "    </tr>\n",
       "    <tr>\n",
       "      <th>std</th>\n",
       "      <td>403.895180</td>\n",
       "      <td>13.528673</td>\n",
       "    </tr>\n",
       "    <tr>\n",
       "      <th>min</th>\n",
       "      <td>1.000000</td>\n",
       "      <td>7.650000</td>\n",
       "    </tr>\n",
       "    <tr>\n",
       "      <th>25%</th>\n",
       "      <td>15.000000</td>\n",
       "      <td>22.747500</td>\n",
       "    </tr>\n",
       "    <tr>\n",
       "      <th>50%</th>\n",
       "      <td>74.000000</td>\n",
       "      <td>33.110000</td>\n",
       "    </tr>\n",
       "    <tr>\n",
       "      <th>75%</th>\n",
       "      <td>204.250000</td>\n",
       "      <td>41.697500</td>\n",
       "    </tr>\n",
       "    <tr>\n",
       "      <th>max</th>\n",
       "      <td>3461.000000</td>\n",
       "      <td>68.860000</td>\n",
       "    </tr>\n",
       "  </tbody>\n",
       "</table>\n",
       "</div>"
      ],
      "text/plain": [
       "               통행량        통행시간\n",
       "count   368.000000  368.000000\n",
       "mean    210.285326   33.176875\n",
       "std     403.895180   13.528673\n",
       "min       1.000000    7.650000\n",
       "25%      15.000000   22.747500\n",
       "50%      74.000000   33.110000\n",
       "75%     204.250000   41.697500\n",
       "max    3461.000000   68.860000"
      ]
     },
     "execution_count": 394,
     "metadata": {},
     "output_type": "execute_result"
    }
   ],
   "source": [
    "yeoui.describe()"
   ]
  },
  {
   "cell_type": "code",
   "execution_count": 395,
   "id": "potential-curtis",
   "metadata": {},
   "outputs": [],
   "source": [
    "yeoui_m = yeoui['통행량']>=210\n",
    "yeoui_time_m = yeoui['통행시간']>=33"
   ]
  },
  {
   "cell_type": "code",
   "execution_count": 396,
   "id": "martial-token",
   "metadata": {},
   "outputs": [],
   "source": [
    "yeoui_mean = yeoui[yeoui_m == True]\n",
    "yeoui_time_mean = yeoui[yeoui_time_m == True]"
   ]
  },
  {
   "cell_type": "code",
   "execution_count": 397,
   "id": "valuable-cargo",
   "metadata": {},
   "outputs": [],
   "source": [
    "yeoui_mean=yeoui_mean['읍면동']\n",
    "yeoui_time_mean=yeoui_time_mean['읍면동']"
   ]
  },
  {
   "cell_type": "code",
   "execution_count": 398,
   "id": "pleased-pleasure",
   "metadata": {},
   "outputs": [],
   "source": [
    "yeoui_time_mean_t = pd.concat([yeoui_mean,yeoui_time_mean])\n",
    "yeoui_time_mean_top = yeoui_time_mean_t.duplicated()"
   ]
  },
  {
   "cell_type": "code",
   "execution_count": 399,
   "id": "involved-purse",
   "metadata": {},
   "outputs": [
    {
     "data": {
      "text/plain": [
       "262     신사동\n",
       "2       대치동\n",
       "3       도곡동\n",
       "4       삼성동\n",
       "11      일원동\n",
       "17      둔촌동\n",
       "18      명일동\n",
       "19      상일동\n",
       "20      성내동\n",
       "23      미아동\n",
       "24       번동\n",
       "34      방화동\n",
       "42      구의동\n",
       "45      자양동\n",
       "46      중곡동\n",
       "58      가산동\n",
       "60      시흥동\n",
       "61      공릉동\n",
       "62      상계동\n",
       "69       창동\n",
       "70     답십리동\n",
       "74      장안동\n",
       "109    남가좌동\n",
       "128     서초동\n",
       "148     행당동\n",
       "149     길음동\n",
       "178     가락동\n",
       "182     방이동\n",
       "184     석촌동\n",
       "186     신천동\n",
       "188     잠실동\n",
       "260     불광동\n",
       "266     진관동\n",
       "363     면목동\n",
       "Name: 읍면동, dtype: object"
      ]
     },
     "execution_count": 399,
     "metadata": {},
     "output_type": "execute_result"
    }
   ],
   "source": [
    "yeoui_time_mean_top2 = yeoui_time_mean_t[yeoui_time_mean_top == True]\n",
    "yeoui_time_mean_top2 = yeoui_time_mean_top2.drop_duplicates()\n",
    "yeoui_time_mean_top2"
   ]
  },
  {
   "cell_type": "code",
   "execution_count": 400,
   "id": "impressive-baghdad",
   "metadata": {},
   "outputs": [],
   "source": [
    "#Clustering"
   ]
  },
  {
   "cell_type": "code",
   "execution_count": 401,
   "id": "protected-lecture",
   "metadata": {},
   "outputs": [
    {
     "data": {
      "text/plain": [
       "<AxesSubplot:xlabel='통행시간', ylabel='통행량'>"
      ]
     },
     "execution_count": 401,
     "metadata": {},
     "output_type": "execute_result"
    },
    {
     "data": {
      "image/png": "[encoded data removed]",
      "text/plain": [
       "<Figure size 432x288 with 1 Axes>"
      ]
     },
     "metadata": {
      "needs_background": "light"
     },
     "output_type": "display_data"
    }
   ],
   "source": [
    "sns.scatterplot(x=\"통행시간\",y=\"통행량\",data=yeoui,palette=\"Set2\")"
   ]
  },
  {
   "cell_type": "code",
   "execution_count": 402,
   "id": "immune-telephone",
   "metadata": {},
   "outputs": [],
   "source": [
    "y_c = yeoui.pivot_table(values=['통행시간','통행량'],index=['읍면동','시군구'])\n",
    "#y_c"
   ]
  },
  {
   "cell_type": "code",
   "execution_count": 403,
   "id": "responsible-headset",
   "metadata": {},
   "outputs": [],
   "source": [
    "centroids = y_c.sample(4, random_state=1)"
   ]
  },
  {
   "cell_type": "code",
   "execution_count": 404,
   "id": "complimentary-acquisition",
   "metadata": {},
   "outputs": [],
   "source": [
    "distance = sp.spatial.distance.cdist(y_c, centroids, \"euclidean\")"
   ]
  },
  {
   "cell_type": "code",
   "execution_count": 405,
   "id": "curious-pharmacology",
   "metadata": {},
   "outputs": [],
   "source": [
    "cluster_num = np.argmin(distance, axis=1)"
   ]
  },
  {
   "cell_type": "code",
   "execution_count": 406,
   "id": "convertible-wound",
   "metadata": {},
   "outputs": [],
   "source": [
    "result = y_c.copy()\n",
    "result[\"cluster\"] = np.array(cluster_num)\n",
    "#result.head()"
   ]
  },
  {
   "cell_type": "code",
   "execution_count": 407,
   "id": "african-redhead",
   "metadata": {},
   "outputs": [
    {
     "data": {
      "text/plain": [
       "Text(0.5, 1.0, '<여의동>')"
      ]
     },
     "execution_count": 407,
     "metadata": {},
     "output_type": "execute_result"
    },
    {
     "data": {
      "image/png": "[encoded data removed]",
      "text/plain": [
       "<Figure size 432x288 with 1 Axes>"
      ]
     },
     "metadata": {
      "needs_background": "light"
     },
     "output_type": "display_data"
    }
   ],
   "source": [
    "yeoui_c = sns.scatterplot(x=\"통행시간\",y=\"통행량\",hue=\"cluster\",data=result,palette=\"Set2\")\n",
    "yeoui_c.set_xlabel('통행시간(분)')\n",
    "yeoui_c.set_title('<여의동>') "
   ]
  },
  {
   "cell_type": "markdown",
   "id": "existing-consequence",
   "metadata": {},
   "source": [
    "2. 역삼동"
   ]
  },
  {
   "cell_type": "code",
   "execution_count": 408,
   "id": "departmental-forest",
   "metadata": {},
   "outputs": [
    {
     "data": {
      "text/html": [
       "<div>\n",
       "<style scoped>\n",
       "    .dataframe tbody tr th:only-of-type {\n",
       "        vertical-align: middle;\n",
       "    }\n",
       "\n",
       "    .dataframe tbody tr th {\n",
       "        vertical-align: top;\n",
       "    }\n",
       "\n",
       "    .dataframe thead th {\n",
       "        text-align: right;\n",
       "    }\n",
       "</style>\n",
       "<table border=\"1\" class=\"dataframe\">\n",
       "  <thead>\n",
       "    <tr style=\"text-align: right;\">\n",
       "      <th></th>\n",
       "      <th>시도(출발)</th>\n",
       "      <th>시군구(출발)</th>\n",
       "      <th>읍면동(출발)</th>\n",
       "      <th>시도(도착)</th>\n",
       "      <th>시군구(도착)</th>\n",
       "      <th>읍면동(도착)</th>\n",
       "      <th>통행량</th>\n",
       "      <th>통행시간</th>\n",
       "    </tr>\n",
       "  </thead>\n",
       "  <tbody>\n",
       "    <tr>\n",
       "      <th>0</th>\n",
       "      <td>서울특별시</td>\n",
       "      <td>강남구</td>\n",
       "      <td>개포동</td>\n",
       "      <td>서울특별시</td>\n",
       "      <td>강남구</td>\n",
       "      <td>역삼동</td>\n",
       "      <td>1114</td>\n",
       "      <td>19.68</td>\n",
       "    </tr>\n",
       "    <tr>\n",
       "      <th>1</th>\n",
       "      <td>서울특별시</td>\n",
       "      <td>강남구</td>\n",
       "      <td>논현동</td>\n",
       "      <td>서울특별시</td>\n",
       "      <td>강남구</td>\n",
       "      <td>역삼동</td>\n",
       "      <td>1989</td>\n",
       "      <td>12.80</td>\n",
       "    </tr>\n",
       "    <tr>\n",
       "      <th>2</th>\n",
       "      <td>서울특별시</td>\n",
       "      <td>강남구</td>\n",
       "      <td>대치동</td>\n",
       "      <td>서울특별시</td>\n",
       "      <td>강남구</td>\n",
       "      <td>역삼동</td>\n",
       "      <td>2178</td>\n",
       "      <td>14.41</td>\n",
       "    </tr>\n",
       "    <tr>\n",
       "      <th>3</th>\n",
       "      <td>서울특별시</td>\n",
       "      <td>강남구</td>\n",
       "      <td>도곡동</td>\n",
       "      <td>서울특별시</td>\n",
       "      <td>강남구</td>\n",
       "      <td>역삼동</td>\n",
       "      <td>1823</td>\n",
       "      <td>13.43</td>\n",
       "    </tr>\n",
       "    <tr>\n",
       "      <th>4</th>\n",
       "      <td>서울특별시</td>\n",
       "      <td>강남구</td>\n",
       "      <td>삼성동</td>\n",
       "      <td>서울특별시</td>\n",
       "      <td>강남구</td>\n",
       "      <td>역삼동</td>\n",
       "      <td>5871</td>\n",
       "      <td>11.81</td>\n",
       "    </tr>\n",
       "  </tbody>\n",
       "</table>\n",
       "</div>"
      ],
      "text/plain": [
       "  시도(출발) 시군구(출발) 읍면동(출발) 시도(도착) 시군구(도착) 읍면동(도착)   통행량   통행시간\n",
       "0  서울특별시     강남구     개포동  서울특별시     강남구     역삼동  1114  19.68\n",
       "1  서울특별시     강남구     논현동  서울특별시     강남구     역삼동  1989  12.80\n",
       "2  서울특별시     강남구     대치동  서울특별시     강남구     역삼동  2178  14.41\n",
       "3  서울특별시     강남구     도곡동  서울특별시     강남구     역삼동  1823  13.43\n",
       "4  서울특별시     강남구     삼성동  서울특별시     강남구     역삼동  5871  11.81"
      ]
     },
     "execution_count": 408,
     "metadata": {},
     "output_type": "execute_result"
    }
   ],
   "source": [
    "yeok = pd.read_csv('yeoksam.csv')\n",
    "yeok.head()"
   ]
  },
  {
   "cell_type": "code",
   "execution_count": 409,
   "id": "departmental-frederick",
   "metadata": {},
   "outputs": [],
   "source": [
    "yeok.drop([\"시도(출발)\",\"시도(도착)\",\"시군구(도착)\",\"읍면동(도착)\"],axis=1,inplace=True)"
   ]
  },
  {
   "cell_type": "code",
   "execution_count": 410,
   "id": "agricultural-clause",
   "metadata": {},
   "outputs": [],
   "source": [
    "yeok.rename(columns = {\"시군구(출발)\": \"시군구\", \"읍면동(출발)\":\"읍면동\"}, inplace = True)"
   ]
  },
  {
   "cell_type": "code",
   "execution_count": 411,
   "id": "going-implementation",
   "metadata": {},
   "outputs": [
    {
     "data": {
      "text/html": [
       "<div>\n",
       "<style scoped>\n",
       "    .dataframe tbody tr th:only-of-type {\n",
       "        vertical-align: middle;\n",
       "    }\n",
       "\n",
       "    .dataframe tbody tr th {\n",
       "        vertical-align: top;\n",
       "    }\n",
       "\n",
       "    .dataframe thead th {\n",
       "        text-align: right;\n",
       "    }\n",
       "</style>\n",
       "<table border=\"1\" class=\"dataframe\">\n",
       "  <thead>\n",
       "    <tr style=\"text-align: right;\">\n",
       "      <th></th>\n",
       "      <th>시군구</th>\n",
       "      <th>읍면동</th>\n",
       "      <th>통행량</th>\n",
       "      <th>통행시간</th>\n",
       "    </tr>\n",
       "  </thead>\n",
       "  <tbody>\n",
       "    <tr>\n",
       "      <th>0</th>\n",
       "      <td>강남구</td>\n",
       "      <td>개포동</td>\n",
       "      <td>1114</td>\n",
       "      <td>19.68</td>\n",
       "    </tr>\n",
       "    <tr>\n",
       "      <th>1</th>\n",
       "      <td>강남구</td>\n",
       "      <td>논현동</td>\n",
       "      <td>1989</td>\n",
       "      <td>12.80</td>\n",
       "    </tr>\n",
       "    <tr>\n",
       "      <th>2</th>\n",
       "      <td>강남구</td>\n",
       "      <td>대치동</td>\n",
       "      <td>2178</td>\n",
       "      <td>14.41</td>\n",
       "    </tr>\n",
       "    <tr>\n",
       "      <th>3</th>\n",
       "      <td>강남구</td>\n",
       "      <td>도곡동</td>\n",
       "      <td>1823</td>\n",
       "      <td>13.43</td>\n",
       "    </tr>\n",
       "    <tr>\n",
       "      <th>4</th>\n",
       "      <td>강남구</td>\n",
       "      <td>삼성동</td>\n",
       "      <td>5871</td>\n",
       "      <td>11.81</td>\n",
       "    </tr>\n",
       "    <tr>\n",
       "      <th>...</th>\n",
       "      <td>...</td>\n",
       "      <td>...</td>\n",
       "      <td>...</td>\n",
       "      <td>...</td>\n",
       "    </tr>\n",
       "    <tr>\n",
       "      <th>367</th>\n",
       "      <td>중랑구</td>\n",
       "      <td>면목동</td>\n",
       "      <td>1219</td>\n",
       "      <td>40.93</td>\n",
       "    </tr>\n",
       "    <tr>\n",
       "      <th>368</th>\n",
       "      <td>중랑구</td>\n",
       "      <td>묵동</td>\n",
       "      <td>277</td>\n",
       "      <td>45.81</td>\n",
       "    </tr>\n",
       "    <tr>\n",
       "      <th>369</th>\n",
       "      <td>중랑구</td>\n",
       "      <td>상봉동</td>\n",
       "      <td>586</td>\n",
       "      <td>43.60</td>\n",
       "    </tr>\n",
       "    <tr>\n",
       "      <th>370</th>\n",
       "      <td>중랑구</td>\n",
       "      <td>신내동</td>\n",
       "      <td>304</td>\n",
       "      <td>53.45</td>\n",
       "    </tr>\n",
       "    <tr>\n",
       "      <th>371</th>\n",
       "      <td>중랑구</td>\n",
       "      <td>중화동</td>\n",
       "      <td>394</td>\n",
       "      <td>43.16</td>\n",
       "    </tr>\n",
       "  </tbody>\n",
       "</table>\n",
       "<p>372 rows × 4 columns</p>\n",
       "</div>"
      ],
      "text/plain": [
       "     시군구  읍면동   통행량   통행시간\n",
       "0    강남구  개포동  1114  19.68\n",
       "1    강남구  논현동  1989  12.80\n",
       "2    강남구  대치동  2178  14.41\n",
       "3    강남구  도곡동  1823  13.43\n",
       "4    강남구  삼성동  5871  11.81\n",
       "..   ...  ...   ...    ...\n",
       "367  중랑구  면목동  1219  40.93\n",
       "368  중랑구   묵동   277  45.81\n",
       "369  중랑구  상봉동   586  43.60\n",
       "370  중랑구  신내동   304  53.45\n",
       "371  중랑구  중화동   394  43.16\n",
       "\n",
       "[372 rows x 4 columns]"
      ]
     },
     "execution_count": 411,
     "metadata": {},
     "output_type": "execute_result"
    }
   ],
   "source": [
    "yeok"
   ]
  },
  {
   "cell_type": "code",
   "execution_count": 412,
   "id": "serial-picking",
   "metadata": {},
   "outputs": [
    {
     "data": {
      "text/plain": [
       "<AxesSubplot:xlabel='시군구'>"
      ]
     },
     "execution_count": 412,
     "metadata": {},
     "output_type": "execute_result"
    },
    {
     "data": {
      "image/png": "[encoded data removed]",
      "text/plain": [
       "<Figure size 432x288 with 1 Axes>"
      ]
     },
     "metadata": {
      "needs_background": "light"
     },
     "output_type": "display_data"
    }
   ],
   "source": [
    "yeok.groupby('시군구')['통행시간'].sum().plot.bar()"
   ]
  },
  {
   "cell_type": "code",
   "execution_count": 413,
   "id": "super-looking",
   "metadata": {},
   "outputs": [
    {
     "data": {
      "text/html": [
       "<div>\n",
       "<style scoped>\n",
       "    .dataframe tbody tr th:only-of-type {\n",
       "        vertical-align: middle;\n",
       "    }\n",
       "\n",
       "    .dataframe tbody tr th {\n",
       "        vertical-align: top;\n",
       "    }\n",
       "\n",
       "    .dataframe thead th {\n",
       "        text-align: right;\n",
       "    }\n",
       "</style>\n",
       "<table border=\"1\" class=\"dataframe\">\n",
       "  <thead>\n",
       "    <tr style=\"text-align: right;\">\n",
       "      <th></th>\n",
       "      <th>통행량</th>\n",
       "      <th>통행시간</th>\n",
       "    </tr>\n",
       "  </thead>\n",
       "  <tbody>\n",
       "    <tr>\n",
       "      <th>count</th>\n",
       "      <td>372.000000</td>\n",
       "      <td>372.000000</td>\n",
       "    </tr>\n",
       "    <tr>\n",
       "      <th>mean</th>\n",
       "      <td>465.887097</td>\n",
       "      <td>42.670914</td>\n",
       "    </tr>\n",
       "    <tr>\n",
       "      <th>std</th>\n",
       "      <td>1227.010545</td>\n",
       "      <td>13.422461</td>\n",
       "    </tr>\n",
       "    <tr>\n",
       "      <th>min</th>\n",
       "      <td>1.000000</td>\n",
       "      <td>8.800000</td>\n",
       "    </tr>\n",
       "    <tr>\n",
       "      <th>25%</th>\n",
       "      <td>10.750000</td>\n",
       "      <td>35.087500</td>\n",
       "    </tr>\n",
       "    <tr>\n",
       "      <th>50%</th>\n",
       "      <td>117.000000</td>\n",
       "      <td>42.955000</td>\n",
       "    </tr>\n",
       "    <tr>\n",
       "      <th>75%</th>\n",
       "      <td>401.500000</td>\n",
       "      <td>50.227500</td>\n",
       "    </tr>\n",
       "    <tr>\n",
       "      <th>max</th>\n",
       "      <td>12328.000000</td>\n",
       "      <td>140.150000</td>\n",
       "    </tr>\n",
       "  </tbody>\n",
       "</table>\n",
       "</div>"
      ],
      "text/plain": [
       "                통행량        통행시간\n",
       "count    372.000000  372.000000\n",
       "mean     465.887097   42.670914\n",
       "std     1227.010545   13.422461\n",
       "min        1.000000    8.800000\n",
       "25%       10.750000   35.087500\n",
       "50%      117.000000   42.955000\n",
       "75%      401.500000   50.227500\n",
       "max    12328.000000  140.150000"
      ]
     },
     "execution_count": 413,
     "metadata": {},
     "output_type": "execute_result"
    }
   ],
   "source": [
    "yeok.describe()"
   ]
  },
  {
   "cell_type": "code",
   "execution_count": 414,
   "id": "super-interim",
   "metadata": {},
   "outputs": [],
   "source": [
    "yeok_m = yeok['통행량']>=465\n",
    "yeok_time_m = yeok['통행시간']>=42"
   ]
  },
  {
   "cell_type": "code",
   "execution_count": 415,
   "id": "funky-playlist",
   "metadata": {},
   "outputs": [],
   "source": [
    "yeok_mean = yeok[yeok_m == True]\n",
    "yeok_time_mean = yeok[yeok_time_m == True]"
   ]
  },
  {
   "cell_type": "code",
   "execution_count": 416,
   "id": "electric-dance",
   "metadata": {},
   "outputs": [],
   "source": [
    "yeok_mean=yeok_mean['읍면동']\n",
    "yeok_time_mean=yeok_time_mean['읍면동']"
   ]
  },
  {
   "cell_type": "code",
   "execution_count": 417,
   "id": "royal-bridal",
   "metadata": {},
   "outputs": [],
   "source": [
    "yeok_time_mean_t = pd.concat([yeok_mean,yeok_time_mean])\n",
    "yeok_time_mean_top = yeok_time_mean_t.duplicated()"
   ]
  },
  {
   "cell_type": "code",
   "execution_count": 418,
   "id": "inside-ministry",
   "metadata": {},
   "outputs": [
    {
     "data": {
      "text/plain": [
       "269    신사동\n",
       "19     상일동\n",
       "23     미아동\n",
       "24      번동\n",
       "33     마곡동\n",
       "34     방화동\n",
       "37     화곡동\n",
       "49     개봉동\n",
       "54     오류동\n",
       "58     가산동\n",
       "60     시흥동\n",
       "61     공릉동\n",
       "62     상계동\n",
       "69      창동\n",
       "94     동교동\n",
       "99     서교동\n",
       "120    창천동\n",
       "126    홍제동\n",
       "197     목동\n",
       "198    신월동\n",
       "199    신정동\n",
       "267    불광동\n",
       "369    상봉동\n",
       "Name: 읍면동, dtype: object"
      ]
     },
     "execution_count": 418,
     "metadata": {},
     "output_type": "execute_result"
    }
   ],
   "source": [
    "yeok_time_mean_top2 = yeok_time_mean_t[yeok_time_mean_top == True]\n",
    "yeok_time_mean_top2 = yeok_time_mean_top2.drop_duplicates()\n",
    "yeok_time_mean_top2"
   ]
  },
  {
   "cell_type": "code",
   "execution_count": 419,
   "id": "american-breakfast",
   "metadata": {},
   "outputs": [],
   "source": [
    "#Clustering"
   ]
  },
  {
   "cell_type": "code",
   "execution_count": 420,
   "id": "better-jesus",
   "metadata": {},
   "outputs": [
    {
     "data": {
      "text/plain": [
       "<AxesSubplot:xlabel='통행시간', ylabel='통행량'>"
      ]
     },
     "execution_count": 420,
     "metadata": {},
     "output_type": "execute_result"
    },
    {
     "data": {
      "image/png": "[encoded data removed]",
      "text/plain": [
       "<Figure size 432x288 with 1 Axes>"
      ]
     },
     "metadata": {
      "needs_background": "light"
     },
     "output_type": "display_data"
    }
   ],
   "source": [
    "sns.scatterplot(x=\"통행시간\",y=\"통행량\",data=yeok,palette=\"Set2\")"
   ]
  },
  {
   "cell_type": "code",
   "execution_count": 421,
   "id": "wrong-repository",
   "metadata": {},
   "outputs": [],
   "source": [
    "yk_c = yeok.pivot_table(values=['통행시간','통행량'],index=['읍면동','시군구'])\n",
    "#yk_c"
   ]
  },
  {
   "cell_type": "code",
   "execution_count": 422,
   "id": "therapeutic-tampa",
   "metadata": {},
   "outputs": [],
   "source": [
    "centroids = yk_c.sample(4, random_state=1)"
   ]
  },
  {
   "cell_type": "code",
   "execution_count": 423,
   "id": "sensitive-boundary",
   "metadata": {},
   "outputs": [],
   "source": [
    "distance = sp.spatial.distance.cdist(yk_c, centroids, \"euclidean\")"
   ]
  },
  {
   "cell_type": "code",
   "execution_count": 424,
   "id": "forty-clerk",
   "metadata": {},
   "outputs": [],
   "source": [
    "cluster_num = np.argmin(distance, axis=1)"
   ]
  },
  {
   "cell_type": "code",
   "execution_count": 425,
   "id": "million-sheet",
   "metadata": {},
   "outputs": [],
   "source": [
    "result = yk_c.copy()\n",
    "result[\"cluster\"] = np.array(cluster_num)\n",
    "#result.head()"
   ]
  },
  {
   "cell_type": "code",
   "execution_count": 426,
   "id": "extreme-trance",
   "metadata": {},
   "outputs": [
    {
     "data": {
      "text/plain": [
       "Text(0.5, 1.0, '<역삼동>')"
      ]
     },
     "execution_count": 426,
     "metadata": {},
     "output_type": "execute_result"
    },
    {
     "data": {
      "image/png": "[encoded data removed]",
      "text/plain": [
       "<Figure size 432x288 with 1 Axes>"
      ]
     },
     "metadata": {
      "needs_background": "light"
     },
     "output_type": "display_data"
    }
   ],
   "source": [
    "yeok_c = sns.scatterplot(x=\"통행시간\",y=\"통행량\",hue=\"cluster\",data=result,palette=\"Set2\")\n",
    "yeok_c.set_xlabel('통행시간(분)')\n",
    "yeok_c.set_title('<역삼동>') "
   ]
  },
  {
   "cell_type": "markdown",
   "id": "powerful-replica",
   "metadata": {},
   "source": [
    "3. 가산동"
   ]
  },
  {
   "cell_type": "code",
   "execution_count": 427,
   "id": "compressed-responsibility",
   "metadata": {},
   "outputs": [
    {
     "data": {
      "text/html": [
       "<div>\n",
       "<style scoped>\n",
       "    .dataframe tbody tr th:only-of-type {\n",
       "        vertical-align: middle;\n",
       "    }\n",
       "\n",
       "    .dataframe tbody tr th {\n",
       "        vertical-align: top;\n",
       "    }\n",
       "\n",
       "    .dataframe thead th {\n",
       "        text-align: right;\n",
       "    }\n",
       "</style>\n",
       "<table border=\"1\" class=\"dataframe\">\n",
       "  <thead>\n",
       "    <tr style=\"text-align: right;\">\n",
       "      <th></th>\n",
       "      <th>시도(출발)</th>\n",
       "      <th>시군구(출발)</th>\n",
       "      <th>읍면동(출발)</th>\n",
       "      <th>시도(도착)</th>\n",
       "      <th>시군구(도착)</th>\n",
       "      <th>읍면동(도착)</th>\n",
       "      <th>통행량</th>\n",
       "      <th>통행시간</th>\n",
       "      <th>Unnamed: 8</th>\n",
       "      <th>Unnamed: 9</th>\n",
       "      <th>Unnamed: 10</th>\n",
       "      <th>Unnamed: 11</th>\n",
       "      <th>Unnamed: 12</th>\n",
       "      <th>Unnamed: 13</th>\n",
       "      <th>Unnamed: 14</th>\n",
       "      <th>Unnamed: 15</th>\n",
       "      <th>Unnamed: 16</th>\n",
       "    </tr>\n",
       "  </thead>\n",
       "  <tbody>\n",
       "    <tr>\n",
       "      <th>0</th>\n",
       "      <td>서울특별시</td>\n",
       "      <td>강남구</td>\n",
       "      <td>개포동</td>\n",
       "      <td>서울특별시</td>\n",
       "      <td>금천구</td>\n",
       "      <td>가산동</td>\n",
       "      <td>64</td>\n",
       "      <td>56.73</td>\n",
       "      <td>NaN</td>\n",
       "      <td>NaN</td>\n",
       "      <td>NaN</td>\n",
       "      <td>NaN</td>\n",
       "      <td>NaN</td>\n",
       "      <td>NaN</td>\n",
       "      <td>NaN</td>\n",
       "      <td>NaN</td>\n",
       "      <td>NaN</td>\n",
       "    </tr>\n",
       "    <tr>\n",
       "      <th>1</th>\n",
       "      <td>서울특별시</td>\n",
       "      <td>강남구</td>\n",
       "      <td>논현동</td>\n",
       "      <td>서울특별시</td>\n",
       "      <td>금천구</td>\n",
       "      <td>가산동</td>\n",
       "      <td>484</td>\n",
       "      <td>40.35</td>\n",
       "      <td>NaN</td>\n",
       "      <td>NaN</td>\n",
       "      <td>NaN</td>\n",
       "      <td>NaN</td>\n",
       "      <td>NaN</td>\n",
       "      <td>NaN</td>\n",
       "      <td>NaN</td>\n",
       "      <td>NaN</td>\n",
       "      <td>NaN</td>\n",
       "    </tr>\n",
       "    <tr>\n",
       "      <th>2</th>\n",
       "      <td>서울특별시</td>\n",
       "      <td>강남구</td>\n",
       "      <td>대치동</td>\n",
       "      <td>서울특별시</td>\n",
       "      <td>금천구</td>\n",
       "      <td>가산동</td>\n",
       "      <td>90</td>\n",
       "      <td>51.41</td>\n",
       "      <td>NaN</td>\n",
       "      <td>NaN</td>\n",
       "      <td>NaN</td>\n",
       "      <td>NaN</td>\n",
       "      <td>NaN</td>\n",
       "      <td>NaN</td>\n",
       "      <td>NaN</td>\n",
       "      <td>NaN</td>\n",
       "      <td>NaN</td>\n",
       "    </tr>\n",
       "    <tr>\n",
       "      <th>3</th>\n",
       "      <td>서울특별시</td>\n",
       "      <td>강남구</td>\n",
       "      <td>도곡동</td>\n",
       "      <td>서울특별시</td>\n",
       "      <td>금천구</td>\n",
       "      <td>가산동</td>\n",
       "      <td>103</td>\n",
       "      <td>51.03</td>\n",
       "      <td>NaN</td>\n",
       "      <td>NaN</td>\n",
       "      <td>NaN</td>\n",
       "      <td>NaN</td>\n",
       "      <td>NaN</td>\n",
       "      <td>NaN</td>\n",
       "      <td>NaN</td>\n",
       "      <td>NaN</td>\n",
       "      <td>NaN</td>\n",
       "    </tr>\n",
       "    <tr>\n",
       "      <th>4</th>\n",
       "      <td>서울특별시</td>\n",
       "      <td>강남구</td>\n",
       "      <td>삼성동</td>\n",
       "      <td>서울특별시</td>\n",
       "      <td>금천구</td>\n",
       "      <td>가산동</td>\n",
       "      <td>577</td>\n",
       "      <td>46.86</td>\n",
       "      <td>NaN</td>\n",
       "      <td>NaN</td>\n",
       "      <td>NaN</td>\n",
       "      <td>NaN</td>\n",
       "      <td>NaN</td>\n",
       "      <td>NaN</td>\n",
       "      <td>NaN</td>\n",
       "      <td>NaN</td>\n",
       "      <td>NaN</td>\n",
       "    </tr>\n",
       "  </tbody>\n",
       "</table>\n",
       "</div>"
      ],
      "text/plain": [
       "  시도(출발) 시군구(출발) 읍면동(출발) 시도(도착) 시군구(도착) 읍면동(도착)  통행량   통행시간  Unnamed: 8  \\\n",
       "0  서울특별시     강남구     개포동  서울특별시     금천구     가산동   64  56.73         NaN   \n",
       "1  서울특별시     강남구     논현동  서울특별시     금천구     가산동  484  40.35         NaN   \n",
       "2  서울특별시     강남구     대치동  서울특별시     금천구     가산동   90  51.41         NaN   \n",
       "3  서울특별시     강남구     도곡동  서울특별시     금천구     가산동  103  51.03         NaN   \n",
       "4  서울특별시     강남구     삼성동  서울특별시     금천구     가산동  577  46.86         NaN   \n",
       "\n",
       "   Unnamed: 9  Unnamed: 10  Unnamed: 11  Unnamed: 12  Unnamed: 13  \\\n",
       "0         NaN          NaN          NaN          NaN          NaN   \n",
       "1         NaN          NaN          NaN          NaN          NaN   \n",
       "2         NaN          NaN          NaN          NaN          NaN   \n",
       "3         NaN          NaN          NaN          NaN          NaN   \n",
       "4         NaN          NaN          NaN          NaN          NaN   \n",
       "\n",
       "   Unnamed: 14  Unnamed: 15  Unnamed: 16  \n",
       "0          NaN          NaN          NaN  \n",
       "1          NaN          NaN          NaN  \n",
       "2          NaN          NaN          NaN  \n",
       "3          NaN          NaN          NaN  \n",
       "4          NaN          NaN          NaN  "
      ]
     },
     "execution_count": 427,
     "metadata": {},
     "output_type": "execute_result"
    }
   ],
   "source": [
    "ga = pd.read_csv('gasan.csv')\n",
    "ga.head()"
   ]
  },
  {
   "cell_type": "code",
   "execution_count": 428,
   "id": "copyrighted-armstrong",
   "metadata": {},
   "outputs": [],
   "source": [
    "ga = ga.drop([\"시도(출발)\",\"시도(도착)\",\"시군구(도착)\",\"읍면동(도착)\",'Unnamed: 8','Unnamed: 9','Unnamed: 10','Unnamed: 11','Unnamed: 12','Unnamed: 13','Unnamed: 14','Unnamed: 15','Unnamed: 16'],axis=1)"
   ]
  },
  {
   "cell_type": "code",
   "execution_count": 429,
   "id": "immediate-stomach",
   "metadata": {},
   "outputs": [],
   "source": [
    "ga.rename(columns = {\"시군구(출발)\": \"시군구\", \"읍면동(출발)\":\"읍면동\"}, inplace = True)"
   ]
  },
  {
   "cell_type": "code",
   "execution_count": 430,
   "id": "common-mounting",
   "metadata": {},
   "outputs": [
    {
     "data": {
      "text/html": [
       "<div>\n",
       "<style scoped>\n",
       "    .dataframe tbody tr th:only-of-type {\n",
       "        vertical-align: middle;\n",
       "    }\n",
       "\n",
       "    .dataframe tbody tr th {\n",
       "        vertical-align: top;\n",
       "    }\n",
       "\n",
       "    .dataframe thead th {\n",
       "        text-align: right;\n",
       "    }\n",
       "</style>\n",
       "<table border=\"1\" class=\"dataframe\">\n",
       "  <thead>\n",
       "    <tr style=\"text-align: right;\">\n",
       "      <th></th>\n",
       "      <th>시군구</th>\n",
       "      <th>읍면동</th>\n",
       "      <th>통행량</th>\n",
       "      <th>통행시간</th>\n",
       "    </tr>\n",
       "  </thead>\n",
       "  <tbody>\n",
       "    <tr>\n",
       "      <th>0</th>\n",
       "      <td>강남구</td>\n",
       "      <td>개포동</td>\n",
       "      <td>64</td>\n",
       "      <td>56.73</td>\n",
       "    </tr>\n",
       "    <tr>\n",
       "      <th>1</th>\n",
       "      <td>강남구</td>\n",
       "      <td>논현동</td>\n",
       "      <td>484</td>\n",
       "      <td>40.35</td>\n",
       "    </tr>\n",
       "    <tr>\n",
       "      <th>2</th>\n",
       "      <td>강남구</td>\n",
       "      <td>대치동</td>\n",
       "      <td>90</td>\n",
       "      <td>51.41</td>\n",
       "    </tr>\n",
       "    <tr>\n",
       "      <th>3</th>\n",
       "      <td>강남구</td>\n",
       "      <td>도곡동</td>\n",
       "      <td>103</td>\n",
       "      <td>51.03</td>\n",
       "    </tr>\n",
       "    <tr>\n",
       "      <th>4</th>\n",
       "      <td>강남구</td>\n",
       "      <td>삼성동</td>\n",
       "      <td>577</td>\n",
       "      <td>46.86</td>\n",
       "    </tr>\n",
       "    <tr>\n",
       "      <th>...</th>\n",
       "      <td>...</td>\n",
       "      <td>...</td>\n",
       "      <td>...</td>\n",
       "      <td>...</td>\n",
       "    </tr>\n",
       "    <tr>\n",
       "      <th>333</th>\n",
       "      <td>중랑구</td>\n",
       "      <td>신내동</td>\n",
       "      <td>92</td>\n",
       "      <td>71.90</td>\n",
       "    </tr>\n",
       "    <tr>\n",
       "      <th>334</th>\n",
       "      <td>중랑구</td>\n",
       "      <td>상봉동</td>\n",
       "      <td>189</td>\n",
       "      <td>62.10</td>\n",
       "    </tr>\n",
       "    <tr>\n",
       "      <th>335</th>\n",
       "      <td>중랑구</td>\n",
       "      <td>묵동</td>\n",
       "      <td>87</td>\n",
       "      <td>64.45</td>\n",
       "    </tr>\n",
       "    <tr>\n",
       "      <th>336</th>\n",
       "      <td>중랑구</td>\n",
       "      <td>면목동</td>\n",
       "      <td>337</td>\n",
       "      <td>60.31</td>\n",
       "    </tr>\n",
       "    <tr>\n",
       "      <th>337</th>\n",
       "      <td>중랑구</td>\n",
       "      <td>망우동</td>\n",
       "      <td>59</td>\n",
       "      <td>70.35</td>\n",
       "    </tr>\n",
       "  </tbody>\n",
       "</table>\n",
       "<p>338 rows × 4 columns</p>\n",
       "</div>"
      ],
      "text/plain": [
       "     시군구  읍면동  통행량   통행시간\n",
       "0    강남구  개포동   64  56.73\n",
       "1    강남구  논현동  484  40.35\n",
       "2    강남구  대치동   90  51.41\n",
       "3    강남구  도곡동  103  51.03\n",
       "4    강남구  삼성동  577  46.86\n",
       "..   ...  ...  ...    ...\n",
       "333  중랑구  신내동   92  71.90\n",
       "334  중랑구  상봉동  189  62.10\n",
       "335  중랑구   묵동   87  64.45\n",
       "336  중랑구  면목동  337  60.31\n",
       "337  중랑구  망우동   59  70.35\n",
       "\n",
       "[338 rows x 4 columns]"
      ]
     },
     "execution_count": 430,
     "metadata": {},
     "output_type": "execute_result"
    }
   ],
   "source": [
    "ga"
   ]
  },
  {
   "cell_type": "code",
   "execution_count": 431,
   "id": "conventional-vietnam",
   "metadata": {},
   "outputs": [
    {
     "data": {
      "text/plain": [
       "<AxesSubplot:xlabel='시군구'>"
      ]
     },
     "execution_count": 431,
     "metadata": {},
     "output_type": "execute_result"
    },
    {
     "data": {
      "image/png": "[encoded data removed]",
      "text/plain": [
       "<Figure size 432x288 with 1 Axes>"
      ]
     },
     "metadata": {
      "needs_background": "light"
     },
     "output_type": "display_data"
    }
   ],
   "source": [
    "ga.groupby('시군구')['통행시간'].sum().plot.bar()"
   ]
  },
  {
   "cell_type": "code",
   "execution_count": 432,
   "id": "nuclear-philip",
   "metadata": {},
   "outputs": [
    {
     "data": {
      "text/html": [
       "<div>\n",
       "<style scoped>\n",
       "    .dataframe tbody tr th:only-of-type {\n",
       "        vertical-align: middle;\n",
       "    }\n",
       "\n",
       "    .dataframe tbody tr th {\n",
       "        vertical-align: top;\n",
       "    }\n",
       "\n",
       "    .dataframe thead th {\n",
       "        text-align: right;\n",
       "    }\n",
       "</style>\n",
       "<table border=\"1\" class=\"dataframe\">\n",
       "  <thead>\n",
       "    <tr style=\"text-align: right;\">\n",
       "      <th></th>\n",
       "      <th>통행량</th>\n",
       "      <th>통행시간</th>\n",
       "    </tr>\n",
       "  </thead>\n",
       "  <tbody>\n",
       "    <tr>\n",
       "      <th>count</th>\n",
       "      <td>338.000000</td>\n",
       "      <td>338.000000</td>\n",
       "    </tr>\n",
       "    <tr>\n",
       "      <th>mean</th>\n",
       "      <td>162.082840</td>\n",
       "      <td>47.810562</td>\n",
       "    </tr>\n",
       "    <tr>\n",
       "      <th>std</th>\n",
       "      <td>415.380401</td>\n",
       "      <td>14.634699</td>\n",
       "    </tr>\n",
       "    <tr>\n",
       "      <th>min</th>\n",
       "      <td>1.000000</td>\n",
       "      <td>10.580000</td>\n",
       "    </tr>\n",
       "    <tr>\n",
       "      <th>25%</th>\n",
       "      <td>6.250000</td>\n",
       "      <td>38.132500</td>\n",
       "    </tr>\n",
       "    <tr>\n",
       "      <th>50%</th>\n",
       "      <td>48.500000</td>\n",
       "      <td>49.030000</td>\n",
       "    </tr>\n",
       "    <tr>\n",
       "      <th>75%</th>\n",
       "      <td>137.750000</td>\n",
       "      <td>57.500000</td>\n",
       "    </tr>\n",
       "    <tr>\n",
       "      <th>max</th>\n",
       "      <td>4087.000000</td>\n",
       "      <td>83.260000</td>\n",
       "    </tr>\n",
       "  </tbody>\n",
       "</table>\n",
       "</div>"
      ],
      "text/plain": [
       "               통행량        통행시간\n",
       "count   338.000000  338.000000\n",
       "mean    162.082840   47.810562\n",
       "std     415.380401   14.634699\n",
       "min       1.000000   10.580000\n",
       "25%       6.250000   38.132500\n",
       "50%      48.500000   49.030000\n",
       "75%     137.750000   57.500000\n",
       "max    4087.000000   83.260000"
      ]
     },
     "execution_count": 432,
     "metadata": {},
     "output_type": "execute_result"
    }
   ],
   "source": [
    "ga.describe()"
   ]
  },
  {
   "cell_type": "code",
   "execution_count": 433,
   "id": "interpreted-dominican",
   "metadata": {},
   "outputs": [],
   "source": [
    "ga_m = ga['통행량']>=162\n",
    "ga_time_m = ga['통행시간']>=47"
   ]
  },
  {
   "cell_type": "code",
   "execution_count": 434,
   "id": "valued-drunk",
   "metadata": {},
   "outputs": [],
   "source": [
    "ga_mean = ga[ga_m == True]\n",
    "ga_time_mean = ga[ga_time_m == True]"
   ]
  },
  {
   "cell_type": "code",
   "execution_count": 435,
   "id": "effective-mozambique",
   "metadata": {},
   "outputs": [],
   "source": [
    "ga_mean=ga_mean['읍면동']\n",
    "ga_time_mean=ga_time_mean['읍면동']"
   ]
  },
  {
   "cell_type": "code",
   "execution_count": 436,
   "id": "central-dallas",
   "metadata": {},
   "outputs": [],
   "source": [
    "ga_time_mean_t = pd.concat([ga_mean,ga_time_mean])\n",
    "ga_time_mean_top = ga_time_mean_t.duplicated()"
   ]
  },
  {
   "cell_type": "code",
   "execution_count": 437,
   "id": "distant-reporter",
   "metadata": {},
   "outputs": [
    {
     "data": {
      "text/plain": [
       "7      신사동\n",
       "23     미아동\n",
       "33     마곡동\n",
       "34     방화동\n",
       "45     자양동\n",
       "46     중곡동\n",
       "47     화양동\n",
       "61     공릉동\n",
       "62     상계동\n",
       "63     월계동\n",
       "69      창동\n",
       "75     전농동\n",
       "76     제기동\n",
       "97     상암동\n",
       "181    신천동\n",
       "183    잠실동\n",
       "254    불광동\n",
       "295    창신동\n",
       "334    상봉동\n",
       "336    면목동\n",
       "Name: 읍면동, dtype: object"
      ]
     },
     "execution_count": 437,
     "metadata": {},
     "output_type": "execute_result"
    }
   ],
   "source": [
    "ga_time_mean_top2 = ga_time_mean_t[ga_time_mean_top == True]\n",
    "ga_time_mean_top2"
   ]
  },
  {
   "cell_type": "code",
   "execution_count": 438,
   "id": "assumed-trail",
   "metadata": {},
   "outputs": [],
   "source": [
    "#Clustering"
   ]
  },
  {
   "cell_type": "code",
   "execution_count": 439,
   "id": "raised-closing",
   "metadata": {},
   "outputs": [
    {
     "data": {
      "text/plain": [
       "<AxesSubplot:xlabel='통행시간', ylabel='통행량'>"
      ]
     },
     "execution_count": 439,
     "metadata": {},
     "output_type": "execute_result"
    },
    {
     "data": {
      "image/png": "[encoded data removed]",
      "text/plain": [
       "<Figure size 432x288 with 1 Axes>"
      ]
     },
     "metadata": {
      "needs_background": "light"
     },
     "output_type": "display_data"
    }
   ],
   "source": [
    "sns.scatterplot(x=\"통행시간\",y=\"통행량\",data=ga,palette=\"Set2\")"
   ]
  },
  {
   "cell_type": "code",
   "execution_count": 440,
   "id": "incorporated-overall",
   "metadata": {},
   "outputs": [],
   "source": [
    "g_c = ga.pivot_table(values=['통행시간','통행량'],index=['읍면동','시군구'])\n",
    "#g_c"
   ]
  },
  {
   "cell_type": "code",
   "execution_count": 441,
   "id": "opened-holiday",
   "metadata": {},
   "outputs": [],
   "source": [
    "centroids = g_c.sample(4, random_state=1)"
   ]
  },
  {
   "cell_type": "code",
   "execution_count": 442,
   "id": "double-logan",
   "metadata": {},
   "outputs": [],
   "source": [
    "distance = sp.spatial.distance.cdist(g_c, centroids, \"euclidean\")"
   ]
  },
  {
   "cell_type": "code",
   "execution_count": 443,
   "id": "unexpected-offer",
   "metadata": {},
   "outputs": [],
   "source": [
    "cluster_num = np.argmin(distance, axis=1)"
   ]
  },
  {
   "cell_type": "code",
   "execution_count": 444,
   "id": "opened-calculation",
   "metadata": {},
   "outputs": [],
   "source": [
    "result = g_c.copy()\n",
    "result[\"cluster\"] = np.array(cluster_num)\n",
    "#result.head()"
   ]
  },
  {
   "cell_type": "code",
   "execution_count": 445,
   "id": "actual-tribute",
   "metadata": {},
   "outputs": [
    {
     "data": {
      "text/plain": [
       "Text(0.5, 1.0, '<가산동>')"
      ]
     },
     "execution_count": 445,
     "metadata": {},
     "output_type": "execute_result"
    },
    {
     "data": {
      "image/png": "[encoded data removed]",
      "text/plain": [
       "<Figure size 432x288 with 1 Axes>"
      ]
     },
     "metadata": {
      "needs_background": "light"
     },
     "output_type": "display_data"
    }
   ],
   "source": [
    "ga_c = sns.scatterplot(x=\"통행시간\",y=\"통행량\",hue=\"cluster\",data=result,palette=\"Set2\")\n",
    "ga_c.set_xlabel('통행시간(분)')\n",
    "ga_c.set_title('<가산동>') "
   ]
  },
  {
   "cell_type": "markdown",
   "id": "cross-cornwall",
   "metadata": {},
   "source": [
    "25~60세 인구비율"
   ]
  },
  {
   "cell_type": "code",
   "execution_count": 446,
   "id": "associate-mercy",
   "metadata": {},
   "outputs": [],
   "source": [
    "people = pd.read_csv('people.csv')"
   ]
  },
  {
   "cell_type": "code",
   "execution_count": 447,
   "id": "happy-quality",
   "metadata": {},
   "outputs": [
    {
     "data": {
      "text/html": [
       "<div>\n",
       "<style scoped>\n",
       "    .dataframe tbody tr th:only-of-type {\n",
       "        vertical-align: middle;\n",
       "    }\n",
       "\n",
       "    .dataframe tbody tr th {\n",
       "        vertical-align: top;\n",
       "    }\n",
       "\n",
       "    .dataframe thead th {\n",
       "        text-align: right;\n",
       "    }\n",
       "</style>\n",
       "<table border=\"1\" class=\"dataframe\">\n",
       "  <thead>\n",
       "    <tr style=\"text-align: right;\">\n",
       "      <th></th>\n",
       "      <th>자치구</th>\n",
       "      <th>동</th>\n",
       "      <th>구분</th>\n",
       "      <th>계</th>\n",
       "      <th>20~24세</th>\n",
       "      <th>25~29세</th>\n",
       "      <th>30~34세</th>\n",
       "      <th>35~39세</th>\n",
       "      <th>40~44세</th>\n",
       "      <th>45~49세</th>\n",
       "      <th>50~54세</th>\n",
       "      <th>55~59세</th>\n",
       "    </tr>\n",
       "  </thead>\n",
       "  <tbody>\n",
       "    <tr>\n",
       "      <th>0</th>\n",
       "      <td>종로구</td>\n",
       "      <td>소계</td>\n",
       "      <td>계</td>\n",
       "      <td>158996</td>\n",
       "      <td>13721</td>\n",
       "      <td>14261</td>\n",
       "      <td>10902</td>\n",
       "      <td>10505</td>\n",
       "      <td>10525</td>\n",
       "      <td>12759</td>\n",
       "      <td>13399</td>\n",
       "      <td>13120</td>\n",
       "    </tr>\n",
       "    <tr>\n",
       "      <th>1</th>\n",
       "      <td>종로구</td>\n",
       "      <td>소계</td>\n",
       "      <td>한국인</td>\n",
       "      <td>149384</td>\n",
       "      <td>10474</td>\n",
       "      <td>12942</td>\n",
       "      <td>10084</td>\n",
       "      <td>9859</td>\n",
       "      <td>9949</td>\n",
       "      <td>12282</td>\n",
       "      <td>12892</td>\n",
       "      <td>12567</td>\n",
       "    </tr>\n",
       "    <tr>\n",
       "      <th>2</th>\n",
       "      <td>종로구</td>\n",
       "      <td>소계</td>\n",
       "      <td>외국인</td>\n",
       "      <td>9612</td>\n",
       "      <td>3247</td>\n",
       "      <td>1319</td>\n",
       "      <td>818</td>\n",
       "      <td>646</td>\n",
       "      <td>576</td>\n",
       "      <td>477</td>\n",
       "      <td>507</td>\n",
       "      <td>553</td>\n",
       "    </tr>\n",
       "    <tr>\n",
       "      <th>3</th>\n",
       "      <td>종로구</td>\n",
       "      <td>사직동</td>\n",
       "      <td>계</td>\n",
       "      <td>9806</td>\n",
       "      <td>506</td>\n",
       "      <td>758</td>\n",
       "      <td>762</td>\n",
       "      <td>771</td>\n",
       "      <td>731</td>\n",
       "      <td>816</td>\n",
       "      <td>828</td>\n",
       "      <td>772</td>\n",
       "    </tr>\n",
       "    <tr>\n",
       "      <th>4</th>\n",
       "      <td>종로구</td>\n",
       "      <td>사직동</td>\n",
       "      <td>한국인</td>\n",
       "      <td>9526</td>\n",
       "      <td>496</td>\n",
       "      <td>741</td>\n",
       "      <td>721</td>\n",
       "      <td>720</td>\n",
       "      <td>686</td>\n",
       "      <td>792</td>\n",
       "      <td>809</td>\n",
       "      <td>751</td>\n",
       "    </tr>\n",
       "  </tbody>\n",
       "</table>\n",
       "</div>"
      ],
      "text/plain": [
       "   자치구    동   구분       계  20~24세  25~29세  30~34세  35~39세  40~44세  45~49세  \\\n",
       "0  종로구   소계    계  158996  13721   14261   10902   10505   10525    12759   \n",
       "1  종로구   소계  한국인  149384  10474   12942   10084    9859    9949    12282   \n",
       "2  종로구   소계  외국인    9612   3247    1319     818     646     576      477   \n",
       "3  종로구  사직동    계    9806    506     758     762     771     731      816   \n",
       "4  종로구  사직동  한국인    9526    496     741     721     720     686      792   \n",
       "\n",
       "   50~54세  55~59세  \n",
       "0   13399  13120   \n",
       "1   12892  12567   \n",
       "2     507    553   \n",
       "3     828    772   \n",
       "4     809    751   "
      ]
     },
     "execution_count": 447,
     "metadata": {},
     "output_type": "execute_result"
    }
   ],
   "source": [
    "people.head()"
   ]
  },
  {
   "cell_type": "code",
   "execution_count": 448,
   "id": "preliminary-bulletin",
   "metadata": {},
   "outputs": [],
   "source": [
    "peo = people['구분'] == \"계\""
   ]
  },
  {
   "cell_type": "code",
   "execution_count": 449,
   "id": "acoustic-filing",
   "metadata": {},
   "outputs": [],
   "source": [
    "peo2 = people['동'] != \"소계\""
   ]
  },
  {
   "cell_type": "code",
   "execution_count": 450,
   "id": "english-platform",
   "metadata": {},
   "outputs": [],
   "source": [
    "people = people[peo & peo2]"
   ]
  },
  {
   "cell_type": "code",
   "execution_count": 451,
   "id": "copyrighted-murder",
   "metadata": {},
   "outputs": [],
   "source": [
    "people.drop(\"계\",axis=1,inplace=True)"
   ]
  },
  {
   "cell_type": "code",
   "execution_count": 452,
   "id": "talented-celebration",
   "metadata": {},
   "outputs": [],
   "source": [
    "people.drop(\"구분\",axis=1,inplace=True)"
   ]
  },
  {
   "cell_type": "code",
   "execution_count": 453,
   "id": "processed-nurse",
   "metadata": {},
   "outputs": [
    {
     "data": {
      "text/html": [
       "<div>\n",
       "<style scoped>\n",
       "    .dataframe tbody tr th:only-of-type {\n",
       "        vertical-align: middle;\n",
       "    }\n",
       "\n",
       "    .dataframe tbody tr th {\n",
       "        vertical-align: top;\n",
       "    }\n",
       "\n",
       "    .dataframe thead th {\n",
       "        text-align: right;\n",
       "    }\n",
       "</style>\n",
       "<table border=\"1\" class=\"dataframe\">\n",
       "  <thead>\n",
       "    <tr style=\"text-align: right;\">\n",
       "      <th></th>\n",
       "      <th>자치구</th>\n",
       "      <th>동</th>\n",
       "      <th>20~24세</th>\n",
       "      <th>25~29세</th>\n",
       "      <th>30~34세</th>\n",
       "      <th>35~39세</th>\n",
       "      <th>40~44세</th>\n",
       "      <th>45~49세</th>\n",
       "      <th>50~54세</th>\n",
       "      <th>55~59세</th>\n",
       "    </tr>\n",
       "  </thead>\n",
       "  <tbody>\n",
       "    <tr>\n",
       "      <th>3</th>\n",
       "      <td>종로구</td>\n",
       "      <td>사직동</td>\n",
       "      <td>506</td>\n",
       "      <td>758</td>\n",
       "      <td>762</td>\n",
       "      <td>771</td>\n",
       "      <td>731</td>\n",
       "      <td>816</td>\n",
       "      <td>828</td>\n",
       "      <td>772</td>\n",
       "    </tr>\n",
       "    <tr>\n",
       "      <th>6</th>\n",
       "      <td>종로구</td>\n",
       "      <td>삼청동</td>\n",
       "      <td>144</td>\n",
       "      <td>180</td>\n",
       "      <td>186</td>\n",
       "      <td>226</td>\n",
       "      <td>231</td>\n",
       "      <td>201</td>\n",
       "      <td>207</td>\n",
       "      <td>241</td>\n",
       "    </tr>\n",
       "    <tr>\n",
       "      <th>9</th>\n",
       "      <td>종로구</td>\n",
       "      <td>부암동</td>\n",
       "      <td>681</td>\n",
       "      <td>773</td>\n",
       "      <td>690</td>\n",
       "      <td>682</td>\n",
       "      <td>747</td>\n",
       "      <td>909</td>\n",
       "      <td>910</td>\n",
       "      <td>835</td>\n",
       "    </tr>\n",
       "    <tr>\n",
       "      <th>12</th>\n",
       "      <td>종로구</td>\n",
       "      <td>평창동</td>\n",
       "      <td>1167</td>\n",
       "      <td>1303</td>\n",
       "      <td>1047</td>\n",
       "      <td>1238</td>\n",
       "      <td>1267</td>\n",
       "      <td>1537</td>\n",
       "      <td>1648</td>\n",
       "      <td>1657</td>\n",
       "    </tr>\n",
       "    <tr>\n",
       "      <th>15</th>\n",
       "      <td>종로구</td>\n",
       "      <td>무악동</td>\n",
       "      <td>490</td>\n",
       "      <td>452</td>\n",
       "      <td>405</td>\n",
       "      <td>549</td>\n",
       "      <td>665</td>\n",
       "      <td>854</td>\n",
       "      <td>761</td>\n",
       "      <td>667</td>\n",
       "    </tr>\n",
       "  </tbody>\n",
       "</table>\n",
       "</div>"
      ],
      "text/plain": [
       "    자치구    동 20~24세 25~29세 30~34세 35~39세 40~44세  45~49세  50~54세 55~59세\n",
       "3   종로구  사직동   506    758    762    771    731      816     828   772 \n",
       "6   종로구  삼청동   144    180    186    226    231      201     207   241 \n",
       "9   종로구  부암동   681    773    690    682    747      909     910   835 \n",
       "12  종로구  평창동  1167   1303   1047   1238   1267     1537    1648  1657 \n",
       "15  종로구  무악동   490    452    405    549    665      854     761   667 "
      ]
     },
     "execution_count": 453,
     "metadata": {},
     "output_type": "execute_result"
    }
   ],
   "source": [
    "people.head()"
   ]
  },
  {
   "cell_type": "code",
   "execution_count": 454,
   "id": "ordered-roommate",
   "metadata": {},
   "outputs": [
    {
     "data": {
      "text/plain": [
       "자치구       object\n",
       "동         object\n",
       "20~24세    object\n",
       "25~29세    object\n",
       "30~34세    object\n",
       "35~39세    object\n",
       "40~44세    object\n",
       "45~49세     int64\n",
       "50~54세     int64\n",
       "55~59세    object\n",
       "dtype: object"
      ]
     },
     "execution_count": 454,
     "metadata": {},
     "output_type": "execute_result"
    }
   ],
   "source": [
    "people.dtypes"
   ]
  },
  {
   "cell_type": "code",
   "execution_count": 455,
   "id": "pharmaceutical-warner",
   "metadata": {},
   "outputs": [],
   "source": [
    "people['20~24세'] = people['20~24세'].astype('int')\n",
    "people['25~29세'] = people['25~29세'].astype('int')\n",
    "people['30~34세'] = people['30~34세'].astype('int')\n",
    "people['35~39세'] = people['35~39세'].astype('int')\n",
    "people['40~44세'] = people['40~44세'].astype('int')\n",
    "people['55~59세'] = people['55~59세'].astype('int')"
   ]
  },
  {
   "cell_type": "code",
   "execution_count": 456,
   "id": "suburban-photograph",
   "metadata": {},
   "outputs": [
    {
     "data": {
      "text/plain": [
       "자치구       object\n",
       "동         object\n",
       "20~24세     int32\n",
       "25~29세     int32\n",
       "30~34세     int32\n",
       "35~39세     int32\n",
       "40~44세     int32\n",
       "45~49세     int64\n",
       "50~54세     int64\n",
       "55~59세     int32\n",
       "dtype: object"
      ]
     },
     "execution_count": 456,
     "metadata": {},
     "output_type": "execute_result"
    }
   ],
   "source": [
    "people.dtypes"
   ]
  },
  {
   "cell_type": "code",
   "execution_count": 457,
   "id": "assured-perception",
   "metadata": {},
   "outputs": [
    {
     "data": {
      "text/html": [
       "<div>\n",
       "<style scoped>\n",
       "    .dataframe tbody tr th:only-of-type {\n",
       "        vertical-align: middle;\n",
       "    }\n",
       "\n",
       "    .dataframe tbody tr th {\n",
       "        vertical-align: top;\n",
       "    }\n",
       "\n",
       "    .dataframe thead th {\n",
       "        text-align: right;\n",
       "    }\n",
       "</style>\n",
       "<table border=\"1\" class=\"dataframe\">\n",
       "  <thead>\n",
       "    <tr style=\"text-align: right;\">\n",
       "      <th></th>\n",
       "      <th>자치구</th>\n",
       "      <th>동</th>\n",
       "      <th>20~24세</th>\n",
       "      <th>25~29세</th>\n",
       "      <th>30~34세</th>\n",
       "      <th>35~39세</th>\n",
       "      <th>40~44세</th>\n",
       "      <th>45~49세</th>\n",
       "      <th>50~54세</th>\n",
       "      <th>55~59세</th>\n",
       "      <th>총계</th>\n",
       "    </tr>\n",
       "  </thead>\n",
       "  <tbody>\n",
       "    <tr>\n",
       "      <th>3</th>\n",
       "      <td>종로구</td>\n",
       "      <td>사직동</td>\n",
       "      <td>506</td>\n",
       "      <td>758</td>\n",
       "      <td>762</td>\n",
       "      <td>771</td>\n",
       "      <td>731</td>\n",
       "      <td>816</td>\n",
       "      <td>828</td>\n",
       "      <td>772</td>\n",
       "      <td>5944</td>\n",
       "    </tr>\n",
       "    <tr>\n",
       "      <th>6</th>\n",
       "      <td>종로구</td>\n",
       "      <td>삼청동</td>\n",
       "      <td>144</td>\n",
       "      <td>180</td>\n",
       "      <td>186</td>\n",
       "      <td>226</td>\n",
       "      <td>231</td>\n",
       "      <td>201</td>\n",
       "      <td>207</td>\n",
       "      <td>241</td>\n",
       "      <td>1616</td>\n",
       "    </tr>\n",
       "    <tr>\n",
       "      <th>9</th>\n",
       "      <td>종로구</td>\n",
       "      <td>부암동</td>\n",
       "      <td>681</td>\n",
       "      <td>773</td>\n",
       "      <td>690</td>\n",
       "      <td>682</td>\n",
       "      <td>747</td>\n",
       "      <td>909</td>\n",
       "      <td>910</td>\n",
       "      <td>835</td>\n",
       "      <td>6227</td>\n",
       "    </tr>\n",
       "    <tr>\n",
       "      <th>12</th>\n",
       "      <td>종로구</td>\n",
       "      <td>평창동</td>\n",
       "      <td>1167</td>\n",
       "      <td>1303</td>\n",
       "      <td>1047</td>\n",
       "      <td>1238</td>\n",
       "      <td>1267</td>\n",
       "      <td>1537</td>\n",
       "      <td>1648</td>\n",
       "      <td>1657</td>\n",
       "      <td>10864</td>\n",
       "    </tr>\n",
       "    <tr>\n",
       "      <th>15</th>\n",
       "      <td>종로구</td>\n",
       "      <td>무악동</td>\n",
       "      <td>490</td>\n",
       "      <td>452</td>\n",
       "      <td>405</td>\n",
       "      <td>549</td>\n",
       "      <td>665</td>\n",
       "      <td>854</td>\n",
       "      <td>761</td>\n",
       "      <td>667</td>\n",
       "      <td>4843</td>\n",
       "    </tr>\n",
       "    <tr>\n",
       "      <th>...</th>\n",
       "      <td>...</td>\n",
       "      <td>...</td>\n",
       "      <td>...</td>\n",
       "      <td>...</td>\n",
       "      <td>...</td>\n",
       "      <td>...</td>\n",
       "      <td>...</td>\n",
       "      <td>...</td>\n",
       "      <td>...</td>\n",
       "      <td>...</td>\n",
       "      <td>...</td>\n",
       "    </tr>\n",
       "    <tr>\n",
       "      <th>1335</th>\n",
       "      <td>강동구</td>\n",
       "      <td>둔촌1동</td>\n",
       "      <td>11</td>\n",
       "      <td>11</td>\n",
       "      <td>4</td>\n",
       "      <td>18</td>\n",
       "      <td>30</td>\n",
       "      <td>22</td>\n",
       "      <td>19</td>\n",
       "      <td>10</td>\n",
       "      <td>125</td>\n",
       "    </tr>\n",
       "    <tr>\n",
       "      <th>1338</th>\n",
       "      <td>강동구</td>\n",
       "      <td>둔촌2동</td>\n",
       "      <td>1670</td>\n",
       "      <td>2084</td>\n",
       "      <td>1884</td>\n",
       "      <td>1998</td>\n",
       "      <td>1911</td>\n",
       "      <td>2008</td>\n",
       "      <td>2202</td>\n",
       "      <td>2212</td>\n",
       "      <td>15969</td>\n",
       "    </tr>\n",
       "    <tr>\n",
       "      <th>1341</th>\n",
       "      <td>강동구</td>\n",
       "      <td>암사1동</td>\n",
       "      <td>2161</td>\n",
       "      <td>2734</td>\n",
       "      <td>2557</td>\n",
       "      <td>2801</td>\n",
       "      <td>2775</td>\n",
       "      <td>2887</td>\n",
       "      <td>3032</td>\n",
       "      <td>3039</td>\n",
       "      <td>21986</td>\n",
       "    </tr>\n",
       "    <tr>\n",
       "      <th>1344</th>\n",
       "      <td>강동구</td>\n",
       "      <td>천호2동</td>\n",
       "      <td>1828</td>\n",
       "      <td>3211</td>\n",
       "      <td>3327</td>\n",
       "      <td>3121</td>\n",
       "      <td>2513</td>\n",
       "      <td>2632</td>\n",
       "      <td>2810</td>\n",
       "      <td>3154</td>\n",
       "      <td>22596</td>\n",
       "    </tr>\n",
       "    <tr>\n",
       "      <th>1347</th>\n",
       "      <td>강동구</td>\n",
       "      <td>길동</td>\n",
       "      <td>2827</td>\n",
       "      <td>4425</td>\n",
       "      <td>3929</td>\n",
       "      <td>3745</td>\n",
       "      <td>3409</td>\n",
       "      <td>3521</td>\n",
       "      <td>3754</td>\n",
       "      <td>3921</td>\n",
       "      <td>29531</td>\n",
       "    </tr>\n",
       "  </tbody>\n",
       "</table>\n",
       "<p>425 rows × 11 columns</p>\n",
       "</div>"
      ],
      "text/plain": [
       "      자치구     동  20~24세  25~29세  30~34세  35~39세  40~44세  45~49세  50~54세  \\\n",
       "3     종로구   사직동     506     758     762     771     731     816     828   \n",
       "6     종로구   삼청동     144     180     186     226     231     201     207   \n",
       "9     종로구   부암동     681     773     690     682     747     909     910   \n",
       "12    종로구   평창동    1167    1303    1047    1238    1267    1537    1648   \n",
       "15    종로구   무악동     490     452     405     549     665     854     761   \n",
       "...   ...   ...     ...     ...     ...     ...     ...     ...     ...   \n",
       "1335  강동구  둔촌1동      11      11       4      18      30      22      19   \n",
       "1338  강동구  둔촌2동    1670    2084    1884    1998    1911    2008    2202   \n",
       "1341  강동구  암사1동    2161    2734    2557    2801    2775    2887    3032   \n",
       "1344  강동구  천호2동    1828    3211    3327    3121    2513    2632    2810   \n",
       "1347  강동구    길동    2827    4425    3929    3745    3409    3521    3754   \n",
       "\n",
       "      55~59세     총계  \n",
       "3        772   5944  \n",
       "6        241   1616  \n",
       "9        835   6227  \n",
       "12      1657  10864  \n",
       "15       667   4843  \n",
       "...      ...    ...  \n",
       "1335      10    125  \n",
       "1338    2212  15969  \n",
       "1341    3039  21986  \n",
       "1344    3154  22596  \n",
       "1347    3921  29531  \n",
       "\n",
       "[425 rows x 11 columns]"
      ]
     },
     "execution_count": 457,
     "metadata": {},
     "output_type": "execute_result"
    }
   ],
   "source": [
    "people['총계'] = people.sum(axis=1)\n",
    "people"
   ]
  },
  {
   "cell_type": "code",
   "execution_count": 458,
   "id": "partial-azerbaijan",
   "metadata": {},
   "outputs": [
    {
     "data": {
      "text/plain": [
       "<AxesSubplot:xlabel='자치구'>"
      ]
     },
     "execution_count": 458,
     "metadata": {},
     "output_type": "execute_result"
    },
    {
     "data": {
      "image/png": "[encoded data removed]",
      "text/plain": [
       "<Figure size 432x288 with 1 Axes>"
      ]
     },
     "metadata": {
      "needs_background": "light"
     },
     "output_type": "display_data"
    }
   ],
   "source": [
    "people.groupby('자치구')['총계'].sum().plot.bar()"
   ]
  },
  {
   "cell_type": "code",
   "execution_count": 459,
   "id": "selected-square",
   "metadata": {},
   "outputs": [
    {
     "data": {
      "text/plain": [
       "822     35729\n",
       "600     33391\n",
       "975     30619\n",
       "885     29825\n",
       "1347    29531\n",
       "        ...  \n",
       "63       2280\n",
       "57       2043\n",
       "6        1616\n",
       "75       1136\n",
       "1335      125\n",
       "Name: 총계, Length: 425, dtype: int64"
      ]
     },
     "execution_count": 459,
     "metadata": {},
     "output_type": "execute_result"
    }
   ],
   "source": [
    "people['총계'].sort_values(ascending = False)"
   ]
  },
  {
   "cell_type": "code",
   "execution_count": 460,
   "id": "scenic-pitch",
   "metadata": {},
   "outputs": [
    {
     "data": {
      "text/plain": [
       "count      425.000000\n",
       "mean     14556.943529\n",
       "std       5694.760065\n",
       "min        125.000000\n",
       "25%      10837.000000\n",
       "50%      14124.000000\n",
       "75%      17934.000000\n",
       "max      35729.000000\n",
       "Name: 총계, dtype: float64"
      ]
     },
     "execution_count": 460,
     "metadata": {},
     "output_type": "execute_result"
    }
   ],
   "source": [
    "people['총계'].describe()"
   ]
  },
  {
   "cell_type": "code",
   "execution_count": 461,
   "id": "visible-advancement",
   "metadata": {},
   "outputs": [],
   "source": [
    "people_m = people['총계']>=14556"
   ]
  },
  {
   "cell_type": "code",
   "execution_count": 462,
   "id": "legislative-stocks",
   "metadata": {},
   "outputs": [],
   "source": [
    "people_mean_t = people[people_m == True]\n",
    "people_mean_f = people[people_m == False]"
   ]
  },
  {
   "cell_type": "code",
   "execution_count": 463,
   "id": "velvet-petersburg",
   "metadata": {},
   "outputs": [
    {
     "data": {
      "text/html": [
       "<div>\n",
       "<style scoped>\n",
       "    .dataframe tbody tr th:only-of-type {\n",
       "        vertical-align: middle;\n",
       "    }\n",
       "\n",
       "    .dataframe tbody tr th {\n",
       "        vertical-align: top;\n",
       "    }\n",
       "\n",
       "    .dataframe thead th {\n",
       "        text-align: right;\n",
       "    }\n",
       "</style>\n",
       "<table border=\"1\" class=\"dataframe\">\n",
       "  <thead>\n",
       "    <tr style=\"text-align: right;\">\n",
       "      <th></th>\n",
       "      <th>자치구</th>\n",
       "      <th>동</th>\n",
       "      <th>20~24세</th>\n",
       "      <th>25~29세</th>\n",
       "      <th>30~34세</th>\n",
       "      <th>35~39세</th>\n",
       "      <th>40~44세</th>\n",
       "      <th>45~49세</th>\n",
       "      <th>50~54세</th>\n",
       "      <th>55~59세</th>\n",
       "      <th>총계</th>\n",
       "    </tr>\n",
       "  </thead>\n",
       "  <tbody>\n",
       "    <tr>\n",
       "      <th>123</th>\n",
       "      <td>용산구</td>\n",
       "      <td>이촌1동</td>\n",
       "      <td>1548</td>\n",
       "      <td>1479</td>\n",
       "      <td>1599</td>\n",
       "      <td>2209</td>\n",
       "      <td>2450</td>\n",
       "      <td>2691</td>\n",
       "      <td>2634</td>\n",
       "      <td>2061</td>\n",
       "      <td>16671</td>\n",
       "    </tr>\n",
       "    <tr>\n",
       "      <th>147</th>\n",
       "      <td>용산구</td>\n",
       "      <td>한강로동</td>\n",
       "      <td>1223</td>\n",
       "      <td>2018</td>\n",
       "      <td>2306</td>\n",
       "      <td>2086</td>\n",
       "      <td>1680</td>\n",
       "      <td>1579</td>\n",
       "      <td>1865</td>\n",
       "      <td>1847</td>\n",
       "      <td>14604</td>\n",
       "    </tr>\n",
       "    <tr>\n",
       "      <th>150</th>\n",
       "      <td>용산구</td>\n",
       "      <td>한남동</td>\n",
       "      <td>1116</td>\n",
       "      <td>1964</td>\n",
       "      <td>2268</td>\n",
       "      <td>2438</td>\n",
       "      <td>2022</td>\n",
       "      <td>1921</td>\n",
       "      <td>1906</td>\n",
       "      <td>1786</td>\n",
       "      <td>15421</td>\n",
       "    </tr>\n",
       "    <tr>\n",
       "      <th>159</th>\n",
       "      <td>성동구</td>\n",
       "      <td>마장동</td>\n",
       "      <td>2151</td>\n",
       "      <td>2520</td>\n",
       "      <td>1820</td>\n",
       "      <td>1573</td>\n",
       "      <td>1373</td>\n",
       "      <td>1727</td>\n",
       "      <td>1902</td>\n",
       "      <td>1908</td>\n",
       "      <td>14974</td>\n",
       "    </tr>\n",
       "    <tr>\n",
       "      <th>168</th>\n",
       "      <td>성동구</td>\n",
       "      <td>행당2동</td>\n",
       "      <td>1503</td>\n",
       "      <td>1545</td>\n",
       "      <td>1789</td>\n",
       "      <td>1943</td>\n",
       "      <td>1924</td>\n",
       "      <td>2179</td>\n",
       "      <td>2120</td>\n",
       "      <td>1819</td>\n",
       "      <td>14822</td>\n",
       "    </tr>\n",
       "    <tr>\n",
       "      <th>...</th>\n",
       "      <td>...</td>\n",
       "      <td>...</td>\n",
       "      <td>...</td>\n",
       "      <td>...</td>\n",
       "      <td>...</td>\n",
       "      <td>...</td>\n",
       "      <td>...</td>\n",
       "      <td>...</td>\n",
       "      <td>...</td>\n",
       "      <td>...</td>\n",
       "      <td>...</td>\n",
       "    </tr>\n",
       "    <tr>\n",
       "      <th>1332</th>\n",
       "      <td>강동구</td>\n",
       "      <td>성내3동</td>\n",
       "      <td>1589</td>\n",
       "      <td>2110</td>\n",
       "      <td>1816</td>\n",
       "      <td>1835</td>\n",
       "      <td>1763</td>\n",
       "      <td>1885</td>\n",
       "      <td>2037</td>\n",
       "      <td>1983</td>\n",
       "      <td>15018</td>\n",
       "    </tr>\n",
       "    <tr>\n",
       "      <th>1338</th>\n",
       "      <td>강동구</td>\n",
       "      <td>둔촌2동</td>\n",
       "      <td>1670</td>\n",
       "      <td>2084</td>\n",
       "      <td>1884</td>\n",
       "      <td>1998</td>\n",
       "      <td>1911</td>\n",
       "      <td>2008</td>\n",
       "      <td>2202</td>\n",
       "      <td>2212</td>\n",
       "      <td>15969</td>\n",
       "    </tr>\n",
       "    <tr>\n",
       "      <th>1341</th>\n",
       "      <td>강동구</td>\n",
       "      <td>암사1동</td>\n",
       "      <td>2161</td>\n",
       "      <td>2734</td>\n",
       "      <td>2557</td>\n",
       "      <td>2801</td>\n",
       "      <td>2775</td>\n",
       "      <td>2887</td>\n",
       "      <td>3032</td>\n",
       "      <td>3039</td>\n",
       "      <td>21986</td>\n",
       "    </tr>\n",
       "    <tr>\n",
       "      <th>1344</th>\n",
       "      <td>강동구</td>\n",
       "      <td>천호2동</td>\n",
       "      <td>1828</td>\n",
       "      <td>3211</td>\n",
       "      <td>3327</td>\n",
       "      <td>3121</td>\n",
       "      <td>2513</td>\n",
       "      <td>2632</td>\n",
       "      <td>2810</td>\n",
       "      <td>3154</td>\n",
       "      <td>22596</td>\n",
       "    </tr>\n",
       "    <tr>\n",
       "      <th>1347</th>\n",
       "      <td>강동구</td>\n",
       "      <td>길동</td>\n",
       "      <td>2827</td>\n",
       "      <td>4425</td>\n",
       "      <td>3929</td>\n",
       "      <td>3745</td>\n",
       "      <td>3409</td>\n",
       "      <td>3521</td>\n",
       "      <td>3754</td>\n",
       "      <td>3921</td>\n",
       "      <td>29531</td>\n",
       "    </tr>\n",
       "  </tbody>\n",
       "</table>\n",
       "<p>200 rows × 11 columns</p>\n",
       "</div>"
      ],
      "text/plain": [
       "      자치구     동  20~24세  25~29세  30~34세  35~39세  40~44세  45~49세  50~54세  \\\n",
       "123   용산구  이촌1동    1548    1479    1599    2209    2450    2691    2634   \n",
       "147   용산구  한강로동    1223    2018    2306    2086    1680    1579    1865   \n",
       "150   용산구   한남동    1116    1964    2268    2438    2022    1921    1906   \n",
       "159   성동구   마장동    2151    2520    1820    1573    1373    1727    1902   \n",
       "168   성동구  행당2동    1503    1545    1789    1943    1924    2179    2120   \n",
       "...   ...   ...     ...     ...     ...     ...     ...     ...     ...   \n",
       "1332  강동구  성내3동    1589    2110    1816    1835    1763    1885    2037   \n",
       "1338  강동구  둔촌2동    1670    2084    1884    1998    1911    2008    2202   \n",
       "1341  강동구  암사1동    2161    2734    2557    2801    2775    2887    3032   \n",
       "1344  강동구  천호2동    1828    3211    3327    3121    2513    2632    2810   \n",
       "1347  강동구    길동    2827    4425    3929    3745    3409    3521    3754   \n",
       "\n",
       "      55~59세     총계  \n",
       "123     2061  16671  \n",
       "147     1847  14604  \n",
       "150     1786  15421  \n",
       "159     1908  14974  \n",
       "168     1819  14822  \n",
       "...      ...    ...  \n",
       "1332    1983  15018  \n",
       "1338    2212  15969  \n",
       "1341    3039  21986  \n",
       "1344    3154  22596  \n",
       "1347    3921  29531  \n",
       "\n",
       "[200 rows x 11 columns]"
      ]
     },
     "execution_count": 463,
     "metadata": {},
     "output_type": "execute_result"
    }
   ],
   "source": [
    "people_mean_high = people_mean_t\n",
    "people_mean_low = people_mean_f\n",
    "people_mean_high\n",
    "#people_mean_low"
   ]
  },
  {
   "cell_type": "markdown",
   "id": "powerful-comparative",
   "metadata": {},
   "source": [
    "소득수준"
   ]
  },
  {
   "cell_type": "code",
   "execution_count": 464,
   "id": "purple-embassy",
   "metadata": {},
   "outputs": [],
   "source": [
    "income = pd.read_csv('income.csv')"
   ]
  },
  {
   "cell_type": "code",
   "execution_count": 465,
   "id": "amber-samba",
   "metadata": {},
   "outputs": [
    {
     "data": {
      "text/html": [
       "<div>\n",
       "<style scoped>\n",
       "    .dataframe tbody tr th:only-of-type {\n",
       "        vertical-align: middle;\n",
       "    }\n",
       "\n",
       "    .dataframe tbody tr th {\n",
       "        vertical-align: top;\n",
       "    }\n",
       "\n",
       "    .dataframe thead th {\n",
       "        text-align: right;\n",
       "    }\n",
       "</style>\n",
       "<table border=\"1\" class=\"dataframe\">\n",
       "  <thead>\n",
       "    <tr style=\"text-align: right;\">\n",
       "      <th></th>\n",
       "      <th>구분</th>\n",
       "      <th>급여총계(인원)</th>\n",
       "      <th>급여총계(금액)</th>\n",
       "    </tr>\n",
       "  </thead>\n",
       "  <tbody>\n",
       "    <tr>\n",
       "      <th>0</th>\n",
       "      <td>서울</td>\n",
       "      <td>3845841</td>\n",
       "      <td>164800618</td>\n",
       "    </tr>\n",
       "    <tr>\n",
       "      <th>1</th>\n",
       "      <td>강남구</td>\n",
       "      <td>209653</td>\n",
       "      <td>14926829</td>\n",
       "    </tr>\n",
       "    <tr>\n",
       "      <th>2</th>\n",
       "      <td>강동구</td>\n",
       "      <td>183833</td>\n",
       "      <td>7447177</td>\n",
       "    </tr>\n",
       "    <tr>\n",
       "      <th>3</th>\n",
       "      <td>강북구</td>\n",
       "      <td>105025</td>\n",
       "      <td>3075447</td>\n",
       "    </tr>\n",
       "    <tr>\n",
       "      <th>4</th>\n",
       "      <td>강서구</td>\n",
       "      <td>245495</td>\n",
       "      <td>9178851</td>\n",
       "    </tr>\n",
       "  </tbody>\n",
       "</table>\n",
       "</div>"
      ],
      "text/plain": [
       "     구분  급여총계(인원)   급여총계(금액)\n",
       "0   서울    3845841  164800618\n",
       "1   강남구    209653   14926829\n",
       "2   강동구    183833    7447177\n",
       "3   강북구    105025    3075447\n",
       "4   강서구    245495    9178851"
      ]
     },
     "execution_count": 465,
     "metadata": {},
     "output_type": "execute_result"
    }
   ],
   "source": [
    "income.head()"
   ]
  },
  {
   "cell_type": "code",
   "execution_count": 466,
   "id": "further-williams",
   "metadata": {},
   "outputs": [],
   "source": [
    "income = income.drop(index = 0, axis = 0)"
   ]
  },
  {
   "cell_type": "code",
   "execution_count": 467,
   "id": "empty-recovery",
   "metadata": {},
   "outputs": [],
   "source": [
    "income.rename(columns = {\"구분\": \"자치구\"}, inplace = True)"
   ]
  },
  {
   "cell_type": "code",
   "execution_count": 468,
   "id": "dressed-thailand",
   "metadata": {},
   "outputs": [
    {
     "data": {
      "text/html": [
       "<div>\n",
       "<style scoped>\n",
       "    .dataframe tbody tr th:only-of-type {\n",
       "        vertical-align: middle;\n",
       "    }\n",
       "\n",
       "    .dataframe tbody tr th {\n",
       "        vertical-align: top;\n",
       "    }\n",
       "\n",
       "    .dataframe thead th {\n",
       "        text-align: right;\n",
       "    }\n",
       "</style>\n",
       "<table border=\"1\" class=\"dataframe\">\n",
       "  <thead>\n",
       "    <tr style=\"text-align: right;\">\n",
       "      <th></th>\n",
       "      <th>자치구</th>\n",
       "      <th>급여총계(인원)</th>\n",
       "      <th>급여총계(금액)</th>\n",
       "    </tr>\n",
       "  </thead>\n",
       "  <tbody>\n",
       "    <tr>\n",
       "      <th>1</th>\n",
       "      <td>강남구</td>\n",
       "      <td>209653</td>\n",
       "      <td>14926829</td>\n",
       "    </tr>\n",
       "    <tr>\n",
       "      <th>2</th>\n",
       "      <td>강동구</td>\n",
       "      <td>183833</td>\n",
       "      <td>7447177</td>\n",
       "    </tr>\n",
       "    <tr>\n",
       "      <th>3</th>\n",
       "      <td>강북구</td>\n",
       "      <td>105025</td>\n",
       "      <td>3075447</td>\n",
       "    </tr>\n",
       "    <tr>\n",
       "      <th>4</th>\n",
       "      <td>강서구</td>\n",
       "      <td>245495</td>\n",
       "      <td>9178851</td>\n",
       "    </tr>\n",
       "    <tr>\n",
       "      <th>5</th>\n",
       "      <td>관악구</td>\n",
       "      <td>217483</td>\n",
       "      <td>6865539</td>\n",
       "    </tr>\n",
       "    <tr>\n",
       "      <th>6</th>\n",
       "      <td>광진구</td>\n",
       "      <td>145629</td>\n",
       "      <td>5495292</td>\n",
       "    </tr>\n",
       "    <tr>\n",
       "      <th>7</th>\n",
       "      <td>구로구</td>\n",
       "      <td>171843</td>\n",
       "      <td>5972692</td>\n",
       "    </tr>\n",
       "    <tr>\n",
       "      <th>8</th>\n",
       "      <td>금천구</td>\n",
       "      <td>98934</td>\n",
       "      <td>2973640</td>\n",
       "    </tr>\n",
       "    <tr>\n",
       "      <th>9</th>\n",
       "      <td>노원구</td>\n",
       "      <td>191248</td>\n",
       "      <td>7206570</td>\n",
       "    </tr>\n",
       "    <tr>\n",
       "      <th>10</th>\n",
       "      <td>도봉구</td>\n",
       "      <td>118771</td>\n",
       "      <td>3797517</td>\n",
       "    </tr>\n",
       "    <tr>\n",
       "      <th>11</th>\n",
       "      <td>동대문구</td>\n",
       "      <td>125149</td>\n",
       "      <td>4357428</td>\n",
       "    </tr>\n",
       "    <tr>\n",
       "      <th>12</th>\n",
       "      <td>동작구</td>\n",
       "      <td>163292</td>\n",
       "      <td>6661784</td>\n",
       "    </tr>\n",
       "    <tr>\n",
       "      <th>13</th>\n",
       "      <td>마포구</td>\n",
       "      <td>156129</td>\n",
       "      <td>7296518</td>\n",
       "    </tr>\n",
       "    <tr>\n",
       "      <th>14</th>\n",
       "      <td>서대문구</td>\n",
       "      <td>121106</td>\n",
       "      <td>4982198</td>\n",
       "    </tr>\n",
       "    <tr>\n",
       "      <th>15</th>\n",
       "      <td>서초구</td>\n",
       "      <td>168901</td>\n",
       "      <td>12021965</td>\n",
       "    </tr>\n",
       "    <tr>\n",
       "      <th>16</th>\n",
       "      <td>성동구</td>\n",
       "      <td>117651</td>\n",
       "      <td>5431210</td>\n",
       "    </tr>\n",
       "    <tr>\n",
       "      <th>17</th>\n",
       "      <td>성북구</td>\n",
       "      <td>155845</td>\n",
       "      <td>6132023</td>\n",
       "    </tr>\n",
       "    <tr>\n",
       "      <th>18</th>\n",
       "      <td>송파구</td>\n",
       "      <td>280758</td>\n",
       "      <td>14203992</td>\n",
       "    </tr>\n",
       "    <tr>\n",
       "      <th>19</th>\n",
       "      <td>양천구</td>\n",
       "      <td>175717</td>\n",
       "      <td>8042926</td>\n",
       "    </tr>\n",
       "    <tr>\n",
       "      <th>20</th>\n",
       "      <td>영등포구</td>\n",
       "      <td>170948</td>\n",
       "      <td>7398345</td>\n",
       "    </tr>\n",
       "    <tr>\n",
       "      <th>21</th>\n",
       "      <td>용산구</td>\n",
       "      <td>92859</td>\n",
       "      <td>5822661</td>\n",
       "    </tr>\n",
       "    <tr>\n",
       "      <th>22</th>\n",
       "      <td>은평구</td>\n",
       "      <td>183936</td>\n",
       "      <td>6343267</td>\n",
       "    </tr>\n",
       "    <tr>\n",
       "      <th>23</th>\n",
       "      <td>종로구</td>\n",
       "      <td>52689</td>\n",
       "      <td>2566206</td>\n",
       "    </tr>\n",
       "    <tr>\n",
       "      <th>24</th>\n",
       "      <td>중구</td>\n",
       "      <td>47280</td>\n",
       "      <td>2184474</td>\n",
       "    </tr>\n",
       "    <tr>\n",
       "      <th>25</th>\n",
       "      <td>중랑구</td>\n",
       "      <td>145667</td>\n",
       "      <td>4416068</td>\n",
       "    </tr>\n",
       "  </tbody>\n",
       "</table>\n",
       "</div>"
      ],
      "text/plain": [
       "      자치구  급여총계(인원)  급여총계(금액)\n",
       "1     강남구    209653  14926829\n",
       "2     강동구    183833   7447177\n",
       "3     강북구    105025   3075447\n",
       "4     강서구    245495   9178851\n",
       "5     관악구    217483   6865539\n",
       "6     광진구    145629   5495292\n",
       "7     구로구    171843   5972692\n",
       "8     금천구     98934   2973640\n",
       "9     노원구    191248   7206570\n",
       "10    도봉구    118771   3797517\n",
       "11   동대문구    125149   4357428\n",
       "12    동작구    163292   6661784\n",
       "13    마포구    156129   7296518\n",
       "14   서대문구    121106   4982198\n",
       "15    서초구    168901  12021965\n",
       "16    성동구    117651   5431210\n",
       "17    성북구    155845   6132023\n",
       "18    송파구    280758  14203992\n",
       "19    양천구    175717   8042926\n",
       "20   영등포구    170948   7398345\n",
       "21    용산구     92859   5822661\n",
       "22    은평구    183936   6343267\n",
       "23    종로구     52689   2566206\n",
       "24     중구     47280   2184474\n",
       "25    중랑구    145667   4416068"
      ]
     },
     "execution_count": 468,
     "metadata": {},
     "output_type": "execute_result"
    }
   ],
   "source": [
    "income"
   ]
  },
  {
   "cell_type": "code",
   "execution_count": 469,
   "id": "polished-atlas",
   "metadata": {},
   "outputs": [
    {
     "data": {
      "text/plain": [
       "자치구         object\n",
       "급여총계(인원)     int64\n",
       "급여총계(금액)     int64\n",
       "dtype: object"
      ]
     },
     "execution_count": 469,
     "metadata": {},
     "output_type": "execute_result"
    }
   ],
   "source": [
    "income.dtypes"
   ]
  },
  {
   "cell_type": "code",
   "execution_count": 470,
   "id": "standard-picture",
   "metadata": {},
   "outputs": [
    {
     "data": {
      "image/png": "[encoded data removed]",
      "text/plain": [
       "<Figure size 432x288 with 1 Axes>"
      ]
     },
     "metadata": {
      "needs_background": "light"
     },
     "output_type": "display_data"
    }
   ],
   "source": [
    "plt.grid()\n",
    "sns.barplot(x='자치구',y='급여총계(금액)',data=income)\n",
    "plt.xticks(rotation = 90)\n",
    "plt.show()"
   ]
  },
  {
   "cell_type": "code",
   "execution_count": 471,
   "id": "fallen-carolina",
   "metadata": {},
   "outputs": [],
   "source": [
    "pd.options.display.float_format = '{:.5f}'.format  #지수표현식에서 실수표현으로"
   ]
  },
  {
   "cell_type": "code",
   "execution_count": 472,
   "id": "vietnamese-onion",
   "metadata": {},
   "outputs": [
    {
     "data": {
      "text/html": [
       "<div>\n",
       "<style scoped>\n",
       "    .dataframe tbody tr th:only-of-type {\n",
       "        vertical-align: middle;\n",
       "    }\n",
       "\n",
       "    .dataframe tbody tr th {\n",
       "        vertical-align: top;\n",
       "    }\n",
       "\n",
       "    .dataframe thead th {\n",
       "        text-align: right;\n",
       "    }\n",
       "</style>\n",
       "<table border=\"1\" class=\"dataframe\">\n",
       "  <thead>\n",
       "    <tr style=\"text-align: right;\">\n",
       "      <th></th>\n",
       "      <th>급여총계(인원)</th>\n",
       "      <th>급여총계(금액)</th>\n",
       "    </tr>\n",
       "  </thead>\n",
       "  <tbody>\n",
       "    <tr>\n",
       "      <th>count</th>\n",
       "      <td>25.00000</td>\n",
       "      <td>25.00000</td>\n",
       "    </tr>\n",
       "    <tr>\n",
       "      <th>mean</th>\n",
       "      <td>153833.64000</td>\n",
       "      <td>6592024.76000</td>\n",
       "    </tr>\n",
       "    <tr>\n",
       "      <th>std</th>\n",
       "      <td>54608.86461</td>\n",
       "      <td>3247102.53232</td>\n",
       "    </tr>\n",
       "    <tr>\n",
       "      <th>min</th>\n",
       "      <td>47280.00000</td>\n",
       "      <td>2184474.00000</td>\n",
       "    </tr>\n",
       "    <tr>\n",
       "      <th>25%</th>\n",
       "      <td>118771.00000</td>\n",
       "      <td>4416068.00000</td>\n",
       "    </tr>\n",
       "    <tr>\n",
       "      <th>50%</th>\n",
       "      <td>156129.00000</td>\n",
       "      <td>6132023.00000</td>\n",
       "    </tr>\n",
       "    <tr>\n",
       "      <th>75%</th>\n",
       "      <td>183833.00000</td>\n",
       "      <td>7398345.00000</td>\n",
       "    </tr>\n",
       "    <tr>\n",
       "      <th>max</th>\n",
       "      <td>280758.00000</td>\n",
       "      <td>14926829.00000</td>\n",
       "    </tr>\n",
       "  </tbody>\n",
       "</table>\n",
       "</div>"
      ],
      "text/plain": [
       "          급여총계(인원)       급여총계(금액)\n",
       "count     25.00000       25.00000\n",
       "mean  153833.64000  6592024.76000\n",
       "std    54608.86461  3247102.53232\n",
       "min    47280.00000  2184474.00000\n",
       "25%   118771.00000  4416068.00000\n",
       "50%   156129.00000  6132023.00000\n",
       "75%   183833.00000  7398345.00000\n",
       "max   280758.00000 14926829.00000"
      ]
     },
     "execution_count": 472,
     "metadata": {},
     "output_type": "execute_result"
    }
   ],
   "source": [
    "income.describe()"
   ]
  },
  {
   "cell_type": "code",
   "execution_count": 473,
   "id": "seasonal-peeing",
   "metadata": {},
   "outputs": [],
   "source": [
    "income_m = income['급여총계(금액)']>=6592024"
   ]
  },
  {
   "cell_type": "code",
   "execution_count": 474,
   "id": "welsh-phenomenon",
   "metadata": {},
   "outputs": [],
   "source": [
    "income_mean_t = income[income_m == True]\n",
    "income_mean_f = income[income_m == False]"
   ]
  },
  {
   "cell_type": "code",
   "execution_count": 475,
   "id": "outside-order",
   "metadata": {},
   "outputs": [
    {
     "data": {
      "text/plain": [
       "3       강북구\n",
       "6       광진구\n",
       "7       구로구\n",
       "8       금천구\n",
       "10      도봉구\n",
       "11     동대문구\n",
       "14     서대문구\n",
       "16      성동구\n",
       "17      성북구\n",
       "21      용산구\n",
       "22      은평구\n",
       "23      종로구\n",
       "24       중구\n",
       "25      중랑구\n",
       "Name: 자치구, dtype: object"
      ]
     },
     "execution_count": 475,
     "metadata": {},
     "output_type": "execute_result"
    }
   ],
   "source": [
    "income_mean_high = income_mean_t['자치구']\n",
    "income_mean_low = income_mean_f['자치구']\n",
    "#income_mean_high\n",
    "income_mean_low"
   ]
  },
  {
   "cell_type": "code",
   "execution_count": 476,
   "id": "increased-saturn",
   "metadata": {},
   "outputs": [],
   "source": [
    "inc = income.pivot_table(values=['급여총계(인원)','급여총계(금액)'],index=['자치구'])\n",
    "#g_c"
   ]
  },
  {
   "cell_type": "code",
   "execution_count": 477,
   "id": "plain-bleeding",
   "metadata": {},
   "outputs": [],
   "source": [
    "centroids = inc.sample(2, random_state=1)"
   ]
  },
  {
   "cell_type": "code",
   "execution_count": 478,
   "id": "developmental-kelly",
   "metadata": {},
   "outputs": [],
   "source": [
    "distance = sp.spatial.distance.cdist(inc, centroids, \"euclidean\")"
   ]
  },
  {
   "cell_type": "code",
   "execution_count": 479,
   "id": "fatty-oracle",
   "metadata": {},
   "outputs": [],
   "source": [
    "cluster_num = np.argmin(distance, axis=1)"
   ]
  },
  {
   "cell_type": "code",
   "execution_count": 480,
   "id": "bridal-pillow",
   "metadata": {},
   "outputs": [],
   "source": [
    "result = inc.copy()\n",
    "result[\"cluster\"] = np.array(cluster_num)\n",
    "#result.head()"
   ]
  },
  {
   "cell_type": "code",
   "execution_count": 481,
   "id": "danish-mason",
   "metadata": {},
   "outputs": [
    {
     "data": {
      "text/plain": [
       "Text(0.5, 1.0, '소득수준')"
      ]
     },
     "execution_count": 481,
     "metadata": {},
     "output_type": "execute_result"
    },
    {
     "data": {
      "image/png": "[encoded data removed]",
      "text/plain": [
       "<Figure size 432x288 with 1 Axes>"
      ]
     },
     "metadata": {
      "needs_background": "light"
     },
     "output_type": "display_data"
    }
   ],
   "source": [
    "inco = sns.scatterplot(x=\"급여총계(인원)\",y=\"급여총계(금액)\",hue=\"cluster\",data=result,palette=\"Set2\")\n",
    "inco.set_xlabel('인원')\n",
    "inco.set_ylabel('급여총계(단위:백만원)')\n",
    "inco.set_title('소득수준')"
   ]
  },
  {
   "cell_type": "markdown",
   "id": "commercial-brand",
   "metadata": {},
   "source": [
    "소득수준 하 & 핵심생산인구 상"
   ]
  },
  {
   "cell_type": "code",
   "execution_count": 482,
   "id": "criminal-calibration",
   "metadata": {},
   "outputs": [],
   "source": [
    "pmt = people_mean_t[\"자치구\"]\n",
    "pmt = pmt.drop_duplicates()\n",
    "#pmt.head(10)"
   ]
  },
  {
   "cell_type": "code",
   "execution_count": 484,
   "id": "rapid-ceremony",
   "metadata": {},
   "outputs": [],
   "source": [
    "pmt_iml = pd.concat([pmt,income_mean_low])"
   ]
  },
  {
   "cell_type": "code",
   "execution_count": 485,
   "id": "changing-manufacturer",
   "metadata": {},
   "outputs": [],
   "source": [
    "pmt_iml2 = list(np.array(pmt_iml.tolist()))"
   ]
  },
  {
   "cell_type": "code",
   "execution_count": 486,
   "id": "moderate-thermal",
   "metadata": {},
   "outputs": [],
   "source": [
    "pi_list = [ i.replace(' ','') for i in pmt_iml2 ]\n"
   ]
  },
  {
   "cell_type": "code",
   "execution_count": 487,
   "id": "forty-interval",
   "metadata": {},
   "outputs": [],
   "source": [
    "pi_df=pd.DataFrame(pi_list)"
   ]
  },
  {
   "cell_type": "code",
   "execution_count": 488,
   "id": "strategic-humidity",
   "metadata": {},
   "outputs": [],
   "source": [
    "pi_df2 = pi_df.duplicated()\n"
   ]
  },
  {
   "cell_type": "code",
   "execution_count": 489,
   "id": "unknown-dimension",
   "metadata": {},
   "outputs": [
    {
     "data": {
      "text/plain": [
       "23     강북구\n",
       "24     광진구\n",
       "25     구로구\n",
       "26     금천구\n",
       "27     도봉구\n",
       "28    동대문구\n",
       "29    서대문구\n",
       "30     성동구\n",
       "31     성북구\n",
       "32     용산구\n",
       "33     은평구\n",
       "36     중랑구\n",
       "Name: 0, dtype: object"
      ]
     },
     "execution_count": 489,
     "metadata": {},
     "output_type": "execute_result"
    }
   ],
   "source": [
    "peole_high_income_low = pi_df[pi_df2 == True]\n",
    "peole_high_income_low = peole_high_income_low[0]\n",
    "peole_high_income_low"
   ]
  },
  {
   "cell_type": "code",
   "execution_count": 490,
   "id": "recorded-pulse",
   "metadata": {},
   "outputs": [
    {
     "data": {
      "text/plain": [
       "123      True\n",
       "147      True\n",
       "150      True\n",
       "159      True\n",
       "168      True\n",
       "        ...  \n",
       "1332    False\n",
       "1338    False\n",
       "1341    False\n",
       "1344    False\n",
       "1347    False\n",
       "Name: 자치구, Length: 200, dtype: bool"
      ]
     },
     "execution_count": 490,
     "metadata": {},
     "output_type": "execute_result"
    }
   ],
   "source": [
    "contain_gu=people_mean_high['자치구'].str.contains(\"강북구|광진구|구로구|금천구|도봉구|동대문구|서대문구|성동구|성북구|용산구|은평구|중랑구\")\n",
    "contain_gu"
   ]
  },
  {
   "cell_type": "code",
   "execution_count": 491,
   "id": "convenient-belize",
   "metadata": {},
   "outputs": [
    {
     "data": {
      "text/plain": [
       "123    이촌1동\n",
       "147    한강로동\n",
       "150     한남동\n",
       "159     마장동\n",
       "168    행당2동\n",
       "       ... \n",
       "873    오류2동\n",
       "882     가산동\n",
       "885    독산1동\n",
       "891    독산3동\n",
       "897    시흥1동\n",
       "Name: 동, Length: 86, dtype: object"
      ]
     },
     "execution_count": 491,
     "metadata": {},
     "output_type": "execute_result"
    }
   ],
   "source": [
    "dong=people_mean_high[contain_gu][\"동\"]\n",
    "dong"
   ]
  },
  {
   "cell_type": "code",
   "execution_count": 492,
   "id": "undefined-reading",
   "metadata": {},
   "outputs": [],
   "source": [
    "qaz=np.array(yeoui_time_mean_top2.tolist())"
   ]
  },
  {
   "cell_type": "code",
   "execution_count": 496,
   "id": "furnished-calendar",
   "metadata": {},
   "outputs": [],
   "source": [
    "y = [line.rstrip(\"동\") for line in qaz]\n",
    "#y"
   ]
  },
  {
   "cell_type": "code",
   "execution_count": 497,
   "id": "gothic-founder",
   "metadata": {},
   "outputs": [],
   "source": [
    "aaaaa = dong.apply(lambda x: any(i in x for i in y))"
   ]
  },
  {
   "cell_type": "code",
   "execution_count": 498,
   "id": "dense-cache",
   "metadata": {},
   "outputs": [
    {
     "data": {
      "text/plain": [
       "168      행당2동\n",
       "219      중곡2동\n",
       "225      중곡4동\n",
       "231      구의1동\n",
       "234      구의2동\n",
       "237      구의3동\n",
       "243      자양1동\n",
       "246      자양2동\n",
       "249      자양3동\n",
       "282     답십리2동\n",
       "285      장안1동\n",
       "288      장안2동\n",
       "297     답십리1동\n",
       "303      면목2동\n",
       "342      면목본동\n",
       "345    면목3.8동\n",
       "378      길음1동\n",
       "480       창1동\n",
       "483       창2동\n",
       "489       창4동\n",
       "492       창5동\n",
       "564       녹번동\n",
       "567      불광1동\n",
       "588      신사1동\n",
       "600       진관동\n",
       "603      불광2동\n",
       "636     남가좌2동\n",
       "882       가산동\n",
       "897      시흥1동\n",
       "Name: 동, dtype: object"
      ]
     },
     "execution_count": 498,
     "metadata": {},
     "output_type": "execute_result"
    }
   ],
   "source": [
    "oo1 = dong[aaaaa == True]\n",
    "oo1"
   ]
  },
  {
   "cell_type": "code",
   "execution_count": 499,
   "id": "determined-protest",
   "metadata": {},
   "outputs": [],
   "source": [
    "qaz=np.array(yeok_time_mean_top2.tolist())"
   ]
  },
  {
   "cell_type": "code",
   "execution_count": 500,
   "id": "sustainable-tribune",
   "metadata": {},
   "outputs": [],
   "source": [
    "y = [line.rstrip(\"동\") for line in qaz]\n",
    "#y"
   ]
  },
  {
   "cell_type": "code",
   "execution_count": 501,
   "id": "macro-collectible",
   "metadata": {},
   "outputs": [],
   "source": [
    "aaaaa = dong.apply(lambda x: any(i in x for i in y))"
   ]
  },
  {
   "cell_type": "code",
   "execution_count": 502,
   "id": "institutional-bernard",
   "metadata": {},
   "outputs": [
    {
     "data": {
      "text/plain": [
       "303      면목2동\n",
       "315      상봉1동\n",
       "342      면목본동\n",
       "345    면목3.8동\n",
       "480       창1동\n",
       "483       창2동\n",
       "489       창4동\n",
       "492       창5동\n",
       "564       녹번동\n",
       "567      불광1동\n",
       "588      신사1동\n",
       "603      불광2동\n",
       "618      홍제1동\n",
       "852      개봉2동\n",
       "858      오류1동\n",
       "870      개봉1동\n",
       "873      오류2동\n",
       "882       가산동\n",
       "897      시흥1동\n",
       "Name: 동, dtype: object"
      ]
     },
     "execution_count": 502,
     "metadata": {},
     "output_type": "execute_result"
    }
   ],
   "source": [
    "oo2 = dong[aaaaa == True]\n",
    "oo2"
   ]
  },
  {
   "cell_type": "code",
   "execution_count": 503,
   "id": "annual-reading",
   "metadata": {},
   "outputs": [],
   "source": [
    "qaz=np.array(ga_time_mean_top2.tolist())"
   ]
  },
  {
   "cell_type": "code",
   "execution_count": 504,
   "id": "rapid-alberta",
   "metadata": {},
   "outputs": [],
   "source": [
    "y = [line.rstrip(\"동\") for line in qaz]\n",
    "#y"
   ]
  },
  {
   "cell_type": "code",
   "execution_count": 505,
   "id": "narrative-queue",
   "metadata": {},
   "outputs": [],
   "source": [
    "aaaaa = dong.apply(lambda x: any(i in x for i in y))"
   ]
  },
  {
   "cell_type": "code",
   "execution_count": 506,
   "id": "thermal-threat",
   "metadata": {},
   "outputs": [
    {
     "data": {
      "text/plain": [
       "210       화양동\n",
       "219      중곡2동\n",
       "225      중곡4동\n",
       "243      자양1동\n",
       "246      자양2동\n",
       "249      자양3동\n",
       "273       제기동\n",
       "276      전농1동\n",
       "303      면목2동\n",
       "315      상봉1동\n",
       "342      면목본동\n",
       "345    면목3.8동\n",
       "480       창1동\n",
       "483       창2동\n",
       "489       창4동\n",
       "492       창5동\n",
       "567      불광1동\n",
       "588      신사1동\n",
       "603      불광2동\n",
       "Name: 동, dtype: object"
      ]
     },
     "execution_count": 506,
     "metadata": {},
     "output_type": "execute_result"
    }
   ],
   "source": [
    "oo3 = dong[aaaaa == True]\n",
    "oo3"
   ]
  },
  {
   "cell_type": "code",
   "execution_count": 507,
   "id": "noble-chocolate",
   "metadata": {},
   "outputs": [],
   "source": [
    "location_a = pd.concat([oo1,oo2,oo3])"
   ]
  },
  {
   "cell_type": "code",
   "execution_count": 508,
   "id": "remarkable-milton",
   "metadata": {},
   "outputs": [],
   "source": [
    "location_a1 = location_a.duplicated()"
   ]
  },
  {
   "cell_type": "code",
   "execution_count": 509,
   "id": "major-torture",
   "metadata": {},
   "outputs": [
    {
     "data": {
      "text/plain": [
       "303      면목2동\n",
       "342      면목본동\n",
       "345    면목3.8동\n",
       "480       창1동\n",
       "483       창2동\n",
       "489       창4동\n",
       "492       창5동\n",
       "564       녹번동\n",
       "567      불광1동\n",
       "588      신사1동\n",
       "603      불광2동\n",
       "882       가산동\n",
       "897      시흥1동\n",
       "219      중곡2동\n",
       "225      중곡4동\n",
       "243      자양1동\n",
       "246      자양2동\n",
       "249      자양3동\n",
       "315      상봉1동\n",
       "Name: 동, dtype: object"
      ]
     },
     "execution_count": 509,
     "metadata": {},
     "output_type": "execute_result"
    }
   ],
   "source": [
    "location_a2 = location_a[location_a1 == True]\n",
    "location_a2.drop_duplicates()"
   ]
  },
  {
   "cell_type": "markdown",
   "id": "complimentary-corrections",
   "metadata": {},
   "source": [
    "소득수준 상 & 핵심생산인구 상"
   ]
  },
  {
   "cell_type": "code",
   "execution_count": 510,
   "id": "spoken-standing",
   "metadata": {},
   "outputs": [
    {
     "data": {
      "text/plain": [
       "123      용산구\n",
       "159      성동구\n",
       "210      광진구\n",
       "264     동대문구\n",
       "303      중랑구\n",
       "357      성북구\n",
       "432      강북구\n",
       "471      도봉구\n",
       "507      노원구\n",
       "564      은평구\n",
       "618     서대문구\n",
       "669      마포구\n",
       "711      양천구\n",
       "768      강서구\n",
       "831      구로구\n",
       "882      금천구\n",
       "915     영등포구\n",
       "975      동작구\n",
       "1020     관악구\n",
       "1092     서초구\n",
       "1146     강남구\n",
       "1215     송파구\n",
       "1296     강동구\n",
       "Name: 자치구, dtype: object"
      ]
     },
     "execution_count": 510,
     "metadata": {},
     "output_type": "execute_result"
    }
   ],
   "source": [
    "pmt = people_mean_t[\"자치구\"]\n",
    "pmt = pmt.drop_duplicates()\n",
    "pmt"
   ]
  },
  {
   "cell_type": "code",
   "execution_count": 511,
   "id": "palestinian-backup",
   "metadata": {},
   "outputs": [],
   "source": [
    "pmt_iml = pd.concat([pmt,income_mean_high])"
   ]
  },
  {
   "cell_type": "code",
   "execution_count": 512,
   "id": "excessive-threshold",
   "metadata": {},
   "outputs": [],
   "source": [
    "pmt_iml2 = list(np.array(pmt_iml.tolist()))"
   ]
  },
  {
   "cell_type": "code",
   "execution_count": 513,
   "id": "great-event",
   "metadata": {},
   "outputs": [],
   "source": [
    "pi_list = [ i.replace(' ','') for i in pmt_iml2 ]"
   ]
  },
  {
   "cell_type": "code",
   "execution_count": 514,
   "id": "judicial-cambodia",
   "metadata": {},
   "outputs": [],
   "source": [
    "pi_df=pd.DataFrame(pi_list)"
   ]
  },
  {
   "cell_type": "code",
   "execution_count": 515,
   "id": "closed-burton",
   "metadata": {},
   "outputs": [],
   "source": [
    "pi_df2 = pi_df.duplicated()"
   ]
  },
  {
   "cell_type": "code",
   "execution_count": 516,
   "id": "vocational-chick",
   "metadata": {},
   "outputs": [
    {
     "data": {
      "text/plain": [
       "23     강남구\n",
       "24     강동구\n",
       "25     강서구\n",
       "26     관악구\n",
       "27     노원구\n",
       "28     동작구\n",
       "29     마포구\n",
       "30     서초구\n",
       "31     송파구\n",
       "32     양천구\n",
       "33    영등포구\n",
       "Name: 0, dtype: object"
      ]
     },
     "execution_count": 516,
     "metadata": {},
     "output_type": "execute_result"
    }
   ],
   "source": [
    "peole_high_income_high = pi_df[pi_df2 == True]\n",
    "peole_high_income_high = peole_high_income_high[0]\n",
    "peole_high_income_high"
   ]
  },
  {
   "cell_type": "code",
   "execution_count": 517,
   "id": "intimate-flashing",
   "metadata": {},
   "outputs": [],
   "source": [
    "contain_gu1=people_mean_high['자치구'].str.contains(\"강남구|강동구|강서구|관악구|노원구|동작구|마포구|서초구|송파구|양천구|영등포구\")"
   ]
  },
  {
   "cell_type": "code",
   "execution_count": 518,
   "id": "inner-notice",
   "metadata": {},
   "outputs": [
    {
     "data": {
      "text/plain": [
       "507     월계2동\n",
       "510     월계3동\n",
       "513     공릉2동\n",
       "516     하계1동\n",
       "522     중계본동\n",
       "        ... \n",
       "1332    성내3동\n",
       "1338    둔촌2동\n",
       "1341    암사1동\n",
       "1344    천호2동\n",
       "1347      길동\n",
       "Name: 동, Length: 114, dtype: object"
      ]
     },
     "execution_count": 518,
     "metadata": {},
     "output_type": "execute_result"
    }
   ],
   "source": [
    "dong=people_mean_high[contain_gu1][\"동\"]\n",
    "dong"
   ]
  },
  {
   "cell_type": "code",
   "execution_count": 519,
   "id": "entire-encoding",
   "metadata": {},
   "outputs": [],
   "source": [
    "qaz=np.array(yeoui_time_mean_top2.tolist())"
   ]
  },
  {
   "cell_type": "code",
   "execution_count": 520,
   "id": "paperback-wesley",
   "metadata": {},
   "outputs": [],
   "source": [
    "y = [line.rstrip(\"동\") for line in qaz]"
   ]
  },
  {
   "cell_type": "code",
   "execution_count": 521,
   "id": "hybrid-boost",
   "metadata": {},
   "outputs": [],
   "source": [
    "aaaaa = dong.apply(lambda x: any(i in x for i in y))"
   ]
  },
  {
   "cell_type": "code",
   "execution_count": 522,
   "id": "disciplinary-transcript",
   "metadata": {},
   "outputs": [
    {
     "data": {
      "text/plain": [
       "513       공릉2동\n",
       "531       상계1동\n",
       "549     상계3.4동\n",
       "552     상계6.7동\n",
       "558       공릉1동\n",
       "768        염창동\n",
       "813       방화1동\n",
       "1050       신사동\n",
       "1092      서초3동\n",
       "1095      서초4동\n",
       "1155      삼성2동\n",
       "1173      도곡2동\n",
       "1203      대치2동\n",
       "1233      방이2동\n",
       "1248       석촌동\n",
       "1254      가락본동\n",
       "1257      가락1동\n",
       "1260      가락2동\n",
       "1269      잠실본동\n",
       "1281      잠실2동\n",
       "1284      잠실3동\n",
       "1299       상일동\n",
       "1302      명일1동\n",
       "1329      성내2동\n",
       "1332      성내3동\n",
       "1338      둔촌2동\n",
       "Name: 동, dtype: object"
      ]
     },
     "execution_count": 522,
     "metadata": {},
     "output_type": "execute_result"
    }
   ],
   "source": [
    "oo1 = dong[aaaaa == True]\n",
    "oo1"
   ]
  },
  {
   "cell_type": "code",
   "execution_count": 523,
   "id": "understood-valuation",
   "metadata": {},
   "outputs": [],
   "source": [
    "qaz=np.array(yeok_time_mean_top2.tolist())"
   ]
  },
  {
   "cell_type": "code",
   "execution_count": 524,
   "id": "oriental-identifier",
   "metadata": {},
   "outputs": [],
   "source": [
    "y = [line.rstrip(\"동\") for line in qaz]"
   ]
  },
  {
   "cell_type": "code",
   "execution_count": 525,
   "id": "utility-sampling",
   "metadata": {},
   "outputs": [],
   "source": [
    "aaaaa = dong.apply(lambda x: any(i in x for i in y))"
   ]
  },
  {
   "cell_type": "code",
   "execution_count": 526,
   "id": "second-memphis",
   "metadata": {},
   "outputs": [
    {
     "data": {
      "text/plain": [
       "513       공릉2동\n",
       "531       상계1동\n",
       "549     상계3.4동\n",
       "552     상계6.7동\n",
       "558       공릉1동\n",
       "672        서교동\n",
       "711        목1동\n",
       "714        목2동\n",
       "717        목3동\n",
       "720        목4동\n",
       "750       신정3동\n",
       "753       신정6동\n",
       "756       신정7동\n",
       "759        목5동\n",
       "762       신정4동\n",
       "768        염창동\n",
       "780       화곡본동\n",
       "792       화곡6동\n",
       "795       화곡8동\n",
       "813       방화1동\n",
       "822       화곡1동\n",
       "1050       신사동\n",
       "1299       상일동\n",
       "Name: 동, dtype: object"
      ]
     },
     "execution_count": 526,
     "metadata": {},
     "output_type": "execute_result"
    }
   ],
   "source": [
    "oo2 = dong[aaaaa == True]\n",
    "oo2"
   ]
  },
  {
   "cell_type": "code",
   "execution_count": 527,
   "id": "parliamentary-legislature",
   "metadata": {},
   "outputs": [],
   "source": [
    "qaz=np.array(ga_time_mean_top2.tolist())"
   ]
  },
  {
   "cell_type": "code",
   "execution_count": 528,
   "id": "exceptional-exemption",
   "metadata": {},
   "outputs": [],
   "source": [
    "y = [line.rstrip(\"동\") for line in qaz]"
   ]
  },
  {
   "cell_type": "code",
   "execution_count": 529,
   "id": "contemporary-lighting",
   "metadata": {},
   "outputs": [],
   "source": [
    "aaaaa = dong.apply(lambda x: any(i in x for i in y))"
   ]
  },
  {
   "cell_type": "code",
   "execution_count": 530,
   "id": "filled-dividend",
   "metadata": {},
   "outputs": [
    {
     "data": {
      "text/plain": [
       "507       월계2동\n",
       "510       월계3동\n",
       "513       공릉2동\n",
       "531       상계1동\n",
       "549     상계3.4동\n",
       "552     상계6.7동\n",
       "558       공릉1동\n",
       "693        상암동\n",
       "768        염창동\n",
       "813       방화1동\n",
       "1050       신사동\n",
       "1269      잠실본동\n",
       "1281      잠실2동\n",
       "1284      잠실3동\n",
       "Name: 동, dtype: object"
      ]
     },
     "execution_count": 530,
     "metadata": {},
     "output_type": "execute_result"
    }
   ],
   "source": [
    "oo3 = dong[aaaaa == True]\n",
    "oo3"
   ]
  },
  {
   "cell_type": "code",
   "execution_count": 531,
   "id": "gentle-composition",
   "metadata": {},
   "outputs": [],
   "source": [
    "location_b = pd.concat([oo1,oo2,oo3])"
   ]
  },
  {
   "cell_type": "code",
   "execution_count": 532,
   "id": "decent-matter",
   "metadata": {},
   "outputs": [],
   "source": [
    "location_b1 = location_b.duplicated()"
   ]
  },
  {
   "cell_type": "code",
   "execution_count": 533,
   "id": "dimensional-toolbox",
   "metadata": {},
   "outputs": [
    {
     "data": {
      "text/plain": [
       "513       공릉2동\n",
       "531       상계1동\n",
       "549     상계3.4동\n",
       "552     상계6.7동\n",
       "558       공릉1동\n",
       "768        염창동\n",
       "813       방화1동\n",
       "1050       신사동\n",
       "1299       상일동\n",
       "1269      잠실본동\n",
       "1281      잠실2동\n",
       "1284      잠실3동\n",
       "Name: 동, dtype: object"
      ]
     },
     "execution_count": 533,
     "metadata": {},
     "output_type": "execute_result"
    }
   ],
   "source": [
    "location_b2 = location_b[location_b1 == True]\n",
    "location_b2.drop_duplicates()"
   ]
  },
  {
   "cell_type": "markdown",
   "id": "beautiful-mounting",
   "metadata": {},
   "source": [
    "소득수준 하 & 핵심생산인구 하"
   ]
  },
  {
   "cell_type": "code",
   "execution_count": 534,
   "id": "checked-viking",
   "metadata": {},
   "outputs": [],
   "source": [
    "pmt = people_mean_f[\"자치구\"]\n",
    "pmt = pmt.drop_duplicates()\n",
    "#pmt.head(10)"
   ]
  },
  {
   "cell_type": "code",
   "execution_count": 535,
   "id": "constitutional-corrections",
   "metadata": {},
   "outputs": [],
   "source": [
    "pmt_iml = pd.concat([pmt,income_mean_low])"
   ]
  },
  {
   "cell_type": "code",
   "execution_count": 536,
   "id": "stainless-addition",
   "metadata": {},
   "outputs": [],
   "source": [
    "pmt_iml2 = list(np.array(pmt_iml.tolist()))"
   ]
  },
  {
   "cell_type": "code",
   "execution_count": 537,
   "id": "solid-destination",
   "metadata": {},
   "outputs": [],
   "source": [
    "pi_list = [ i.replace(' ','') for i in pmt_iml2 ]"
   ]
  },
  {
   "cell_type": "code",
   "execution_count": 538,
   "id": "fourth-lyric",
   "metadata": {},
   "outputs": [],
   "source": [
    "pi_df=pd.DataFrame(pi_list)"
   ]
  },
  {
   "cell_type": "code",
   "execution_count": 540,
   "id": "advance-hobby",
   "metadata": {},
   "outputs": [],
   "source": [
    "pi_df2 = pi_df.duplicated()"
   ]
  },
  {
   "cell_type": "code",
   "execution_count": 541,
   "id": "advance-paragraph",
   "metadata": {},
   "outputs": [
    {
     "data": {
      "text/plain": [
       "25     강북구\n",
       "26     광진구\n",
       "27     구로구\n",
       "28     금천구\n",
       "29     도봉구\n",
       "30    동대문구\n",
       "31    서대문구\n",
       "32     성동구\n",
       "33     성북구\n",
       "34     용산구\n",
       "35     은평구\n",
       "36     종로구\n",
       "37      중구\n",
       "38     중랑구\n",
       "Name: 0, dtype: object"
      ]
     },
     "execution_count": 541,
     "metadata": {},
     "output_type": "execute_result"
    }
   ],
   "source": [
    "peole_low_income_low = pi_df[pi_df2 == True]\n",
    "peole_low_income_low = peole_low_income_low[0]\n",
    "peole_low_income_low"
   ]
  },
  {
   "cell_type": "code",
   "execution_count": 542,
   "id": "biblical-tunnel",
   "metadata": {},
   "outputs": [],
   "source": [
    "contain_gu2=people_mean_low['자치구'].str.contains(\"강북구|광진구|구로구|금천구|도봉구|동대문구|서대문구|성동구|성북구|용산구|은평구|종로구|중구|중랑구\")"
   ]
  },
  {
   "cell_type": "code",
   "execution_count": 543,
   "id": "encouraging-period",
   "metadata": {},
   "outputs": [
    {
     "data": {
      "text/plain": [
       "3       사직동\n",
       "6       삼청동\n",
       "9       부암동\n",
       "12      평창동\n",
       "15      무악동\n",
       "       ... \n",
       "894    독산4동\n",
       "900    시흥2동\n",
       "903    시흥3동\n",
       "906    시흥4동\n",
       "909    시흥5동\n",
       "Name: 동, Length: 127, dtype: object"
      ]
     },
     "execution_count": 543,
     "metadata": {},
     "output_type": "execute_result"
    }
   ],
   "source": [
    "dong=people_mean_low[contain_gu2][\"동\"]\n",
    "dong"
   ]
  },
  {
   "cell_type": "code",
   "execution_count": 544,
   "id": "packed-involvement",
   "metadata": {},
   "outputs": [],
   "source": [
    "qaz=np.array(yeoui_time_mean_top2.tolist())"
   ]
  },
  {
   "cell_type": "code",
   "execution_count": 545,
   "id": "forty-documentation",
   "metadata": {},
   "outputs": [],
   "source": [
    "y = [line.rstrip(\"동\") for line in qaz]"
   ]
  },
  {
   "cell_type": "code",
   "execution_count": 546,
   "id": "former-commercial",
   "metadata": {},
   "outputs": [],
   "source": [
    "aaaaa = dong.apply(lambda x: any(i in x for i in y))"
   ]
  },
  {
   "cell_type": "code",
   "execution_count": 547,
   "id": "selective-pontiac",
   "metadata": {},
   "outputs": [
    {
     "data": {
      "text/plain": [
       "12       평창동\n",
       "33      창신1동\n",
       "36      창신2동\n",
       "39      창신3동\n",
       "117      효창동\n",
       "165     행당1동\n",
       "216     중곡1동\n",
       "222     중곡3동\n",
       "252     자양4동\n",
       "306     면목4동\n",
       "309     면목5동\n",
       "312     면목7동\n",
       "381     길음2동\n",
       "417      번1동\n",
       "420      번2동\n",
       "423      번3동\n",
       "438      미아동\n",
       "486      창3동\n",
       "591     신사2동\n",
       "633    남가좌1동\n",
       "900     시흥2동\n",
       "903     시흥3동\n",
       "906     시흥4동\n",
       "909     시흥5동\n",
       "Name: 동, dtype: object"
      ]
     },
     "execution_count": 547,
     "metadata": {},
     "output_type": "execute_result"
    }
   ],
   "source": [
    "oo1 = dong[aaaaa == True]\n",
    "oo1"
   ]
  },
  {
   "cell_type": "code",
   "execution_count": 548,
   "id": "advised-notebook",
   "metadata": {},
   "outputs": [],
   "source": [
    "qaz=np.array(yeok_time_mean_top2.tolist())"
   ]
  },
  {
   "cell_type": "code",
   "execution_count": 549,
   "id": "found-alexander",
   "metadata": {},
   "outputs": [],
   "source": [
    "y = [line.rstrip(\"동\") for line in qaz]"
   ]
  },
  {
   "cell_type": "code",
   "execution_count": 550,
   "id": "available-toilet",
   "metadata": {},
   "outputs": [],
   "source": [
    "aaaaa = dong.apply(lambda x: any(i in x for i in y))"
   ]
  },
  {
   "cell_type": "code",
   "execution_count": 551,
   "id": "acquired-ottawa",
   "metadata": {},
   "outputs": [
    {
     "data": {
      "text/plain": [
       "12      평창동\n",
       "33     창신1동\n",
       "36     창신2동\n",
       "39     창신3동\n",
       "117     효창동\n",
       "306    면목4동\n",
       "309    면목5동\n",
       "312    면목7동\n",
       "318    상봉2동\n",
       "417     번1동\n",
       "420     번2동\n",
       "423     번3동\n",
       "438     미아동\n",
       "486     창3동\n",
       "591    신사2동\n",
       "621    홍제3동\n",
       "624    홍제2동\n",
       "855    개봉3동\n",
       "900    시흥2동\n",
       "903    시흥3동\n",
       "906    시흥4동\n",
       "909    시흥5동\n",
       "Name: 동, dtype: object"
      ]
     },
     "execution_count": 551,
     "metadata": {},
     "output_type": "execute_result"
    }
   ],
   "source": [
    "oo2 = dong[aaaaa == True]\n",
    "oo2"
   ]
  },
  {
   "cell_type": "code",
   "execution_count": 552,
   "id": "legal-heaven",
   "metadata": {},
   "outputs": [],
   "source": [
    "qaz=np.array(ga_time_mean_top2.tolist())"
   ]
  },
  {
   "cell_type": "code",
   "execution_count": 553,
   "id": "labeled-marsh",
   "metadata": {},
   "outputs": [],
   "source": [
    "y = [line.rstrip(\"동\") for line in qaz]"
   ]
  },
  {
   "cell_type": "code",
   "execution_count": 554,
   "id": "functioning-submission",
   "metadata": {},
   "outputs": [],
   "source": [
    "aaaaa = dong.apply(lambda x: any(i in x for i in y))"
   ]
  },
  {
   "cell_type": "code",
   "execution_count": 555,
   "id": "gorgeous-caution",
   "metadata": {},
   "outputs": [
    {
     "data": {
      "text/plain": [
       "12      평창동\n",
       "33     창신1동\n",
       "36     창신2동\n",
       "39     창신3동\n",
       "117     효창동\n",
       "216    중곡1동\n",
       "222    중곡3동\n",
       "252    자양4동\n",
       "279    전농2동\n",
       "306    면목4동\n",
       "309    면목5동\n",
       "312    면목7동\n",
       "318    상봉2동\n",
       "438     미아동\n",
       "486     창3동\n",
       "591    신사2동\n",
       "Name: 동, dtype: object"
      ]
     },
     "execution_count": 555,
     "metadata": {},
     "output_type": "execute_result"
    }
   ],
   "source": [
    "oo3 = dong[aaaaa == True]\n",
    "oo3"
   ]
  },
  {
   "cell_type": "code",
   "execution_count": 556,
   "id": "parliamentary-decrease",
   "metadata": {},
   "outputs": [],
   "source": [
    "location_c = pd.concat([oo1,oo2,oo3])"
   ]
  },
  {
   "cell_type": "code",
   "execution_count": 557,
   "id": "theoretical-plaza",
   "metadata": {},
   "outputs": [],
   "source": [
    "location_c1 = location_c.duplicated()"
   ]
  },
  {
   "cell_type": "code",
   "execution_count": 560,
   "id": "advisory-handling",
   "metadata": {},
   "outputs": [
    {
     "data": {
      "text/plain": [
       "12      평창동\n",
       "33     창신1동\n",
       "36     창신2동\n",
       "39     창신3동\n",
       "117     효창동\n",
       "306    면목4동\n",
       "309    면목5동\n",
       "312    면목7동\n",
       "417     번1동\n",
       "420     번2동\n",
       "423     번3동\n",
       "438     미아동\n",
       "486     창3동\n",
       "591    신사2동\n",
       "900    시흥2동\n",
       "903    시흥3동\n",
       "906    시흥4동\n",
       "909    시흥5동\n",
       "216    중곡1동\n",
       "222    중곡3동\n",
       "252    자양4동\n",
       "318    상봉2동\n",
       "Name: 동, dtype: object"
      ]
     },
     "execution_count": 560,
     "metadata": {},
     "output_type": "execute_result"
    }
   ],
   "source": [
    "location_c2 = location_c[location_c1 == True]\n",
    "location_c2.drop_duplicates()"
   ]
  }
 ],
 "metadata": {
  "kernelspec": {
   "display_name": "Python 3",
   "language": "python",
   "name": "python3"
  },
  "language_info": {
   "codemirror_mode": {
    "name": "ipython",
    "version": 3
   },
   "file_extension": ".py",
   "mimetype": "text/x-python",
   "name": "python",
   "nbconvert_exporter": "python",
   "pygments_lexer": "ipython3",
   "version": "3.8.8"
  }
 },
 "nbformat": 4,
 "nbformat_minor": 5
}
